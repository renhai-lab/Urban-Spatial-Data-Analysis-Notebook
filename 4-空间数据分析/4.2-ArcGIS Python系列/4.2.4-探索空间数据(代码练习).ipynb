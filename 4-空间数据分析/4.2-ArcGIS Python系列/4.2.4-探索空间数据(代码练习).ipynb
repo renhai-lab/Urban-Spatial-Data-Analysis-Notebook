{
 "cells": [
  {
   "cell_type": "markdown",
   "source": [
    "# 4.2.5-探索空间数据(代码练习)\n",
    "> 详细说明请阅读 **4.2.5-探索空间数据.md** 文件，资料在 [data1文件夹](4-空间数据分析\\4.2-arcpy\\resource\\data1)\n",
    "本章介绍了探索空间数据的几种方法，包括检查数据集是否存在、描述数据集以及列出工作空间中的数据集。列表函数不仅用于列出数据集，还用于列出工作区、字段和表等元素。内置的 Python 函数可用于操作列表。列表在脚本中很常见，因为它们可以迭代元素以自动化工作流程。"
   ],
   "metadata": {
    "collapsed": false
   },
   "id": "d69c3741692b8d9"
  },
  {
   "cell_type": "markdown",
   "source": [
    "### 1.检查数据是否存在"
   ],
   "metadata": {
    "collapsed": false
   },
   "id": "2c08c7508f46852c"
  },
  {
   "cell_type": "code",
   "execution_count": null,
   "outputs": [],
   "source": [
    "import arcpy,os\n",
    "arcpy.env.workspace = os.path.join(os.getcwd(), \"resource/data1\", \"demo.gdb\")\n",
    "print(arcpy.Exists(\"streets\")) # 可以写绝对路径"
   ],
   "metadata": {
    "collapsed": false
   },
   "id": "30a56a4db95bf2fa"
  },
  {
   "cell_type": "markdown",
   "source": [
    "### 2.描述数据"
   ],
   "metadata": {
    "collapsed": false
   },
   "id": "b56cfdf0a77bf95e"
  },
  {
   "cell_type": "code",
   "execution_count": null,
   "id": "fc693294",
   "metadata": {},
   "outputs": [],
   "source": [
    "desc = arcpy.Describe(\"streets\")\n",
    "print(desc.shapeType)"
   ]
  },
  {
   "cell_type": "code",
   "execution_count": null,
   "outputs": [],
   "source": [
    "desc = arcpy.da.Describe(\"streets\")\n",
    "print(desc[\"shapeType\"])"
   ],
   "metadata": {
    "collapsed": false
   },
   "id": "de574005088c4832"
  },
  {
   "cell_type": "code",
   "execution_count": null,
   "outputs": [],
   "source": [
    "# 打印空间参考\n",
    "fc = \"streets\"\n",
    "desc = arcpy.da.Describe(fc)\n",
    "sr = desc[\"spatialReference\"]\n",
    "print(\"空间参考是：\" + sr.name)"
   ],
   "metadata": {
    "collapsed": false
   },
   "id": "c70751e642b834f3"
  },
  {
   "cell_type": "markdown",
   "source": [
    "### 3.列出数据\n",
    "`arcpy.ListFeatureClasses({wild_card}, {feature_type}, {feature_dataset})`\n",
    "- wild_card指通配符限制列表，类似于git的忽略文件中的匹配模式，\"*\"代表的是通配符，等同字符串\"\"。\"s*\"可以匹配shanghai也可以匹配shenzhen。\n",
    "- feature type将限制结果的要素类型。"
   ],
   "metadata": {
    "collapsed": false
   },
   "id": "e4bf8cdbcb6d0acb"
  },
  {
   "cell_type": "code",
   "execution_count": null,
   "id": "f80f6760",
   "metadata": {},
   "outputs": [],
   "source": [
    "# 查看data1文件夹下有什么文件\n",
    "arcpy.env.workspace = os.path.join(os.getcwd(), \"resource/data1\")\n",
    "fclist = arcpy.ListFeatureClasses()\n",
    "print(fclist)"
   ]
  },
  {
   "cell_type": "code",
   "execution_count": null,
   "outputs": [],
   "source": [
    "# 查看data1文件夹下street道路多段线相关的文件\n",
    "fclist = arcpy.ListFeatureClasses(\"street*\", \"polyline\")\n",
    "print(fclist)"
   ],
   "metadata": {
    "collapsed": false
   },
   "id": "90011f55c0749e54"
  },
  {
   "cell_type": "markdown",
   "id": "6103cbfc",
   "metadata": {},
   "source": [
    "与之类似的是返回当前工作空间中的数据集的列表[`ListDatasets`](https://pro.arcgis.com/zh-cn/pro-app/latest/arcpy/functions/listdatasets.htm)。他们俩可以结合来用："
   ]
  },
  {
   "cell_type": "code",
   "execution_count": null,
   "outputs": [],
   "source": [
    "arcpy.env.workspace = os.path.join(os.getcwd(), \"resource/data1\", \"demo.gdb\")\n",
    "datasets = arcpy.ListDatasets(feature_type='feature')\n",
    "datasets"
   ],
   "metadata": {
    "collapsed": false
   },
   "id": "5cd1ba0ac45b1c42"
  },
  {
   "cell_type": "code",
   "execution_count": null,
   "id": "8c466e69",
   "metadata": {},
   "outputs": [],
   "source": [
    "arcpy.env.workspace = os.path.join(os.getcwd(), \"resource/data1\", \"demo.gdb\")\n",
    "datasets = arcpy.ListDatasets(feature_type='feature')\n",
    "datasets = [''] + datasets if datasets is not None else []\n",
    "for ds in datasets:\n",
    "    for fc in arcpy.ListFeatureClasses(feature_dataset=ds):\n",
    "        path = os.path.join(arcpy.env.workspace, ds, fc)\n",
    "        print(path)"
   ]
  },
  {
   "cell_type": "code",
   "execution_count": null,
   "id": "c6abc781",
   "metadata": {
    "lines_to_next_cell": 0
   },
   "outputs": [],
   "source": []
  },
  {
   "cell_type": "markdown",
   "id": "8677821b",
   "metadata": {},
   "source": []
  }
 ],
 "metadata": {
  "jupytext": {
   "cell_metadata_filter": "-all",
   "main_language": "python",
   "notebook_metadata_filter": "-all"
  },
  "kernelspec": {
   "name": "python3",
   "language": "python",
   "display_name": "Python 3 (ipykernel)"
  }
 },
 "nbformat": 4,
 "nbformat_minor": 5
}

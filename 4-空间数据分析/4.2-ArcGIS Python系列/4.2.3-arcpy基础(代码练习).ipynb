{
 "cells": [
  {
   "cell_type": "markdown",
   "id": "2c998397",
   "metadata": {},
   "source": [
    "# ArcPy基础知识代码示例\n",
    "> 详细说明请先阅读[4.2.3.1-arcpy基础.md](4.2.3.1-arcpy%BB%F9%B4%A1.md)，资料在[data1](resource%2Fdata1)，"
   ]
  },
  {
   "cell_type": "markdown",
   "id": "3f1bb017",
   "metadata": {},
   "source": [
    "## 示例1：将shapefile复制到地理数据库"
   ]
  },
  {
   "cell_type": "code",
   "execution_count": null,
   "id": "2091a227",
   "metadata": {},
   "outputs": [],
   "source": [
    "# 导入包\n",
    "import arcpy, os\n",
    "rootpath = os.getcwd()\n",
    "\n",
    "gdb = \"demo.gdb\"\n",
    "workspace = os.path.join(os.getcwd(), \"resource/data1\")\n",
    "arcpy.env.workspace = workspace"
   ]
  },
  {
   "cell_type": "code",
   "execution_count": null,
   "outputs": [],
   "source": [
    "arcpy.overwriteOutput = True # 允许覆盖输出"
   ],
   "metadata": {
    "collapsed": false
   },
   "id": "7a550c8667277c88"
  },
  {
   "cell_type": "code",
   "execution_count": null,
   "id": "80fd5318",
   "metadata": {
    "scrolled": true
   },
   "outputs": [],
   "source": [
    "# 创建地理数据库\n",
    "arcpy.CreateFileGDB_management(workspace, gdb) "
   ]
  },
  {
   "cell_type": "markdown",
   "id": "9692d5b6",
   "metadata": {},
   "source": [
    "可以看到在我们定义的工作空间中生成了一个空的gdb数据库：\n",
    "![生成结果](https://image-1315363329.cos.ap-shanghai.myqcloud.com/lessons/202308111549528.png)"
   ]
  },
  {
   "cell_type": "markdown",
   "id": "2aba484b",
   "metadata": {},
   "source": [
    "此时我们想把data1文件夹里所有多段线要素导入到数据库，首先列出当前工作空间的要素类："
   ]
  },
  {
   "cell_type": "code",
   "execution_count": null,
   "id": "90458318",
   "metadata": {},
   "outputs": [],
   "source": [
    "fc_list = arcpy.ListFeatureClasses()\n",
    "fc_list"
   ]
  },
  {
   "cell_type": "markdown",
   "id": "e489a2f1",
   "metadata": {},
   "source": [
    "我们把这两个要素类通过数据`arcpy.Describe`返回的对象中的数据类型`shapeType`进行判定，如果是多段线则构建输出文件名，"
   ]
  },
  {
   "cell_type": "code",
   "execution_count": null,
   "id": "7b07ed5e",
   "metadata": {},
   "outputs": [],
   "source": [
    "for fc in fc_list:\n",
    "    fc_desc = arcpy.Describe(fc)\n",
    "    if fc_desc.shapeType == \"Polyline\":\n",
    "        newfc = os.path.join(gdb, \"Polyline\",fc_desc.basename)\n",
    "newfc"
   ]
  },
  {
   "cell_type": "markdown",
   "id": "87768bbf",
   "metadata": {},
   "source": [
    "我们复制此要素到数据库"
   ]
  },
  {
   "cell_type": "code",
   "execution_count": null,
   "id": "4b9ea776",
   "metadata": {
    "lines_to_next_cell": 0
   },
   "outputs": [],
   "source": [
    "sr = arcpy.SpatialReference(os.path.join(workspace, \"streets.prj\")) # 读取shp文件的投影信息\n",
    "arcpy.CreateFeatureDataset_management(gdb, \"Polyline\", sr) # 在数据库中创建名叫Polyline的空白要素类\n",
    "\n",
    "        \n",
    "arcpy.CopyFeatures_management(fc, newfc)"
   ]
  },
  {
   "cell_type": "code",
   "execution_count": null,
   "id": "ca73faae",
   "metadata": {},
   "outputs": [],
   "source": [
    "sr"
   ]
  },
  {
   "cell_type": "code",
   "execution_count": null,
   "id": "36359b83",
   "metadata": {},
   "outputs": [],
   "source": [
    "sr.name"
   ]
  },
  {
   "cell_type": "code",
   "execution_count": null,
   "id": "423ffce0",
   "metadata": {
    "scrolled": true
   },
   "outputs": [],
   "source": [
    "sr.factoryCode "
   ]
  },
  {
   "cell_type": "code",
   "execution_count": null,
   "id": "598ae767",
   "metadata": {},
   "outputs": [],
   "source": [
    "sr.GCS.name, sr.GCS.factoryCode"
   ]
  },
  {
   "cell_type": "markdown",
   "source": [
    "## 示例2：缓冲区分析"
   ],
   "metadata": {
    "collapsed": false
   },
   "id": "dd73bc5a20b40fa4"
  },
  {
   "cell_type": "code",
   "execution_count": null,
   "id": "8edbb81e",
   "metadata": {},
   "outputs": [],
   "source": [
    "import arcpy\n",
    "arcpy.env.workspace = os.path.join(os.getcwd(), \"resource/data1\", \"demo.gdb\")\n",
    "arcpy.analysis.Buffer(\"streets\", \"streets_Buffered\", \"20 Meters\", \"FULL\", \"ROUND\", \"LIST\", \"LABEL_CLAS\")"
   ]
  },
  {
   "cell_type": "markdown",
   "id": "8979e764",
   "metadata": {
    "lines_to_next_cell": 0
   },
   "source": [
    "以上也可以改写成以下形式方便阅读："
   ]
  },
  {
   "cell_type": "code",
   "execution_count": null,
   "id": "9768265b",
   "metadata": {},
   "outputs": [],
   "source": [
    "arcpy.analysis.Buffer(in_features=\"streets\",out_feature_class= \"streets_Buffered_1\", buffer_distance_or_field=\"20 Meters\", line_side=\"FULL\", line_end_type=\"ROUND\", dissolve_option=\"LIST\", dissolve_field=\"LABEL_CLAS\")"
   ]
  },
  {
   "cell_type": "markdown",
   "id": "a737cf4e",
   "metadata": {},
   "source": [
    "你也可以单独定义变量，方便代码复用和制作脚本："
   ]
  },
  {
   "cell_type": "code",
   "execution_count": null,
   "id": "aed55265",
   "metadata": {},
   "outputs": [],
   "source": [
    "in_features=\"streets\"\n",
    "out_feature_class=\"streets_Buffered_2\"\n",
    "buffer_distance_or_field=\"20 Meters\"\n",
    "line_side=\"FULL\"\n",
    "line_end_type=\"ROUND\"\n",
    "dissolve_option=\"LIST\"\n",
    "dissolve_field=\"LABEL_CLAS\"\n",
    "\n",
    "arcpy.analysis.Buffer(in_features,out_feature_class, buffer_distance_or_field, line_side, line_end_type, dissolve_option, dissolve_field)"
   ]
  },
  {
   "cell_type": "markdown",
   "id": "21cc318d",
   "metadata": {},
   "source": [
    "## 指定参考系\n",
    "\n",
    "[ArcGIS Pro Geographic and Vertical Coordinate System Tables](https://pro.arcgisv.com/zh-cn/pro-app/latest/arcpy/get-started/pdf/geographic_coordinate_systems.pdf)\n",
    "\n",
    "[ArcGIS Pro Projected Coordinate System Tables](https://pro.arcgis.com/zh-cn/pro-app/latest/arcpy/get-started/pdf/projected_coordinate_systems.pdf)\n"
   ]
  },
  {
   "cell_type": "code",
   "execution_count": null,
   "outputs": [],
   "source": [
    "sr = arcpy.SpatialReference(\"GCS_WGS_1984\")\n"
   ],
   "metadata": {
    "collapsed": false
   },
   "id": "4cf73a9565d9215d"
  },
  {
   "cell_type": "code",
   "execution_count": null,
   "outputs": [],
   "source": [
    "sr2 = arcpy.SpatialReference(4326)"
   ],
   "metadata": {
    "collapsed": false
   },
   "id": "990f59a154cd7c05"
  },
  {
   "cell_type": "code",
   "execution_count": null,
   "outputs": [],
   "source": [
    "sr == sr2"
   ],
   "metadata": {
    "collapsed": false
   },
   "id": "90e729264fc10561"
  },
  {
   "cell_type": "code",
   "execution_count": null,
   "outputs": [],
   "source": [],
   "metadata": {
    "collapsed": false
   },
   "id": "3fd7c666c981e9bd"
  }
 ],
 "metadata": {
  "kernelspec": {
   "display_name": "ArcGISPro",
   "language": "Python",
   "name": "python3"
  },
  "language_info": {
   "file_extension": ".py",
   "name": "python",
   "version": "3"
  },
  "varInspector": {
   "cols": {
    "lenName": 16,
    "lenType": 16,
    "lenVar": 40
   },
   "kernels_config": {
    "python": {
     "delete_cmd_postfix": "",
     "delete_cmd_prefix": "del ",
     "library": "var_list.py",
     "varRefreshCmd": "print(var_dic_list())"
    },
    "r": {
     "delete_cmd_postfix": ") ",
     "delete_cmd_prefix": "rm(",
     "library": "var_list.r",
     "varRefreshCmd": "cat(var_dic_list()) "
    }
   },
   "types_to_exclude": [
    "module",
    "function",
    "builtin_function_or_method",
    "instance",
    "_Feature"
   ],
   "window_display": false
  }
 },
 "nbformat": 4,
 "nbformat_minor": 5
}

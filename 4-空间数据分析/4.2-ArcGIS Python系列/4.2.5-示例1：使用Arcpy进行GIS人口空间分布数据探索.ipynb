{
 "cells": [
  {
   "cell_type": "markdown",
   "source": [
    "## 示例1：使用Arcpy进行GIS人口空间分布数据探索\n",
    "> 本示例简单演示了通过使用arcpy的几种列出数据的方法查看中国人口数据shp文件的信息，通过游标查询单个shp文件的属性表，探索其中的字段，并进行总人口的计算。\n",
    "> 本示例的数据文件在[第七次人口普查数据](https://github.com/renhai-lab/Urban-Spatial-Data-Analysis-Notebook/tree/4846a410da6c1f858ee64b02c14bdf610e08948a/4-%E7%A9%BA%E9%97%B4%E6%95%B0%E6%8D%AE%E5%88%86%E6%9E%90/4.2-%E3%80%90ArcGIS%20Python%E7%B3%BB%E5%88%97%E3%80%91/resource/%E7%AC%AC%E4%B8%83%E6%AC%A1%E4%BA%BA%E5%8F%A3%E6%99%AE%E6%9F%A5%E6%95%B0%E6%8D%AE)文件夹中。"
   ],
   "metadata": {
    "collapsed": false
   },
   "id": "49fc3211004515b0"
  },
  {
   "cell_type": "markdown",
   "source": [
    "\n",
    "> 本次数据为已处理好的分年龄、分性别的人口普查数据，来源于公众号\"立方数据学社\"。在'resource\\第七次人口普查数据'文件夹的目录结构如下：\n",
    "!['resource\\第七次人口普查数据'文件夹的目录](https://image-1315363329.cos.ap-shanghai.myqcloud.com/lessons/202308121110971.png)\n"
   ],
   "metadata": {
    "collapsed": false
   },
   "id": "a9d3ac3a273f9fb5"
  },
  {
   "cell_type": "code",
   "execution_count": 1,
   "outputs": [
    {
     "name": "stdout",
     "output_type": "stream",
     "text": [
      "分年龄、性别的人口_区县等级 Polygon\n",
      "分年龄、性别的人口_地级市等级 Polygon\n",
      "分年龄、性别的人口_省份等级 Polygon\n"
     ]
    }
   ],
   "source": [
    "import arcpy\n",
    "import os\n",
    "arcpy.env.workspace = os.path.join(os.getcwd(), \"resource/第七次人口普查数据\")\n",
    "\n",
    "# 此目录为多层结构，需要递归遍历\n",
    "walk = arcpy.da.Walk(arcpy.env.workspace, datatype=\"FeatureClass\")\n",
    "for dirpath, dirnames, filenames in walk:\n",
    "    for file in filenames:\n",
    "        # print(os.path.join(dirpath, file))\n",
    "        fc = os.path.join(dirpath, file)\n",
    "        desc = arcpy.da.Describe(fc)\n",
    "        print(desc[\"baseName\"], desc[\"shapeType\"])"
   ],
   "metadata": {
    "collapsed": false,
    "ExecuteTime": {
     "end_time": "2023-08-12T14:02:18.849690600Z",
     "start_time": "2023-08-12T14:02:09.603480600Z"
    }
   },
   "id": "fb6ef21fe538024c"
  },
  {
   "cell_type": "code",
   "execution_count": 2,
   "outputs": [
    {
     "data": {
      "text/plain": "<Result 'C:\\\\Users\\\\hncdj\\\\Documents\\\\Python_\\\\Python辅助城市研究\\\\Urban-Spatial-Data-Analysis-For-Beginners\\\\4-空间数据分析\\\\4.2-arcpy\\\\resource/第七次人口普查数据\\\\census.gdb'>",
      "text/html": "<div class='gpresult'><h2>Messages</h2><div id='messages' data-messages='[\"开始时间: 2023年8月12日 22:02:19\",\"运行 成功，结束时间： 2023年8月12日 22:02:19 (历时: 0.05 秒)\"]' data-show='true'><div id = 'default' /></div></div>"
     },
     "execution_count": 2,
     "metadata": {},
     "output_type": "execute_result"
    }
   ],
   "source": [
    "# 先创建一个文件数据库\n",
    "outgdb = \"census.gdb\"\n",
    "arcpy.CreateFileGDB_management(arcpy.env.workspace, outgdb)"
   ],
   "metadata": {
    "collapsed": false,
    "ExecuteTime": {
     "end_time": "2023-08-12T14:02:19.687154600Z",
     "start_time": "2023-08-12T14:02:18.852692700Z"
    }
   },
   "id": "aaadcbb2f14ce6f8"
  },
  {
   "cell_type": "markdown",
   "source": [
    "![](https://image-1315363329.cos.ap-shanghai.myqcloud.com/lessons/202308121108933.png)"
   ],
   "metadata": {
    "collapsed": false
   },
   "id": "a6733b386ee3e310"
  },
  {
   "cell_type": "code",
   "execution_count": 3,
   "outputs": [],
   "source": [
    "# 之后将所有的多边形类型的数据集都复制到这个文件数据库中\n",
    "walk = arcpy.da.Walk(arcpy.env.workspace, datatype=\"FeatureClass\")\n",
    "for dirpath, dirnames, filenames in walk:\n",
    "    for file in filenames:\n",
    "        fc = os.path.join(dirpath, file)\n",
    "        desc = arcpy.da.Describe(fc)\n",
    "        if desc[\"shapeType\"] == \"Polygon\":\n",
    "            outfc = os.path.join(outgdb, desc[\"baseName\"].replace(\"、\", \"_\")) # 不能有特殊字符：\"、\"\n",
    "            arcpy.CopyFeatures_management(fc, outfc)"
   ],
   "metadata": {
    "collapsed": false,
    "ExecuteTime": {
     "end_time": "2023-08-12T14:02:22.141152400Z",
     "start_time": "2023-08-12T14:02:19.690678700Z"
    }
   },
   "id": "b5a5d10261c5e69a"
  },
  {
   "cell_type": "markdown",
   "source": [
    "我们已经将shp文件导入到了数据库中：\n",
    "![](https://image-1315363329.cos.ap-shanghai.myqcloud.com/lessons/202308121125236.png)"
   ],
   "metadata": {
    "collapsed": false
   },
   "id": "e083c88a3babae1a"
  },
  {
   "cell_type": "markdown",
   "source": [
    "ArcGIS Pro中也提供了一种只能得导入方式叫[批量导入数据 (智能)](https://pro.arcgis.com/zh-cn/pro-app/latest/tool-reference/intelligence/batch-import-data.htm)，可以将 KML、KMZ、shapefile、Excel 工作表、表格文本文件、GeoJSON等文件导入地理数据库，支持文件夹和子文件夹导入，支持过滤。"
   ],
   "metadata": {
    "collapsed": false
   },
   "id": "a6aefb46025bae33"
  },
  {
   "cell_type": "code",
   "execution_count": 4,
   "outputs": [
    {
     "name": "stdout",
     "output_type": "stream",
     "text": [
      "共有3个shp文件\n"
     ]
    }
   ],
   "source": [
    "# 查看刚刚导入的要素的相关信息\n",
    "arcpy.env.workspace = os.path.join(os.getcwd(), \"resource/第七次人口普查数据\", \"census.gdb\")\n",
    "fc = arcpy.ListFeatureClasses()\n",
    "print(\"共有{}个shp文件\".format(len(fc)) )"
   ],
   "metadata": {
    "collapsed": false,
    "ExecuteTime": {
     "end_time": "2023-08-12T14:02:22.419442600Z",
     "start_time": "2023-08-12T14:02:22.143128100Z"
    }
   },
   "id": "45a7f4cf919ef43f"
  },
  {
   "cell_type": "code",
   "execution_count": 5,
   "outputs": [
    {
     "name": "stdout",
     "output_type": "stream",
     "text": [
      "第一个要素文件的名字是: 分年龄_性别的人口_区县等级\n"
     ]
    }
   ],
   "source": [
    "print(f\"第一个要素文件的名字是: {fc[0]}\")"
   ],
   "metadata": {
    "collapsed": false,
    "ExecuteTime": {
     "end_time": "2023-08-12T14:02:22.478765800Z",
     "start_time": "2023-08-12T14:02:22.422444Z"
    }
   },
   "id": "b2f11c13a30e0251"
  },
  {
   "cell_type": "code",
   "execution_count": 6,
   "outputs": [
    {
     "data": {
      "text/plain": "'GCS_WGS_1984'"
     },
     "execution_count": 6,
     "metadata": {},
     "output_type": "execute_result"
    }
   ],
   "source": [
    "# 查看第一个要素的空间参考\n",
    "sr = arcpy.Describe(fc[0]).spatialReference.name\n",
    "sr"
   ],
   "metadata": {
    "collapsed": false,
    "ExecuteTime": {
     "end_time": "2023-08-12T14:02:22.527128600Z",
     "start_time": "2023-08-12T14:02:22.436776700Z"
    }
   },
   "id": "74f9c78436a29c92"
  },
  {
   "cell_type": "markdown",
   "source": [
    "本次只探索空间数据，所以不需要进行投影。"
   ],
   "metadata": {
    "collapsed": false
   },
   "id": "7adf5fe4ade6ffa7"
  },
  {
   "cell_type": "code",
   "execution_count": 7,
   "outputs": [
    {
     "data": {
      "text/plain": "['OBJECTID',\n 'Shape',\n '地名',\n '区划码',\n '县级',\n '县级码',\n '县级类',\n '地级',\n '地级码',\n '地级类',\n '省级',\n '省级码',\n '省级类',\n 'F0_男',\n 'F0_女',\n 'F1_4_男',\n 'F1_4_女',\n 'F5_9_男',\n 'F5_9_女',\n 'F10_14_男',\n 'F10_14_女',\n 'F15_19_男',\n 'F15_19_女',\n 'F20_24_男',\n 'F20_24_女',\n 'F25_29_男',\n 'F25_29_女',\n 'F30_34_男',\n 'F30_34_女',\n 'F35_39_男',\n 'F35_39_女',\n 'F40_44_男',\n 'F40_44_女',\n 'F45_49_男',\n 'F45_49_女',\n 'F50_54_男',\n 'F50_54_女',\n 'F55_59_男',\n 'F55_59_女',\n 'F60_64_男',\n 'F60_64_女',\n 'F65_69_男',\n 'F65_69_女',\n 'F70_74_男',\n 'F70_74_女',\n 'F75_79_男',\n 'F75_79_女',\n 'F80_84_男',\n 'F80_84_女',\n 'F85及以上男',\n 'F85及以上女',\n 'Shape_Length',\n 'Shape_Area']"
     },
     "execution_count": 7,
     "metadata": {},
     "output_type": "execute_result"
    }
   ],
   "source": [
    "# 查看第一个要素文件的字段\n",
    "fields = arcpy.ListFields(fc[0])\n",
    "col = [field.name for field in fields]\n",
    "col"
   ],
   "metadata": {
    "collapsed": false,
    "ExecuteTime": {
     "end_time": "2023-08-12T14:02:22.684840900Z",
     "start_time": "2023-08-12T14:02:22.529131400Z"
    }
   },
   "id": "d51ce8a24e382268"
  },
  {
   "cell_type": "markdown",
   "source": [
    "### 下面我们通过游标查询一下分省份的人口数据"
   ],
   "metadata": {
    "collapsed": false
   },
   "id": "a37790f1cd6f3628"
  },
  {
   "cell_type": "code",
   "execution_count": 8,
   "outputs": [
    {
     "data": {
      "text/plain": "['分年龄_性别的人口_省份等级']"
     },
     "execution_count": 8,
     "metadata": {},
     "output_type": "execute_result"
    }
   ],
   "source": [
    "# 重复一下上面的步骤，过滤出分省份的要素\n",
    "fc = arcpy.ListFeatureClasses(\"*省份*\")\n",
    "fc"
   ],
   "metadata": {
    "collapsed": false,
    "ExecuteTime": {
     "end_time": "2023-08-12T14:02:22.837524600Z",
     "start_time": "2023-08-12T14:02:22.683717100Z"
    }
   },
   "id": "d85def75cc857ca6"
  },
  {
   "cell_type": "code",
   "execution_count": 9,
   "outputs": [
    {
     "data": {
      "text/plain": "['OBJECTID',\n 'Shape',\n '省',\n '省级码',\n '省类型',\n 'F0_男',\n 'F0_女',\n 'F1_4_男',\n 'F1_4_女',\n 'F5_9_男',\n 'F5_9_女',\n 'F10_14_男',\n 'F10_14_女',\n 'F15_19_男',\n 'F15_19_女',\n 'F20_24_男',\n 'F20_24_女',\n 'F25_29_男',\n 'F25_29_女',\n 'F30_34_男',\n 'F30_34_女',\n 'F35_39_男',\n 'F35_39_女',\n 'F40_44_男',\n 'F40_44_女',\n 'F45_49_男',\n 'F45_49_女',\n 'F50_54_男',\n 'F50_54_女',\n 'F55_59_男',\n 'F55_59_女',\n 'F60_64_男',\n 'F60_64_女',\n 'F65_69_男',\n 'F65_69_女',\n 'F70_74_男',\n 'F70_74_女',\n 'F75_79_男',\n 'F75_79_女',\n 'F80_84_男',\n 'F80_84_女',\n 'F85及以上男',\n 'F85及以上女',\n 'Shape_Length',\n 'Shape_Area']"
     },
     "execution_count": 9,
     "metadata": {},
     "output_type": "execute_result"
    }
   ],
   "source": [
    "# 查看其字段\n",
    "fields = arcpy.ListFields(fc[0])\n",
    "# 我们储存一下字段名\n",
    "field_names = [field.name for field in fields]\n",
    "field_names"
   ],
   "metadata": {
    "collapsed": false,
    "ExecuteTime": {
     "end_time": "2023-08-12T14:02:22.985951100Z",
     "start_time": "2023-08-12T14:02:22.835525Z"
    }
   },
   "id": "b3544357b55f0c4f"
  },
  {
   "cell_type": "markdown",
   "source": [
    "我们通过查询游标来查看一下是不是34个省份的数据都在"
   ],
   "metadata": {
    "collapsed": false
   },
   "id": "39863ba4eb2ddb38"
  },
  {
   "cell_type": "code",
   "execution_count": 10,
   "outputs": [
    {
     "name": "stdout",
     "output_type": "stream",
     "text": [
      "北京市\n",
      "天津市\n",
      "河北省\n",
      "山西省\n",
      "内蒙古自治区\n",
      "辽宁省\n",
      "吉林省\n",
      "黑龙江省\n",
      "上海市\n",
      "浙江省\n",
      "安徽省\n",
      "福建省\n",
      "江西省\n",
      "山东省\n",
      "河南省\n",
      "湖北省\n",
      "湖南省\n",
      "广东省\n",
      "广西壮族自治区\n",
      "海南省\n",
      "重庆市\n",
      "四川省\n",
      "贵州省\n",
      "云南省\n",
      "西藏自治区\n",
      "陕西省\n",
      "甘肃省\n",
      "青海省\n",
      "宁夏回族自治区\n",
      "新疆维吾尔自治区\n",
      "江苏省\n",
      "台湾省\n",
      "香港特别行政区\n",
      "澳门特别行政区\n",
      "一共有34个省份的数据\n"
     ]
    }
   ],
   "source": [
    "num = 0\n",
    "with arcpy.da.SearchCursor(fc[0], \"省\") as cursor:\n",
    "    for row in cursor:\n",
    "        print(row[0])\n",
    "        num += 1\n",
    "print(f\"一共有{num}个省份的数据\")"
   ],
   "metadata": {
    "collapsed": false,
    "ExecuteTime": {
     "end_time": "2023-08-12T14:02:23.047994600Z",
     "start_time": "2023-08-12T14:02:22.988961300Z"
    }
   },
   "id": "14316d4857d7b081"
  },
  {
   "cell_type": "markdown",
   "source": [
    "我们再通过总人口数来验证一下数据是否正确 "
   ],
   "metadata": {
    "collapsed": false
   },
   "id": "1a58c085bb07602f"
  },
  {
   "cell_type": "code",
   "execution_count": 11,
   "outputs": [
    {
     "data": {
      "text/plain": "<Result 'C:\\\\Users\\\\hncdj\\\\Documents\\\\Python_\\\\Python辅助城市研究\\\\Urban-Spatial-Data-Analysis-For-Beginners\\\\4-空间数据分析\\\\4.2-arcpy\\\\resource/第七次人口普查数据\\\\census.gdb\\\\分年龄_性别的人口_省份等级'>",
      "text/html": "<div class='gpresult'><h2>Messages</h2><div id='messages' data-messages='[\"开始时间: 2023年8月12日 22:02:23\",\"正在将 total 添加到 分年龄_性别的人口_省份等级...\",\"运行 成功，结束时间： 2023年8月12日 22:02:23 (历时: 0.08 秒)\"]' data-show='true'><div id = 'default' /></div></div>"
     },
     "execution_count": 11,
     "metadata": {},
     "output_type": "execute_result"
    }
   ],
   "source": [
    "# 首先要素表中并未统计总人口数，我们需要自己添加一个字段\n",
    "arcpy.AddField_management(fc[0], \"total\", \"LONG\")"
   ],
   "metadata": {
    "collapsed": false,
    "ExecuteTime": {
     "end_time": "2023-08-12T14:02:23.234345200Z",
     "start_time": "2023-08-12T14:02:23.050994700Z"
    }
   },
   "id": "e542e169cb40f353"
  },
  {
   "cell_type": "code",
   "execution_count": 12,
   "outputs": [
    {
     "data": {
      "text/plain": "['OBJECTID',\n 'Shape',\n '省',\n '省级码',\n '省类型',\n 'F0_男',\n 'F0_女',\n 'F1_4_男',\n 'F1_4_女',\n 'F5_9_男',\n 'F5_9_女',\n 'F10_14_男',\n 'F10_14_女',\n 'F15_19_男',\n 'F15_19_女',\n 'F20_24_男',\n 'F20_24_女',\n 'F25_29_男',\n 'F25_29_女',\n 'F30_34_男',\n 'F30_34_女',\n 'F35_39_男',\n 'F35_39_女',\n 'F40_44_男',\n 'F40_44_女',\n 'F45_49_男',\n 'F45_49_女',\n 'F50_54_男',\n 'F50_54_女',\n 'F55_59_男',\n 'F55_59_女',\n 'F60_64_男',\n 'F60_64_女',\n 'F65_69_男',\n 'F65_69_女',\n 'F70_74_男',\n 'F70_74_女',\n 'F75_79_男',\n 'F75_79_女',\n 'F80_84_男',\n 'F80_84_女',\n 'F85及以上男',\n 'F85及以上女',\n 'Shape_Length',\n 'Shape_Area',\n 'total']"
     },
     "execution_count": 12,
     "metadata": {},
     "output_type": "execute_result"
    }
   ],
   "source": [
    "# 重新获取一下字段 查看是否添加成功\n",
    "fields = arcpy.ListFields(fc[0])\n",
    "field_names = [field.name for field in fields]\n",
    "field_names"
   ],
   "metadata": {
    "collapsed": false,
    "ExecuteTime": {
     "end_time": "2023-08-12T14:02:23.328892300Z",
     "start_time": "2023-08-12T14:02:23.236348400Z"
    }
   },
   "id": "8288556bf98eca01"
  },
  {
   "cell_type": "code",
   "execution_count": 13,
   "outputs": [
    {
     "data": {
      "text/plain": "['F0_男',\n 'F0_女',\n 'F1_4_男',\n 'F1_4_女',\n 'F5_9_男',\n 'F5_9_女',\n 'F10_14_男',\n 'F10_14_女',\n 'F15_19_男',\n 'F15_19_女',\n 'F20_24_男',\n 'F20_24_女',\n 'F25_29_男',\n 'F25_29_女',\n 'F30_34_男',\n 'F30_34_女',\n 'F35_39_男',\n 'F35_39_女',\n 'F40_44_男',\n 'F40_44_女',\n 'F45_49_男',\n 'F45_49_女',\n 'F50_54_男',\n 'F50_54_女',\n 'F55_59_男',\n 'F55_59_女',\n 'F60_64_男',\n 'F60_64_女',\n 'F65_69_男',\n 'F65_69_女',\n 'F70_74_男',\n 'F70_74_女',\n 'F75_79_男',\n 'F75_79_女',\n 'F80_84_男',\n 'F80_84_女',\n 'F85及以上男',\n 'F85及以上女']"
     },
     "execution_count": 13,
     "metadata": {},
     "output_type": "execute_result"
    }
   ],
   "source": [
    "field_names[5:-3]"
   ],
   "metadata": {
    "collapsed": false,
    "ExecuteTime": {
     "end_time": "2023-08-12T14:02:23.339887200Z",
     "start_time": "2023-08-12T14:02:23.327890700Z"
    }
   },
   "id": "d9357bf56564f20c"
  },
  {
   "cell_type": "code",
   "execution_count": 14,
   "outputs": [
    {
     "data": {
      "text/plain": "'total'"
     },
     "execution_count": 14,
     "metadata": {},
     "output_type": "execute_result"
    }
   ],
   "source": [
    "field_names[-1]"
   ],
   "metadata": {
    "collapsed": false,
    "ExecuteTime": {
     "end_time": "2023-08-12T14:02:23.400220200Z",
     "start_time": "2023-08-12T14:02:23.343887500Z"
    }
   },
   "id": "328632af1985c678"
  },
  {
   "cell_type": "code",
   "execution_count": 15,
   "outputs": [
    {
     "data": {
      "text/plain": "['F0_男',\n 'F0_女',\n 'F1_4_男',\n 'F1_4_女',\n 'F5_9_男',\n 'F5_9_女',\n 'F10_14_男',\n 'F10_14_女',\n 'F15_19_男',\n 'F15_19_女',\n 'F20_24_男',\n 'F20_24_女',\n 'F25_29_男',\n 'F25_29_女',\n 'F30_34_男',\n 'F30_34_女',\n 'F35_39_男',\n 'F35_39_女',\n 'F40_44_男',\n 'F40_44_女',\n 'F45_49_男',\n 'F45_49_女',\n 'F50_54_男',\n 'F50_54_女',\n 'F55_59_男',\n 'F55_59_女',\n 'F60_64_男',\n 'F60_64_女',\n 'F65_69_男',\n 'F65_69_女',\n 'F70_74_男',\n 'F70_74_女',\n 'F75_79_男',\n 'F75_79_女',\n 'F80_84_男',\n 'F80_84_女',\n 'F85及以上男',\n 'F85及以上女',\n 'total']"
     },
     "execution_count": 15,
     "metadata": {},
     "output_type": "execute_result"
    }
   ],
   "source": [
    "# 我们需要传入分年龄的人口字段\n",
    "sum_fields = field_names[5:-3] + field_names[-1:]\n",
    "sum_fields"
   ],
   "metadata": {
    "collapsed": false,
    "ExecuteTime": {
     "end_time": "2023-08-12T14:02:23.411845500Z",
     "start_time": "2023-08-12T14:02:23.357889100Z"
    }
   },
   "id": "e439e03d518d95b2"
  },
  {
   "cell_type": "code",
   "execution_count": 16,
   "outputs": [
    {
     "name": "stdout",
     "output_type": "stream",
     "text": [
      "1409778724\n"
     ]
    }
   ],
   "source": [
    "# 其次，通过更新游标计算总人口数\n",
    "total_census = 0\n",
    "with arcpy.da.UpdateCursor(fc[0], sum_fields) as cursor:\n",
    "    for row in cursor:\n",
    "        row[-1] = sum(row[:-1])\n",
    "        total_census += row[-1]\n",
    "        # cursor.updateRow(row) # 先注释掉，测试代码成功后再运行\n",
    "print(total_census)"
   ],
   "metadata": {
    "collapsed": false,
    "ExecuteTime": {
     "end_time": "2023-08-12T14:02:23.413438900Z",
     "start_time": "2023-08-12T14:02:23.374887900Z"
    }
   },
   "id": "9d28679f8c7aac96"
  },
  {
   "cell_type": "markdown",
   "source": [
    "可以看到14亿人口的数据是正确的，我们可以将其写入到一个\"total\"的字段中了。\n"
   ],
   "metadata": {
    "collapsed": false
   },
   "id": "77a83afeed9a9a3f"
  },
  {
   "cell_type": "code",
   "execution_count": 17,
   "outputs": [],
   "source": [
    "# 其次，通过更新游标计算总人口数\n",
    "total_census = 0\n",
    "with arcpy.da.UpdateCursor(fc[0], sum_fields) as cursor:\n",
    "    for row in cursor:\n",
    "        row[-1] = sum(row[:-1])\n",
    "        total_census += row[-1]\n",
    "        cursor.updateRow(row)"
   ],
   "metadata": {
    "collapsed": false,
    "ExecuteTime": {
     "end_time": "2023-08-12T14:02:23.463041800Z",
     "start_time": "2023-08-12T14:02:23.403739100Z"
    }
   },
   "id": "d23f766f438b02e4"
  },
  {
   "cell_type": "markdown",
   "source": [
    "![](https://image-1315363329.cos.ap-shanghai.myqcloud.com/lessons/202308121201974.png)"
   ],
   "metadata": {
    "collapsed": false
   },
   "id": "ba1c9365b605d521"
  },
  {
   "cell_type": "markdown",
   "source": [
    "还可以继续探索的其他示例：\n",
    "1. 单独筛选出指定省类型的省份，比如只查看直辖市的人口。\n",
    "2. 深入探索人口数据：人口的年龄结构、空间分布等，制作人口年龄结构图。链接到~~python示例里~~。\n",
    "3. 继续探索分区县、分地级市的人口数据。\n",
    "结合后续教程：\n",
    "1. 结合mp制图模块和符号系统批量出空间分布图。"
   ],
   "metadata": {
    "collapsed": false
   },
   "id": "6fe1811a2351ceff"
  }
 ],
 "metadata": {
  "kernelspec": {
   "display_name": "Python 3",
   "language": "python",
   "name": "python3"
  },
  "language_info": {
   "codemirror_mode": {
    "name": "ipython",
    "version": 2
   },
   "file_extension": ".py",
   "mimetype": "text/x-python",
   "name": "python",
   "nbconvert_exporter": "python",
   "pygments_lexer": "ipython2",
   "version": "2.7.6"
  }
 },
 "nbformat": 4,
 "nbformat_minor": 5
}

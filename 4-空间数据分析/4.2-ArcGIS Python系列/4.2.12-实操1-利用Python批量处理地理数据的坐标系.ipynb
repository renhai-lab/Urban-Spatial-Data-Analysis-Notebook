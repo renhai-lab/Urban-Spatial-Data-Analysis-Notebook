{
 "cells": [
  {
   "cell_type": "markdown",
   "source": [
    "# 利用Python批量处理地理数据的坐标系\n",
    "\n",
    "> 本文整理自[使用 Python 自动化地理处理工作流](https://learn.arcgis.com/zh-cn/projects/automate-a-geoprocessing-workflow-with-python/)，原教程为网页，我整理为了`jupyter notebook`，加上了代码注释，方便学习和实操。\n",
    "> 项目资源文件：[PythonWorkflow.zip](https://github.com/renhai-lab/Urban-Spatial-Data-Analysis-Notebook/tree/509e6a440b87a710e3b7905883ffcea1ffbede0b/4-%E7%A9%BA%E9%97%B4%E6%95%B0%E6%8D%AE%E5%88%86%E6%9E%90/4.2-%E3%80%90ArcGIS%20Python%E7%B3%BB%E5%88%97%E3%80%91/resource/Workflow)"
   ],
   "metadata": {
    "collapsed": false
   },
   "id": "fa525b5a7bad9ed9"
  },
  {
   "cell_type": "markdown",
   "source": [
    "## 1.数据准备\n",
    "\n",
    "本次演示文件在\"[Workflow](https://github.com/renhai-lab/Urban-Spatial-Data-Analysis-Notebook/tree/509e6a440b87a710e3b7905883ffcea1ffbede0b/4-%E7%A9%BA%E9%97%B4%E6%95%B0%E6%8D%AE%E5%88%86%E6%9E%90/4.2-%E3%80%90ArcGIS%20Python%E7%B3%BB%E5%88%97%E3%80%91/resource/Workflow)\"文件夹中，为了便于理解，只包含**一个地理数据库**，数据库中的要素类和交通运输有关，我们需要将要素类需要存储在相同的同一个要素数据集中，并且具有相同的坐标系。\n",
    "\n",
    "在处理 Python 代码之前，用ArcGIS打开名为`Workflow.aprx`的工程文件，检查一下数据库结构，如何所示：\n",
    "![数据库结构](https://image-1315363329.cos.ap-shanghai.myqcloud.com/lessons/202308241545547.png)\n"
   ],
   "metadata": {
    "collapsed": false
   },
   "id": "8b9fdeb1c50398b3"
  },
  {
   "cell_type": "markdown",
   "source": [
    "## 2.手动流程\n",
    "\n",
    "试想以下手动执行检查并统一坐标系的流程：检查要素类的坐标系，然后手动运行`投影`工具，借此能了解使用`Arcpy`时的工作流程。\n",
    "\n",
    "> 虽然软件提供了`批量投影` 工具，但是也不能跟同时批量处理所有文件，有时候还会遇见有的要素类没有投影，还需要先`定义投影`，然后才能进行`投影`工作。\n",
    "\n",
    "1. 检查坐标系，并决定是否需要运行投影工具。 投影必须进行投影的要素类。 在不进行投影的情况下复制其他要素类。\n",
    "\n",
    "2. 创建一个要素类。\n",
    "\n",
    "3. 检查图层和地图的坐标系：右键选择属性-选择源-空间参考-查看坐标系：有的为NAD 1983，有的为WGS 1984。\n",
    "\n",
    "   ![图层属性](https://image-1315363329.cos.ap-shanghai.myqcloud.com/lessons/202309020207720.png)\n",
    "   例如，bike_racks 要素类位于名为 WGS 1984 的地理坐标系中，而 roads 和 boundary 要素类位于经过投影的美国国家平面坐标系（马里兰州）NAD 1983 StatePlane Maryland FIPS 1900 (US Feet) 中。\n",
    "\n",
    "4. 选择投影工具-选择输入要素类-选择投影坐标系-确定-等待完成。\n",
    "\n",
    "![投影工具](https://image-1315363329.cos.ap-shanghai.myqcloud.com/lessons/202309020207997.png)\n",
    "\n",
    "---\n",
    "\n",
    "## 3.自动化流程\n",
    "\n",
    "为了不重复这些步骤，我们用 Python 代码自动化完成此过程。\n",
    "\n",
    "为了统一坐标系，我使用 Python 代码检查要素类的坐标系，并使用投影工具对所有当前不在正确坐标系中的数据集进行转换，从而将其复制到新地理数据库和要素数据集。 最后可以通过此操作创建一个网络，但是本文不做演示。\n",
    "\n",
    "### （1）检查坐标系\n",
    "我们在不打开软件的情况下检查数据库中所有要素类的坐标：\n",
    "\n",
    "首先进行库的导入和环境设置："
   ],
   "metadata": {
    "collapsed": false
   },
   "id": "d8bf7ebfd8014cd6"
  },
  {
   "cell_type": "code",
   "execution_count": 26,
   "outputs": [
    {
     "name": "stdout",
     "output_type": "stream",
     "text": [
      "C:\\Users\\hncdj\\Documents\\Python_\\Python辅助城市研究\\Urban-Spatial-Data-Analysis-For-Beginners\\4-空间数据分析\\4.2-arcpy\\resource\\PythonWorkflow\\Transportation.gdb\n"
     ]
    }
   ],
   "source": [
    "import os\n",
    "import arcpy\n",
    "\n",
    "# 设置工作空间\n",
    "mypath = os.path.join(os.getcwd(), r\"resource\\PythonWorkflow\") # 修改为你的工作目录\n",
    "gdb = \"Transportation.gdb\"\n",
    "\n",
    "arcpy.env.workspace = os.path.join(mypath, gdb)\n",
    "\n",
    "print(arcpy.env.workspace)"
   ],
   "metadata": {
    "collapsed": false,
    "ExecuteTime": {
     "end_time": "2023-08-24T08:20:56.830210500Z",
     "start_time": "2023-08-24T08:20:56.802559200Z"
    }
   },
   "id": "a339af9e0c76037b"
  },
  {
   "cell_type": "code",
   "execution_count": 27,
   "outputs": [
    {
     "name": "stdout",
     "output_type": "stream",
     "text": [
      "10 ['bus_lines', 'boundary', 'street_lights', 'roads', 'traffic_analysis_zones', 'bike_routes', 'bike_racks', 'parking_zones', 'intersections', 'station_entrances']\n"
     ]
    },
    {
     "data": {
      "text/plain": "<SpatialReference object at 0x216df017c10[0x216df011250]>",
      "text/html": "<style>table td#td0  {font-weight: bold}</style><table class=\"notebook\"><colgroup><col style=\"width:45%\"></col><col style=\"width:55%\"></col></colgroup><tr><td id = \"td0\" title=\"name (投影坐标系)\">name (投影坐标系)</td><td title=\"NAD_1983_StatePlane_Maryland_FIPS_1900_Feet\">NAD_1983_StatePlane_Maryland_FIPS_1900_Feet</td></tr><tr><td id = \"td0\" title=\"factoryCode (WKID)\">factoryCode (WKID)</td><td title=\"2248\">2248</td></tr><tr><td id = \"td0\" title=\"linearUnitName (线性单位)\">linearUnitName (线性单位)</td><td title=\"Foot_US\">Foot_US</td></tr></table><div class=\"subtitle\">spatialReference.GCS</div><style>table td#td0  {font-weight: bold}</style><table class=\"notebook\"><colgroup><col style=\"width:45%\"></col><col style=\"width:55%\"></col></colgroup><tr><td id = \"td0\" title=\"name (地理坐标系)\">name (地理坐标系)</td><td title=\"GCS_North_American_1983\">GCS_North_American_1983</td></tr><tr><td id = \"td0\" title=\"factoryCode (WKID)\">factoryCode (WKID)</td><td title=\"4269\">4269</td></tr><tr><td id = \"td0\" title=\"angularUnitName (角度单位)\">angularUnitName (角度单位)</td><td title=\"Degree\">Degree</td></tr><tr><td id = \"td0\" title=\"datumName (基准面)\">datumName (基准面)</td><td title=\"D_North_American_1983\">D_North_American_1983</td></tr></table>"
     },
     "execution_count": 27,
     "metadata": {},
     "output_type": "execute_result"
    }
   ],
   "source": [
    "# 我们先检查一个要素类的投影坐标系\n",
    "fcs = arcpy.ListFeatureClasses() # 获取所有要素类\n",
    "print(len(fcs), fcs)\n",
    "\n",
    "desc = arcpy.da.Describe(fcs[0])  # 获取要素类的描述信息\n",
    "sr = desc[\"spatialReference\"]  # 获取要素类的空间参考\n",
    "sr"
   ],
   "metadata": {
    "collapsed": false,
    "ExecuteTime": {
     "end_time": "2023-08-24T08:20:58.965434600Z",
     "start_time": "2023-08-24T08:20:58.557029500Z"
    }
   },
   "id": "13652f588b40e761"
  },
  {
   "cell_type": "markdown",
   "source": [
    "fcs是要素类名称的 Python 列表。 列表使用方括号括起来，而要素类名称为 Python 字符串，使用逗号分隔。\n",
    "sr是空间参考的 Python 字典。 字典使用花括号括起来，而键和值之间使用冒号分隔。 例如，键“name”对应于空间参考的名称，而键“factoryCode”对应于空间参考的WKID代码。"
   ],
   "metadata": {
    "collapsed": false
   },
   "id": "6671efbd444403a0"
  },
  {
   "cell_type": "code",
   "execution_count": 28,
   "outputs": [
    {
     "name": "stdout",
     "output_type": "stream",
     "text": [
      "bus_lines : NAD_1983_StatePlane_Maryland_FIPS_1900_Feet\n",
      "boundary : NAD_1983_StatePlane_Maryland_FIPS_1900_Feet\n",
      "street_lights : NAD_1983_StatePlane_Maryland_FIPS_1900_Feet\n",
      "roads : NAD_1983_StatePlane_Maryland_FIPS_1900_Feet\n",
      "traffic_analysis_zones : NAD_1983_StatePlane_Maryland_FIPS_1900_Feet\n",
      "bike_routes : GCS_WGS_1984\n",
      "bike_racks : GCS_WGS_1984\n",
      "parking_zones : GCS_WGS_1984\n",
      "intersections : GCS_WGS_1984\n",
      "station_entrances : GCS_WGS_1984\n"
     ]
    }
   ],
   "source": [
    "# 我们检查所有的要素类的坐标系\n",
    "fcs = arcpy.ListFeatureClasses() # 获取所有要素类\n",
    "\n",
    "# 遍历所有要素类\n",
    "for fc in fcs:\n",
    "    desc = arcpy.da.Describe(fc) # 获取要素类的描述信息\n",
    "    sr = desc[\"spatialReference\"] # 获取要素类的空间参考\n",
    "\n",
    "    print(fc + \" : \" + sr.name ) # 打印要素类名称和空间参考名称\n",
    "    "
   ],
   "metadata": {
    "collapsed": false,
    "ExecuteTime": {
     "end_time": "2023-08-24T08:21:01.615583100Z",
     "start_time": "2023-08-24T08:20:59.256959600Z"
    }
   },
   "id": "679e49e0650e3cae"
  },
  {
   "cell_type": "markdown",
   "source": [
    "这些要素类中有一半在一个坐标系中，另一半在另一个坐标系中。下一步就是将`GCS_WGS_1984`的所有要素类投影到一个坐标系中。但是，在此之前我们创建一个新的地理数据库用于储存投影后的要素。"
   ],
   "metadata": {
    "collapsed": false
   },
   "id": "9a0d73912e05b343"
  },
  {
   "cell_type": "code",
   "execution_count": 39,
   "outputs": [],
   "source": [
    "# 创建新的地理数据库\n",
    "new_gdb = \"Metro_Transport.gdb\"\n",
    "\n",
    "arcpy.env.overwriteOutput = True # 允许覆盖输出\n",
    "\n",
    "new_gdb_path = arcpy.CreateFileGDB_management(mypath, new_gdb) # 创建新的地理数据库 返回值为新的地理数据库的对象, 可以作为工作空间引用"
   ],
   "metadata": {
    "collapsed": false,
    "ExecuteTime": {
     "end_time": "2023-08-24T08:40:09.636559200Z",
     "start_time": "2023-08-24T08:40:09.393181800Z"
    }
   },
   "id": "fc69c8ee7a3daadb"
  },
  {
   "cell_type": "code",
   "execution_count": 40,
   "outputs": [
    {
     "name": "stdout",
     "output_type": "stream",
     "text": [
      "数据库已存在\n"
     ]
    }
   ],
   "source": [
    "# 可以加一个数据库判断 避免重复操作 也可以用于检查数据库是否存在\n",
    "# 判断数据库是否存在，如果不存在则创建\n",
    "if not arcpy.Exists(os.path.join(mypath, new_gdb)):\n",
    "    arcpy.CreateFileGDB_management(mypath, new_gdb) # 创建新的地理数据库\n",
    "else:\n",
    "    print(\"数据库已存在\")\n"
   ],
   "metadata": {
    "collapsed": false,
    "ExecuteTime": {
     "end_time": "2023-08-24T08:40:12.049361600Z",
     "start_time": "2023-08-24T08:40:11.963805700Z"
    }
   },
   "id": "55dcb6fdf81b1c2e"
  },
  {
   "cell_type": "markdown",
   "source": [
    "接下来我们进行投影操作，投影后的要素类存储在新的地理数据库中。"
   ],
   "metadata": {
    "collapsed": false
   },
   "id": "5b497de3c2fc60d2"
  },
  {
   "cell_type": "markdown",
   "source": [
    "首先确定我们想要投影到的坐标系，本次会使用roads要素类的坐标系，roads : NAD_1983_StatePlane_Maryland_FIPS_1900_Feet。使用坐标系的名字会很冗长，我们会使用WKID代码来代替坐标系的名字，WKID代码是唯一的，可以代表坐标系。\n",
    "> 国内一般使用CGCS2000坐标系，也有使用百度和高德的坐标系的，具体使用哪个坐标系需要根据实际情况而定。\n",
    "\n",
    "另一种设置坐标系的方法是提供现有要素类的路径，例如，提供 Transportation.gdb 地理数据库中 roads 要素类的路径。"
   ],
   "metadata": {
    "collapsed": false
   },
   "id": "c6cfd7f325775005"
  },
  {
   "cell_type": "code",
   "execution_count": 37,
   "outputs": [
    {
     "data": {
      "text/plain": "2248"
     },
     "execution_count": 37,
     "metadata": {},
     "output_type": "execute_result"
    }
   ],
   "source": [
    "# 查询roads坐标系NAD_1983_StatePlane_Maryland_FIPS_1900_Feet的WKID代码\n",
    "desc = arcpy.da.Describe(\"roads\") \n",
    "sr = desc[\"spatialReference\"]  # 获取要素类的空间参考\n",
    "sr.factoryCode # 获取坐标系的WKID代码"
   ],
   "metadata": {
    "collapsed": false,
    "ExecuteTime": {
     "end_time": "2023-08-24T08:37:34.904892800Z",
     "start_time": "2023-08-24T08:37:34.608349700Z"
    }
   },
   "id": "3a0de92aee6dd67e"
  },
  {
   "cell_type": "code",
   "execution_count": 38,
   "outputs": [],
   "source": [
    "# 将WKID代码储存到变量\n",
    "out_wkid = sr.factoryCode"
   ],
   "metadata": {
    "collapsed": false,
    "ExecuteTime": {
     "end_time": "2023-08-24T08:39:25.665605800Z",
     "start_time": "2023-08-24T08:39:25.642046200Z"
    }
   },
   "id": "353db784fc0bbc11"
  },
  {
   "cell_type": "markdown",
   "source": [],
   "metadata": {
    "collapsed": false
   },
   "id": "a4302888e21b8ed4"
  },
  {
   "cell_type": "code",
   "execution_count": 42,
   "outputs": [
    {
     "data": {
      "text/plain": "<Result 'C:\\\\Users\\\\hncdj\\\\Documents\\\\Python_\\\\Python辅助城市研究\\\\Urban-Spatial-Data-Analysis-For-Beginners\\\\4-空间数据分析\\\\4.2-arcpy\\\\resource\\\\PythonWorkflow\\\\Metro_Transport.gdb\\\\Metro_Network'>",
      "text/html": "<div class='gpresult'><h2>Messages</h2><div id='messages' data-messages='[\"开始时间: 2023年8月24日 16:41:32\",\"运行 成功，结束时间： 2023年8月24日 16:41:33 (历时: 0.53 秒)\"]' data-show='true'><div id = 'default' /></div></div>"
     },
     "execution_count": 42,
     "metadata": {},
     "output_type": "execute_result"
    }
   ],
   "source": [
    "# 同样我们创建一个空的要素数据集\n",
    "fds = \"Metro_Network\" # 要素数据集名称\n",
    "arcpy.CreateFeatureDataset_management(new_gdb_path, fds, out_wkid)  # 创建要素数据集"
   ],
   "metadata": {
    "collapsed": false,
    "ExecuteTime": {
     "end_time": "2023-08-24T08:41:33.224371200Z",
     "start_time": "2023-08-24T08:41:32.532699400Z"
    }
   },
   "id": "1beebd6898d19f57"
  },
  {
   "cell_type": "markdown",
   "source": [
    "根据条件复制或投影要素类到新要素集\n",
    "复制要素工具`arcpy.CopyFeatures_management`和投影工具`arcpy.Project_management`都会使用一个输入要素类并生成一个输出要素类。 虽然要素类的名称可以保持相同，但输出的路径将有所不同，因为新的要素类将位于新的地理数据库中。"
   ],
   "metadata": {
    "collapsed": false
   },
   "id": "70d1fb1c1a97af82"
  },
  {
   "cell_type": "code",
   "execution_count": 44,
   "outputs": [
    {
     "name": "stdout",
     "output_type": "stream",
     "text": [
      "bus_lines : NAD_1983_StatePlane_Maryland_FIPS_1900_Feet : 复制成功\n",
      "boundary : NAD_1983_StatePlane_Maryland_FIPS_1900_Feet : 复制成功\n",
      "street_lights : NAD_1983_StatePlane_Maryland_FIPS_1900_Feet : 复制成功\n",
      "roads : NAD_1983_StatePlane_Maryland_FIPS_1900_Feet : 复制成功\n",
      "traffic_analysis_zones : NAD_1983_StatePlane_Maryland_FIPS_1900_Feet : 复制成功\n",
      "bike_routes : GCS_WGS_1984 : 投影成功\n",
      "bike_racks : GCS_WGS_1984 : 投影成功\n",
      "parking_zones : GCS_WGS_1984 : 投影成功\n",
      "intersections : GCS_WGS_1984 : 投影成功\n",
      "station_entrances : GCS_WGS_1984 : 投影成功\n"
     ]
    }
   ],
   "source": [
    "fcs = arcpy.ListFeatureClasses() # 获取所有要素类\n",
    "\n",
    "# 遍历所有要素类\n",
    "for fc in fcs:\n",
    "    desc = arcpy.da.Describe(fc) # 获取要素类的描述信息\n",
    "    sr = desc[\"spatialReference\"] # 获取要素类的空间参考\n",
    "\n",
    "    new_fc = os.path.join(mypath, new_gdb, fds, fc) # 新要素类的路径\n",
    "    \n",
    "    if sr.factoryCode == out_wkid: # 如果要素类的WKID代码为2248 则进行复制 否则投影\n",
    "        arcpy.CopyFeatures_management(fc, new_fc) # 复制\n",
    "        print(fc + \" : \" + sr.factoryCode + \" : \" + \"复制成功\")\n",
    "    else:\n",
    "        arcpy.Project_management(fc, new_fc, out_wkid) # 投影\n",
    "        print(fc + \" : \" + sr.factoryCode + \" : \" + \"投影成功\")\n"
   ],
   "metadata": {
    "collapsed": false,
    "ExecuteTime": {
     "end_time": "2023-08-24T08:50:37.626951100Z",
     "start_time": "2023-08-24T08:50:04.522438600Z"
    }
   },
   "id": "ea925c49ddba2070"
  }
 ],
 "metadata": {
  "kernelspec": {
   "display_name": "Python 3",
   "language": "python",
   "name": "python3"
  },
  "language_info": {
   "codemirror_mode": {
    "name": "ipython",
    "version": 2
   },
   "file_extension": ".py",
   "mimetype": "text/x-python",
   "name": "python",
   "nbconvert_exporter": "python",
   "pygments_lexer": "ipython2",
   "version": "2.7.6"
  }
 },
 "nbformat": 4,
 "nbformat_minor": 5
}

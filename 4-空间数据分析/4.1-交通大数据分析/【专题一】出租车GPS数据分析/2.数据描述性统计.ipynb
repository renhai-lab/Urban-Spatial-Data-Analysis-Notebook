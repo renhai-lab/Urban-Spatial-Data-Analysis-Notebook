{
 "cells": [
  {
   "cell_type": "markdown",
   "id": "c4940932d077c8b7",
   "metadata": {
    "collapsed": false
   },
   "source": [
    "# 2.数据描述性统计\n",
    "\n",
    "本notebook为自己的学习笔记，想看原始版本请移步：\n",
    "[出租车 GPS 数据——时空大数据处理基础.ipynb](%B3%F6%D7%E2%B3%B5%20GPS%20%CA%FD%BE%DD%A1%AA%A1%AA%CA%B1%BF%D5%B4%F3%CA%FD%BE%DD%B4%A6%C0%ED%BB%F9%B4%A1.ipynb)\n"
   ]
  },
  {
   "cell_type": "markdown",
   "id": "384d4e1e7771e018",
   "metadata": {
    "collapsed": false
   },
   "source": [
    "## 1.读取数据"
   ]
  },
  {
   "cell_type": "code",
   "execution_count": 2,
   "id": "68650b949d20e588",
   "metadata": {
    "ExecuteTime": {
     "end_time": "2024-04-14T08:42:26.844576Z",
     "start_time": "2024-04-14T08:42:26.713715Z"
    },
    "collapsed": false
   },
   "outputs": [
    {
     "data": {
      "text/html": [
       "<div>\n",
       "<style scoped>\n",
       "    .dataframe tbody tr th:only-of-type {\n",
       "        vertical-align: middle;\n",
       "    }\n",
       "\n",
       "    .dataframe tbody tr th {\n",
       "        vertical-align: top;\n",
       "    }\n",
       "\n",
       "    .dataframe thead th {\n",
       "        text-align: right;\n",
       "    }\n",
       "</style>\n",
       "<table border=\"1\" class=\"dataframe\">\n",
       "  <thead>\n",
       "    <tr style=\"text-align: right;\">\n",
       "      <th></th>\n",
       "      <th>VehicleNum</th>\n",
       "      <th>StartTime</th>\n",
       "      <th>EndTime</th>\n",
       "      <th>StartLng</th>\n",
       "      <th>StartLat</th>\n",
       "      <th>EndLng</th>\n",
       "      <th>EndLat</th>\n",
       "      <th>Speed</th>\n",
       "      <th>TripTime</th>\n",
       "      <th>TripDistance</th>\n",
       "    </tr>\n",
       "  </thead>\n",
       "  <tbody>\n",
       "    <tr>\n",
       "      <th>0</th>\n",
       "      <td>22334.0</td>\n",
       "      <td>2013-10-22 00:07:57</td>\n",
       "      <td>2013-10-22 00:18:16</td>\n",
       "      <td>114.080498</td>\n",
       "      <td>22.554182</td>\n",
       "      <td>114.084915</td>\n",
       "      <td>22.540850</td>\n",
       "      <td>0.0</td>\n",
       "      <td>10.316667</td>\n",
       "      <td>1.544684</td>\n",
       "    </tr>\n",
       "    <tr>\n",
       "      <th>1</th>\n",
       "      <td>22334.0</td>\n",
       "      <td>2013-10-22 00:19:05</td>\n",
       "      <td>2013-10-22 00:44:52</td>\n",
       "      <td>114.084915</td>\n",
       "      <td>22.540850</td>\n",
       "      <td>114.056236</td>\n",
       "      <td>22.633383</td>\n",
       "      <td>0.0</td>\n",
       "      <td>25.783333</td>\n",
       "      <td>10.662886</td>\n",
       "    </tr>\n",
       "    <tr>\n",
       "      <th>2</th>\n",
       "      <td>22334.0</td>\n",
       "      <td>2013-10-22 02:38:52</td>\n",
       "      <td>2013-10-22 02:47:04</td>\n",
       "      <td>114.091637</td>\n",
       "      <td>22.543200</td>\n",
       "      <td>114.093536</td>\n",
       "      <td>22.554382</td>\n",
       "      <td>1.0</td>\n",
       "      <td>8.200000</td>\n",
       "      <td>1.253581</td>\n",
       "    </tr>\n",
       "    <tr>\n",
       "      <th>3</th>\n",
       "      <td>22334.0</td>\n",
       "      <td>2013-10-22 03:58:57</td>\n",
       "      <td>2013-10-22 04:23:07</td>\n",
       "      <td>114.038818</td>\n",
       "      <td>22.553232</td>\n",
       "      <td>114.052216</td>\n",
       "      <td>22.602118</td>\n",
       "      <td>1.0</td>\n",
       "      <td>24.166667</td>\n",
       "      <td>5.586134</td>\n",
       "    </tr>\n",
       "    <tr>\n",
       "      <th>4</th>\n",
       "      <td>22334.0</td>\n",
       "      <td>2013-10-22 06:30:19</td>\n",
       "      <td>2013-10-22 06:41:20</td>\n",
       "      <td>114.031250</td>\n",
       "      <td>22.519550</td>\n",
       "      <td>114.067886</td>\n",
       "      <td>22.521299</td>\n",
       "      <td>0.0</td>\n",
       "      <td>11.016667</td>\n",
       "      <td>3.774126</td>\n",
       "    </tr>\n",
       "  </tbody>\n",
       "</table>\n",
       "</div>"
      ],
      "text/plain": [
       "   VehicleNum           StartTime             EndTime    StartLng   StartLat  \\\n",
       "0     22334.0 2013-10-22 00:07:57 2013-10-22 00:18:16  114.080498  22.554182   \n",
       "1     22334.0 2013-10-22 00:19:05 2013-10-22 00:44:52  114.084915  22.540850   \n",
       "2     22334.0 2013-10-22 02:38:52 2013-10-22 02:47:04  114.091637  22.543200   \n",
       "3     22334.0 2013-10-22 03:58:57 2013-10-22 04:23:07  114.038818  22.553232   \n",
       "4     22334.0 2013-10-22 06:30:19 2013-10-22 06:41:20  114.031250  22.519550   \n",
       "\n",
       "       EndLng     EndLat  Speed   TripTime  TripDistance  \n",
       "0  114.084915  22.540850    0.0  10.316667      1.544684  \n",
       "1  114.056236  22.633383    0.0  25.783333     10.662886  \n",
       "2  114.093536  22.554382    1.0   8.200000      1.253581  \n",
       "3  114.052216  22.602118    1.0  24.166667      5.586134  \n",
       "4  114.067886  22.521299    0.0  11.016667      3.774126  "
      ]
     },
     "execution_count": 2,
     "metadata": {},
     "output_type": "execute_result"
    }
   ],
   "source": [
    "import pandas as pd\n",
    "\n",
    "# 读取 Parquet 文件\n",
    "data = pd.read_parquet('./data/TaxiOD-Clean.parquet') # <<< 上一步生成的数据\n",
    "data.head()"
   ]
  },
  {
   "cell_type": "code",
   "execution_count": 4,
   "id": "2325e0d3618aac79",
   "metadata": {
    "ExecuteTime": {
     "end_time": "2024-04-14T08:42:30.281571Z",
     "start_time": "2024-04-14T08:42:30.268727Z"
    },
    "collapsed": false
   },
   "outputs": [
    {
     "data": {
      "text/plain": [
       "0         0\n",
       "1         0\n",
       "2         2\n",
       "3         3\n",
       "4         6\n",
       "         ..\n",
       "16752    22\n",
       "16753    22\n",
       "16754    23\n",
       "16755    23\n",
       "16756    23\n",
       "Name: hour, Length: 15878, dtype: int32"
      ]
     },
     "execution_count": 4,
     "metadata": {},
     "output_type": "execute_result"
    }
   ],
   "source": [
    "## 2.分时数据量的统计\n",
    "data['hour'] = data['StartTime'].dt.hour # 通过.dt.hour属性提取StartTime列中每个时间戳的小时部分，并将这个小时信息存储在新的列hour中。\n",
    "data['hour']  # []中的内容是列名，表示提取这一列的数据 notebook会自动显示这一列的数据"
   ]
  },
  {
   "cell_type": "code",
   "execution_count": 5,
   "id": "11c1d1c22d188581",
   "metadata": {
    "ExecuteTime": {
     "end_time": "2024-04-14T08:42:30.793190Z",
     "start_time": "2024-04-14T08:42:30.780684Z"
    },
    "collapsed": false
   },
   "outputs": [
    {
     "data": {
      "text/plain": [
       "hour\n",
       "0     655\n",
       "1     466\n",
       "2     332\n",
       "3     257\n",
       "4     176\n",
       "5     192\n",
       "6     308\n",
       "7     566\n",
       "8     786\n",
       "9     776\n",
       "10    831\n",
       "11    756\n",
       "12    731\n",
       "13    837\n",
       "14    909\n",
       "15    863\n",
       "16    755\n",
       "17    713\n",
       "18    646\n",
       "19    793\n",
       "20    916\n",
       "21    941\n",
       "22    973\n",
       "23    700\n",
       "dtype: int64"
      ]
     },
     "execution_count": 5,
     "metadata": {},
     "output_type": "execute_result"
    }
   ],
   "source": [
    "# 按小时分组并计数\n",
    "hourly_orders = data.groupby('hour').size()\n",
    "hourly_orders"
   ]
  },
  {
   "cell_type": "markdown",
   "id": "3acc7b75fa92da82",
   "metadata": {
    "collapsed": false
   },
   "source": [
    "## 绘图"
   ]
  },
  {
   "cell_type": "code",
   "execution_count": 6,
   "id": "796b2631ef0089c4",
   "metadata": {
    "collapsed": false
   },
   "outputs": [],
   "source": [
    "# 导入绘图库\n",
    "import matplotlib.pyplot as plt # 这行代码导入了matplotlib库，并将其简称为plt。\n",
    "import seaborn as sns"
   ]
  },
  {
   "cell_type": "code",
   "execution_count": 7,
   "id": "4bc9cc3d2582be0e",
   "metadata": {
    "collapsed": false
   },
   "outputs": [
    {
     "data": {
      "image/png": "[encoded data removed]",
      "text/plain": [
       "<Figure size 1200x600 with 1 Axes>"
      ]
     },
     "metadata": {},
     "output_type": "display_data"
    }
   ],
   "source": [
    "# 绘制折线图\n",
    "plt.figure(figsize=(12, 6))\n",
    "ax = sns.histplot(data, x='hour', bins=24)\n",
    "\n",
    "ax.set_xlabel('Hour of Day')\n",
    "ax.set_ylabel('Number of Counts')\n",
    "ax.set_xticks(range(0, 24))\n",
    "title = 'Hourly Data Counts'\n",
    "ax.set_title(title)\n",
    "plt.show()"
   ]
  }
 ],
 "metadata": {
  "kernelspec": {
   "display_name": "Python 3",
   "language": "python",
   "name": "python3"
  },
  "language_info": {
   "codemirror_mode": {
    "name": "ipython",
    "version": 3
   },
   "file_extension": ".py",
   "mimetype": "text/x-python",
   "name": "python",
   "nbconvert_exporter": "python",
   "pygments_lexer": "ipython3",
   "version": "3.12.3"
  }
 },
 "nbformat": 4,
 "nbformat_minor": 5
}

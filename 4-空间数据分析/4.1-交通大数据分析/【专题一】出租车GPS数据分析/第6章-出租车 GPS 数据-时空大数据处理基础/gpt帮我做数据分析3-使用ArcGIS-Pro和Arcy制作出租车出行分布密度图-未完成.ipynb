{
 "cells": [
  {
   "cell_type": "markdown",
   "id": "b4476b07",
   "metadata": {},
   "source": [
    "# 4.1.6-使用ArcGIS-Pro和Arcy制作建筑年代预测结果在150米精度范围的准确度"
   ]
  },
  {
   "cell_type": "markdown",
   "id": "3ac9320f",
   "metadata": {},
   "source": [
    "我们要复现论文中的图8：\n",
    "\n",
    "图片上表现的是预测的精准程度在150m的网格上的空间分布，图中可以看出：市中心的错误率高于郊区。这可能是由于建筑年龄的高度多样性、市中心旧建筑的频繁改造以及上述对改造建筑的严格规定所致。阿姆斯特丹郊区没有明显的空间格局，这表明分类结果的空间相关性很小。为了证明空间相关性小，作者还计算了莫兰指数，城市郊区结果的 Moran's I 为 0.27。 Moran's I 的范围为 -1 到 1，其中 -1 表示完美分散`dispersion` ，0 表示完美随机性  `randomness`，1 表示完美聚类`clustering`。我们预测的阿姆斯特丹郊区的莫兰指数为0.27，建筑年代表现出较弱的空间自相关性。"
   ]
  },
  {
   "cell_type": "code",
   "execution_count": 1,
   "id": "84fa9890",
   "metadata": {},
   "outputs": [],
   "source": [
    "# 导入arcpy并设置工作空间\n",
    "import arcpy\n",
    "import geopandas as gpd\n",
    "import pandas as pd\n",
    "\n",
    "# 设置工作空间\n",
    "gdb = r\"C:\\Users\\hncdj\\Documents\\Python_\\Python辅助城市研究\\Transportation-data-analysis\\ArcGIS_Pro-Project\\Transportation-data-analysis\\Transportation-data-analysis.gdb\" # \n",
    "arcpy.env.workspace = gdb\n",
    "arcpy.env.overwriteOutput = True"
   ]
  },
  {
   "cell_type": "markdown",
   "id": "db03725c",
   "metadata": {},
   "source": [
    "# 1读取出粗车数据 构建起点坐标的geodataframe"
   ]
  },
  {
   "cell_type": "code",
   "execution_count": 2,
   "id": "7a0cee9b",
   "metadata": {
    "ExecuteTime": {
     "end_time": "2023-10-31T14:28:58.566073500Z",
     "start_time": "2023-10-31T14:28:26.699586400Z"
    },
    "collapsed": false
   },
   "outputs": [
    {
     "data": {
      "text/html": [
       "<div>\n",
       "<style scoped>\n",
       "    .dataframe tbody tr th:only-of-type {\n",
       "        vertical-align: middle;\n",
       "    }\n",
       "\n",
       "    .dataframe tbody tr th {\n",
       "        vertical-align: top;\n",
       "    }\n",
       "\n",
       "    .dataframe thead th {\n",
       "        text-align: right;\n",
       "    }\n",
       "</style>\n",
       "<table border=\"1\" class=\"dataframe\">\n",
       "  <thead>\n",
       "    <tr style=\"text-align: right;\">\n",
       "      <th></th>\n",
       "      <th>VehicleNum</th>\n",
       "      <th>StartTime</th>\n",
       "      <th>EndTime</th>\n",
       "      <th>StartLng</th>\n",
       "      <th>StartLat</th>\n",
       "      <th>EndLng</th>\n",
       "      <th>EndLat</th>\n",
       "      <th>TripTime</th>\n",
       "      <th>TripDistance</th>\n",
       "    </tr>\n",
       "  </thead>\n",
       "  <tbody>\n",
       "    <tr>\n",
       "      <th>0</th>\n",
       "      <td>22223.0</td>\n",
       "      <td>2013-10-22 00:03:39</td>\n",
       "      <td>2013-10-22 00:11:04</td>\n",
       "      <td>114.167732</td>\n",
       "      <td>22.562550</td>\n",
       "      <td>114.225487</td>\n",
       "      <td>22.552933</td>\n",
       "      <td>7.416667</td>\n",
       "      <td>6.035011</td>\n",
       "    </tr>\n",
       "    <tr>\n",
       "      <th>1</th>\n",
       "      <td>22223.0</td>\n",
       "      <td>2013-10-22 00:11:49</td>\n",
       "      <td>2013-10-22 00:15:35</td>\n",
       "      <td>114.227264</td>\n",
       "      <td>22.554234</td>\n",
       "      <td>114.229202</td>\n",
       "      <td>22.560150</td>\n",
       "      <td>3.766667</td>\n",
       "      <td>0.684779</td>\n",
       "    </tr>\n",
       "    <tr>\n",
       "      <th>2</th>\n",
       "      <td>22223.0</td>\n",
       "      <td>2013-10-22 00:17:29</td>\n",
       "      <td>2013-10-22 00:29:21</td>\n",
       "      <td>114.231598</td>\n",
       "      <td>22.562349</td>\n",
       "      <td>114.255898</td>\n",
       "      <td>22.591000</td>\n",
       "      <td>11.866667</td>\n",
       "      <td>4.038736</td>\n",
       "    </tr>\n",
       "    <tr>\n",
       "      <th>3</th>\n",
       "      <td>22223.0</td>\n",
       "      <td>2013-10-22 00:37:01</td>\n",
       "      <td>2013-10-22 00:54:58</td>\n",
       "      <td>114.239700</td>\n",
       "      <td>22.563450</td>\n",
       "      <td>114.119637</td>\n",
       "      <td>22.565916</td>\n",
       "      <td>17.950000</td>\n",
       "      <td>12.351299</td>\n",
       "    </tr>\n",
       "    <tr>\n",
       "      <th>4</th>\n",
       "      <td>22223.0</td>\n",
       "      <td>2013-10-22 01:01:29</td>\n",
       "      <td>2013-10-22 01:08:33</td>\n",
       "      <td>114.136467</td>\n",
       "      <td>22.575583</td>\n",
       "      <td>114.166786</td>\n",
       "      <td>22.608232</td>\n",
       "      <td>7.066667</td>\n",
       "      <td>4.774048</td>\n",
       "    </tr>\n",
       "  </tbody>\n",
       "</table>\n",
       "</div>"
      ],
      "text/plain": [
       "   VehicleNum            StartTime              EndTime    StartLng  \\\n",
       "0     22223.0  2013-10-22 00:03:39  2013-10-22 00:11:04  114.167732   \n",
       "1     22223.0  2013-10-22 00:11:49  2013-10-22 00:15:35  114.227264   \n",
       "2     22223.0  2013-10-22 00:17:29  2013-10-22 00:29:21  114.231598   \n",
       "3     22223.0  2013-10-22 00:37:01  2013-10-22 00:54:58  114.239700   \n",
       "4     22223.0  2013-10-22 01:01:29  2013-10-22 01:08:33  114.136467   \n",
       "\n",
       "    StartLat      EndLng     EndLat   TripTime  TripDistance  \n",
       "0  22.562550  114.225487  22.552933   7.416667      6.035011  \n",
       "1  22.554234  114.229202  22.560150   3.766667      0.684779  \n",
       "2  22.562349  114.255898  22.591000  11.866667      4.038736  \n",
       "3  22.563450  114.119637  22.565916  17.950000     12.351299  \n",
       "4  22.575583  114.166786  22.608232   7.066667      4.774048  "
      ]
     },
     "execution_count": 2,
     "metadata": {},
     "output_type": "execute_result"
    }
   ],
   "source": [
    "data = pd.read_csv('../data/trips-clean.csv', \n",
    "                   header=0, \n",
    "                #    date_format='%Y-%m-%d %H:%M:%S', \n",
    "                #    parse_dates=['StartTime', 'EndTime']\n",
    "                   )\n",
    "data.head()\n"
   ]
  },
  {
   "cell_type": "code",
   "execution_count": 3,
   "id": "09e19944",
   "metadata": {},
   "outputs": [],
   "source": [
    "# 构建gdf\n",
    "geo_data = gpd.GeoDataFrame(data, geometry=gpd.points_from_xy(data['StartLng'], data['StartLat']))\n",
    "geo_crs = '4326'\n",
    "transform_crs = '32649'\n",
    "geo_data.crs = geo_crs\n",
    "geo_data.to_crs(transform_crs, inplace=True)\n",
    "# geo_data.to_file(filename=gdb, layer='trips')"
   ]
  },
  {
   "cell_type": "markdown",
   "id": "de73ce39",
   "metadata": {},
   "source": [
    "## 2.利用ArcPy的创建渔网工具创建150米的空间网格"
   ]
  },
  {
   "cell_type": "markdown",
   "id": "91d5c866",
   "metadata": {},
   "source": [
    "### 2.1创建渔网函数解析"
   ]
  },
  {
   "cell_type": "markdown",
   "id": "b0249c7f",
   "metadata": {},
   "source": [
    "\n",
    "1. 官方帮助文档：[创建渔网 (数据管理)](https://pro.arcgis.com/zh-cn/pro-app/3.0/tool-reference/data-management/create-fishnet.htm)\n",
    "2. 在[《利用ArcGIS_Python制作考虑路况的交通等时圈》](https://cdn.renhai-lab.tech/archives/4.2.14-%E5%AE%9E%E6%93%8D3-%E5%88%A9%E7%94%A8ArcGIS_Python%E5%88%B6%E4%BD%9C%E8%80%83%E8%99%91%E8%B7%AF%E5%86%B5%E7%9A%84%E4%BA%A4%E9%80%9A%E7%AD%89%E6%97%B6%E5%9C%88#3.%E5%88%9B%E5%BB%BA%E6%B8%94%E7%BD%91)文也讲过：点击文章查看, 本文中的代码是在此基础上修改的。关键信息如下：\n",
    "- **a.创建渔网函数的参数**：\n",
    "    - out_feature_class：包含由矩形像元组成的渔网的输出要素类。\n",
    "    - **origin_coord**：矩形框的左下端点为原点\n",
    "    - **y_axis_coord**：此点与原点的连线用于判断旋转的角度 我们不用旋转所以定义为原点正上方的点\n",
    "    - cell_width：网格的宽度\n",
    "    - cell_height：网格的高度\n",
    "    - number_rows：填'0',代表留空，由cell_width和cell_height决定\n",
    "    - number_columns：填'0'，由cell_width和cell_height决定\n",
    "    - corner_coord：填'0'\n",
    "    - **labels**：'LABELS'\n",
    "    - **template**：以空格分隔的坐标字符串 - 将使用指定渔网的范围。坐标以 x-min，y-min，x-max，y-max 的顺序表示。\n",
    "    - geometry_type：生成面\n",
    "- **b.创建渔网返回的结果**：\n",
    "    - out_feature_class：包含由矩形像元组成的渔网的输出要素类。\n",
    "    - out_label：创建一个新的点要素类，其中每个渔网像元中心都具有标注点。如果选中了创建标注点参数（Python 中的 labels = 'LABELS'），则会创建一个新的点要素类，其中每个渔网像元中心都具有标注点。此要素类的名称以 _label 为后缀并与输出要素类相同，且创建于同一位置。"
   ]
  },
  {
   "cell_type": "markdown",
   "id": "f16d6dc6",
   "metadata": {},
   "source": [
    "### 2.2 定义origin_coord和y_axis_coord\n",
    "\n",
    "#### 从shenzhen的shp文件读取出四周边界"
   ]
  },
  {
   "cell_type": "code",
   "execution_count": 4,
   "id": "cb502424",
   "metadata": {
    "ExecuteTime": {
     "end_time": "2023-10-31T14:29:06.416104300Z",
     "start_time": "2023-10-31T14:29:06.330099400Z"
    },
    "collapsed": false
   },
   "outputs": [
    {
     "data": {
      "text/html": [
       "<div>\n",
       "<style scoped>\n",
       "    .dataframe tbody tr th:only-of-type {\n",
       "        vertical-align: middle;\n",
       "    }\n",
       "\n",
       "    .dataframe tbody tr th {\n",
       "        vertical-align: top;\n",
       "    }\n",
       "\n",
       "    .dataframe thead th {\n",
       "        text-align: right;\n",
       "    }\n",
       "</style>\n",
       "<table border=\"1\" class=\"dataframe\">\n",
       "  <thead>\n",
       "    <tr style=\"text-align: right;\">\n",
       "      <th></th>\n",
       "      <th>geometry</th>\n",
       "    </tr>\n",
       "  </thead>\n",
       "  <tbody>\n",
       "    <tr>\n",
       "      <th>0</th>\n",
       "      <td>POLYGON ((872889.114 2479737.909, 872889.114 2...</td>\n",
       "    </tr>\n",
       "  </tbody>\n",
       "</table>\n",
       "</div>"
      ],
      "text/plain": [
       "                                            geometry\n",
       "0  POLYGON ((872889.114 2479737.909, 872889.114 2..."
      ]
     },
     "execution_count": 4,
     "metadata": {},
     "output_type": "execute_result"
    }
   ],
   "source": [
    "from shapely.geometry import box\n",
    "import geopandas as gpd\n",
    "\n",
    "file = r'C:\\Users\\hncdj\\Documents\\Python_\\Python辅助城市研究\\Transportation-data-analysis\\【专题一】出租车GPS数据分析\\第6章-出租车 GPS 数据-时空大数据处理基础\\data\\sz\\sz.shp'\n",
    "shenzhen = gpd.read_file(file, encoding='utf-8', engine='fiona')\n",
    "shenzhen.set_crs(geo_crs, inplace=True)\n",
    "shenzhen.to_crs(transform_crs, inplace=True)\n",
    "# total_bounds返回一个元组，包含最小的x，最小的y，最大的x，最大的y\n",
    "\n",
    "x_min, y_min, x_max, y_max = shenzhen.total_bounds\n",
    "# 创建一个边界框\n",
    "bbox_geometry = box(x_min, y_min, x_max, y_max)\n",
    "# 创建一个GeoDataFrame，将边界框作为几何图形\n",
    "gdf_bbox = gpd.GeoDataFrame({'geometry': bbox_geometry}, index=[0]).set_crs(32649)\n",
    "gdf_bbox"
   ]
  },
  {
   "cell_type": "code",
   "execution_count": 5,
   "id": "9dc28f06",
   "metadata": {
    "ExecuteTime": {
     "end_time": "2023-10-31T14:29:07.176794300Z",
     "start_time": "2023-10-31T14:29:07.116950900Z"
    },
    "collapsed": false
   },
   "outputs": [
    {
     "data": {
      "text/plain": [
       "('782100.025087936  2479737.9085472594', '782100.025087936  2531444.336644171')"
      ]
     },
     "execution_count": 5,
     "metadata": {},
     "output_type": "execute_result"
    }
   ],
   "source": [
    "# 定义origin_coord和y_axis_coord 空格分割\n",
    "origin_coord = f\"{x_min}  {y_min}\"\n",
    "y_axis_coord = f\"{x_min}  {y_max}\"\n",
    "origin_coord, y_axis_coord"
   ]
  },
  {
   "cell_type": "markdown",
   "id": "a0c6e4e0",
   "metadata": {},
   "source": [
    "### arcpy创建渔网"
   ]
  },
  {
   "cell_type": "code",
   "execution_count": 9,
   "id": "29cfe82c",
   "metadata": {
    "ExecuteTime": {
     "end_time": "2023-10-26T06:41:17.316151500Z",
     "start_time": "2023-10-26T06:41:17.301643200Z"
    },
    "collapsed": false
   },
   "outputs": [],
   "source": [
    "scales = 250 # 网格的单元尺度 单位为米"
   ]
  },
  {
   "cell_type": "code",
   "execution_count": 10,
   "id": "1b98f9d1",
   "metadata": {
    "ExecuteTime": {
     "end_time": "2023-10-26T06:41:17.362149900Z",
     "start_time": "2023-10-26T06:41:17.318154400Z"
    },
    "collapsed": false
   },
   "outputs": [
    {
     "data": {
      "text/plain": [
       "'782100.025087936 2479737.9085472594 872889.114095384 2531444.336644171'"
      ]
     },
     "execution_count": 10,
     "metadata": {},
     "output_type": "execute_result"
    }
   ],
   "source": [
    "extent = f\"{x_min} {y_min} {x_max} {y_max}\"\n",
    "extent"
   ]
  },
  {
   "cell_type": "code",
   "execution_count": 12,
   "id": "01449dc3",
   "metadata": {
    "ExecuteTime": {
     "end_time": "2023-10-26T06:41:17.670847600Z",
     "start_time": "2023-10-26T06:41:17.654845800Z"
    },
    "collapsed": false
   },
   "outputs": [],
   "source": [
    "# 设置空间参考对象\n",
    "arcpy.env.outputCoordinateSystem = arcpy.SpatialReference(int(transform_crs))"
   ]
  },
  {
   "cell_type": "code",
   "execution_count": 16,
   "id": "248b56ec",
   "metadata": {
    "ExecuteTime": {
     "end_time": "2023-10-26T06:41:17.696849400Z",
     "start_time": "2023-10-26T06:41:17.667845600Z"
    },
    "collapsed": false
   },
   "outputs": [],
   "source": [
    "out_fcs = 'fishnet250m' # 有bug 不能数字开头"
   ]
  },
  {
   "cell_type": "code",
   "execution_count": 17,
   "id": "caffe9c9",
   "metadata": {
    "ExecuteTime": {
     "end_time": "2023-10-26T06:41:19.983688900Z",
     "start_time": "2023-10-26T06:41:18.676939900Z"
    },
    "collapsed": false
   },
   "outputs": [
    {
     "data": {
      "text/html": [
       "<div class='gpresult'><h2>Messages</h2><div id='messages' data-messages='[\"开始时间: 2023年12月24日 15:51:39\",\"运行 成功，结束时间： 2023年12月24日 15:51:41 (历时: 2.63 秒)\"]' data-show='true'><div id = 'default' /></div></div>"
      ],
      "text/plain": [
       "<Result 'C:\\\\Users\\\\hncdj\\\\Documents\\\\Python_\\\\Python辅助城市研究\\\\Transportation-data-analysis\\\\ArcGIS_Pro-Project\\\\Transportation-data-analysis\\\\Transportation-data-analysis.gdb\\\\fishnet250m'>"
      ]
     },
     "execution_count": 17,
     "metadata": {},
     "output_type": "execute_result"
    }
   ],
   "source": [
    "# 设置工作空间\n",
    "arcpy.management.CreateFishnet(out_feature_class = out_fcs, # 包含由矩形像元组成的渔网的输出要素类。\n",
    "                               origin_coord = origin_coord, # 矩形框的左下端点为原点\n",
    "                               y_axis_coord = y_axis_coord, # 此点与原点的连线用于判断旋转的角度 我们不用旋转所以定义为原点正上方的点\n",
    "                               cell_width = scales, \n",
    "                               cell_height = scales,\n",
    "                               number_rows = \"0\", # 留空，由cell_width和cell_height决定\n",
    "                               number_columns = \"0\", # 留空，由cell_width和cell_height决定\n",
    "                               corner_coord = None, # 对角坐标不填写\n",
    "                               labels = \"LABELS\", \n",
    "                               template = extent, # 以空格分隔的坐标字符串 - 将使用指定渔网的范围。坐标以 x-min，y-min，x-max，y-max 的顺序表示。\n",
    "                               geometry_type = \"POLYGON\" # 生成面\n",
    "                               )"
   ]
  },
  {
   "cell_type": "code",
   "execution_count": 18,
   "id": "156a815d",
   "metadata": {
    "ExecuteTime": {
     "end_time": "2023-10-26T06:41:20.010204900Z",
     "start_time": "2023-10-26T06:41:19.980691200Z"
    },
    "collapsed": false
   },
   "outputs": [],
   "source": [
    "# 定义新产生的点要素的名称\n",
    "out_label = out_fcs + \"_label\""
   ]
  },
  {
   "cell_type": "markdown",
   "id": "f33d4f31",
   "metadata": {},
   "source": [
    "## 3.空间连接\n",
    "\n",
    "geopandas和arcpy都有空间连接的功能，但是geopandas的空间连接功能更强大，而且方便进行数据统计，所以我们使用geopandas的空间连接功能。\n",
    "\n",
    "在选择处理工具的时候，我不喜欢用arcpy的游标进行数据处理，因为arcpy的游标处理数据的速度太慢了，而且代码也不够简洁。所以我更喜欢用geopandas基于dataframe的处理，更强大也更简洁。\n",
    "但是arcpy中提供一些实用的工具，比如同时创建渔网和渔网标注点，这个功能在geopandas中没有，所以我们用arcpy创建渔网，然后用geopandas进行空间连接。另外，制图的时候，我们也会用到ArcGIS Pro，可以实时看到制图的效果，并且渲染效果更好。"
   ]
  },
  {
   "cell_type": "code",
   "execution_count": 19,
   "id": "957bf98a",
   "metadata": {
    "ExecuteTime": {
     "end_time": "2023-10-26T06:41:23.872316Z",
     "start_time": "2023-10-26T06:41:19.996698300Z"
    },
    "collapsed": false
   },
   "outputs": [],
   "source": [
    "# 读取渔网\n",
    "gdf_fishnet = gpd.read_file(filename=gdb, layer=out_fcs)\n",
    "\n",
    "# 读取渔网标注点\n",
    "gdf_fishnet_label = gpd.read_file(filename=gdb, layer=out_label)"
   ]
  },
  {
   "cell_type": "code",
   "execution_count": 20,
   "id": "214a3032",
   "metadata": {
    "ExecuteTime": {
     "end_time": "2023-10-26T06:41:23.887314300Z",
     "start_time": "2023-10-26T06:41:23.868315200Z"
    },
    "collapsed": false
   },
   "outputs": [
    {
     "data": {
      "text/plain": [
       "(75348, 75348)"
      ]
     },
     "execution_count": 20,
     "metadata": {},
     "output_type": "execute_result"
    }
   ],
   "source": [
    "len(gdf_fishnet), len(gdf_fishnet_label)"
   ]
  },
  {
   "cell_type": "code",
   "execution_count": 21,
   "id": "d95ab82a",
   "metadata": {
    "ExecuteTime": {
     "end_time": "2023-10-26T06:41:23.928836300Z",
     "start_time": "2023-10-26T06:41:23.884315Z"
    },
    "collapsed": false
   },
   "outputs": [],
   "source": [
    "# 给渔网和标注点添加id列\n",
    "gdf_fishnet['id'] = gdf_fishnet.index\n",
    "gdf_fishnet_label['id'] = gdf_fishnet_label.index"
   ]
  },
  {
   "cell_type": "code",
   "execution_count": 22,
   "id": "e9d318ff",
   "metadata": {
    "ExecuteTime": {
     "end_time": "2023-10-26T06:41:23.981346400Z",
     "start_time": "2023-10-26T06:41:23.901319100Z"
    },
    "collapsed": false
   },
   "outputs": [
    {
     "data": {
      "text/plain": [
       "'0.14.0'"
      ]
     },
     "execution_count": 22,
     "metadata": {},
     "output_type": "execute_result"
    }
   ],
   "source": [
    "# 查看geopandas的版本\n",
    "gpd.__version__"
   ]
  },
  {
   "cell_type": "markdown",
   "id": "e168eb64",
   "metadata": {},
   "source": [
    "### 空间连接的方法：一种是使用geopandas.GeoDataFrame.sjoin_nearest 空间连接，一种是使用geopandas.GeoDataFrame.sjoin 空间连接\n",
    "\n",
    "- [官方帮助文档](https://geopandas.org/en/latest/docs/user_guide/mergingdata.html#spatial-joins)\n",
    "\n",
    "\n",
    "关键参数：\n",
    "1. predicate 值，这些值在 [Shapely文档](http://shapely.readthedocs.io/en/latest/manual.html#binary-predicates) 中定义：\n",
    "\n",
    "    intersects 相交\n",
    "    \n",
    "    contains 包含\n",
    "    \n",
    "    within 之内\n",
    "    \n",
    "    touches 触摸\n",
    "    \n",
    "    crosses 十字架\n",
    "    \n",
    "    overlaps 重叠\n",
    "how：\n",
    "2. how 参数指定将发生的连接类型以及在结果 GeoDataFrame 中保留哪些几何图形。它接受以下选项：\n",
    "    left ：使用您提供给 GeoDataFrame.sjoin() 的第一个（或 left_df） GeoDataFrame 中的索引；仅保留 left_df 几何列\n",
    "    \n",
    "    right ：使用第二个（或 right_df）的索引；仅保留 right_df 几何列\n",
    "    \n",
    "    inner ：使用两个 GeoDataFrame 索引值的交集；仅保留 left_df 几何列"
   ]
  },
  {
   "cell_type": "code",
   "execution_count": 23,
   "id": "8e9f7d04",
   "metadata": {
    "ExecuteTime": {
     "end_time": "2023-10-26T06:41:24.491206600Z",
     "start_time": "2023-10-26T06:41:23.916836300Z"
    },
    "collapsed": false
   },
   "outputs": [
    {
     "data": {
      "text/plain": [
       "562286"
      ]
     },
     "execution_count": 23,
     "metadata": {},
     "output_type": "execute_result"
    }
   ],
   "source": [
    "# 我们已经有方格网了，直接使用geopandas.GeoDataFrame.sjoin 空间连接, 保留左边的数据，即渔网的数据，然后根据右侧的数据进行计算\n",
    "gdf_fishnet = gpd.sjoin(gdf_fishnet, geo_data, how='left', predicate='intersects') # op参数在将来的版本中将被弃用，并建议您使用predicate参数代替。\n",
    "len(gdf_fishnet)"
   ]
  },
  {
   "cell_type": "code",
   "execution_count": 24,
   "id": "5c8f4f54",
   "metadata": {
    "ExecuteTime": {
     "end_time": "2023-10-26T06:41:24.493179Z",
     "start_time": "2023-10-26T06:41:24.477175600Z"
    },
    "collapsed": false
   },
   "outputs": [
    {
     "data": {
      "text/html": [
       "<div>\n",
       "<style scoped>\n",
       "    .dataframe tbody tr th:only-of-type {\n",
       "        vertical-align: middle;\n",
       "    }\n",
       "\n",
       "    .dataframe tbody tr th {\n",
       "        vertical-align: top;\n",
       "    }\n",
       "\n",
       "    .dataframe thead th {\n",
       "        text-align: right;\n",
       "    }\n",
       "</style>\n",
       "<table border=\"1\" class=\"dataframe\">\n",
       "  <thead>\n",
       "    <tr style=\"text-align: right;\">\n",
       "      <th></th>\n",
       "      <th>Shape_Length</th>\n",
       "      <th>Shape_Area</th>\n",
       "      <th>geometry</th>\n",
       "      <th>id</th>\n",
       "    </tr>\n",
       "  </thead>\n",
       "  <tbody>\n",
       "    <tr>\n",
       "      <th>0</th>\n",
       "      <td>600.0</td>\n",
       "      <td>22500.0</td>\n",
       "      <td>MULTIPOLYGON (((782100.025 2479737.909, 782100...</td>\n",
       "      <td>0</td>\n",
       "    </tr>\n",
       "    <tr>\n",
       "      <th>1</th>\n",
       "      <td>600.0</td>\n",
       "      <td>22500.0</td>\n",
       "      <td>MULTIPOLYGON (((782250.025 2479737.909, 782250...</td>\n",
       "      <td>1</td>\n",
       "    </tr>\n",
       "    <tr>\n",
       "      <th>2</th>\n",
       "      <td>600.0</td>\n",
       "      <td>22500.0</td>\n",
       "      <td>MULTIPOLYGON (((782400.025 2479737.909, 782400...</td>\n",
       "      <td>2</td>\n",
       "    </tr>\n",
       "    <tr>\n",
       "      <th>3</th>\n",
       "      <td>600.0</td>\n",
       "      <td>22500.0</td>\n",
       "      <td>MULTIPOLYGON (((782550.025 2479737.909, 782550...</td>\n",
       "      <td>3</td>\n",
       "    </tr>\n",
       "    <tr>\n",
       "      <th>4</th>\n",
       "      <td>600.0</td>\n",
       "      <td>22500.0</td>\n",
       "      <td>MULTIPOLYGON (((782700.025 2479737.909, 782700...</td>\n",
       "      <td>4</td>\n",
       "    </tr>\n",
       "  </tbody>\n",
       "</table>\n",
       "</div>"
      ],
      "text/plain": [
       "   Shape_Length  Shape_Area  \\\n",
       "0         600.0     22500.0   \n",
       "1         600.0     22500.0   \n",
       "2         600.0     22500.0   \n",
       "3         600.0     22500.0   \n",
       "4         600.0     22500.0   \n",
       "\n",
       "                                            geometry  id  \n",
       "0  MULTIPOLYGON (((782100.025 2479737.909, 782100...   0  \n",
       "1  MULTIPOLYGON (((782250.025 2479737.909, 782250...   1  \n",
       "2  MULTIPOLYGON (((782400.025 2479737.909, 782400...   2  \n",
       "3  MULTIPOLYGON (((782550.025 2479737.909, 782550...   3  \n",
       "4  MULTIPOLYGON (((782700.025 2479737.909, 782700...   4  "
      ]
     },
     "execution_count": 24,
     "metadata": {},
     "output_type": "execute_result"
    }
   ],
   "source": [
    "gdf_fishnet.head()"
   ]
  },
  {
   "cell_type": "code",
   "execution_count": 27,
   "id": "246b614a",
   "metadata": {
    "ExecuteTime": {
     "end_time": "2023-10-26T06:41:24.604382600Z",
     "start_time": "2023-10-26T06:41:24.484176100Z"
    },
    "collapsed": false
   },
   "outputs": [
    {
     "data": {
      "text/html": [
       "<div>\n",
       "<style scoped>\n",
       "    .dataframe tbody tr th:only-of-type {\n",
       "        vertical-align: middle;\n",
       "    }\n",
       "\n",
       "    .dataframe tbody tr th {\n",
       "        vertical-align: top;\n",
       "    }\n",
       "\n",
       "    .dataframe thead th {\n",
       "        text-align: right;\n",
       "    }\n",
       "</style>\n",
       "<table border=\"1\" class=\"dataframe\">\n",
       "  <thead>\n",
       "    <tr style=\"text-align: right;\">\n",
       "      <th></th>\n",
       "      <th>Shape_Length</th>\n",
       "      <th>Shape_Area</th>\n",
       "      <th>geometry</th>\n",
       "      <th>id</th>\n",
       "      <th>index_right</th>\n",
       "      <th>VehicleNum</th>\n",
       "      <th>StartTime</th>\n",
       "      <th>EndTime</th>\n",
       "      <th>StartLng</th>\n",
       "      <th>StartLat</th>\n",
       "      <th>EndLng</th>\n",
       "      <th>EndLat</th>\n",
       "      <th>TripTime</th>\n",
       "      <th>TripDistance</th>\n",
       "    </tr>\n",
       "  </thead>\n",
       "  <tbody>\n",
       "    <tr>\n",
       "      <th>1514</th>\n",
       "      <td>1000.0</td>\n",
       "      <td>62500.0</td>\n",
       "      <td>MULTIPOLYGON (((796600.025 2480737.909, 796600...</td>\n",
       "      <td>1514</td>\n",
       "      <td>311584.0</td>\n",
       "      <td>31830.0</td>\n",
       "      <td>2013-10-22 19:05:17</td>\n",
       "      <td>2013-10-22 19:11:14</td>\n",
       "      <td>113.883034</td>\n",
       "      <td>22.409233</td>\n",
       "      <td>114.057350</td>\n",
       "      <td>22.537216</td>\n",
       "      <td>5.950000</td>\n",
       "      <td>22.862581</td>\n",
       "    </tr>\n",
       "    <tr>\n",
       "      <th>2300</th>\n",
       "      <td>1000.0</td>\n",
       "      <td>62500.0</td>\n",
       "      <td>MULTIPOLYGON (((811100.025 2481237.909, 811100...</td>\n",
       "      <td>2300</td>\n",
       "      <td>310178.0</td>\n",
       "      <td>31784.0</td>\n",
       "      <td>2013-10-22 23:14:30</td>\n",
       "      <td>2013-10-22 23:34:24</td>\n",
       "      <td>114.022903</td>\n",
       "      <td>22.409550</td>\n",
       "      <td>114.147514</td>\n",
       "      <td>22.375467</td>\n",
       "      <td>19.900000</td>\n",
       "      <td>13.375424</td>\n",
       "    </tr>\n",
       "    <tr>\n",
       "      <th>3076</th>\n",
       "      <td>1000.0</td>\n",
       "      <td>62500.0</td>\n",
       "      <td>MULTIPOLYGON (((823100.025 2481737.909, 823100...</td>\n",
       "      <td>3076</td>\n",
       "      <td>310180.0</td>\n",
       "      <td>31784.0</td>\n",
       "      <td>2013-10-22 23:39:12</td>\n",
       "      <td>2013-10-22 23:46:09</td>\n",
       "      <td>114.138580</td>\n",
       "      <td>22.412901</td>\n",
       "      <td>114.107620</td>\n",
       "      <td>22.481182</td>\n",
       "      <td>6.950000</td>\n",
       "      <td>8.205350</td>\n",
       "    </tr>\n",
       "    <tr>\n",
       "      <th>4151</th>\n",
       "      <td>1000.0</td>\n",
       "      <td>62500.0</td>\n",
       "      <td>MULTIPOLYGON (((818850.025 2482487.909, 818850...</td>\n",
       "      <td>4151</td>\n",
       "      <td>311511.0</td>\n",
       "      <td>31827.0</td>\n",
       "      <td>2013-10-22 18:51:32</td>\n",
       "      <td>2013-10-22 19:02:09</td>\n",
       "      <td>114.098000</td>\n",
       "      <td>22.419634</td>\n",
       "      <td>114.020531</td>\n",
       "      <td>22.531816</td>\n",
       "      <td>10.616667</td>\n",
       "      <td>14.760962</td>\n",
       "    </tr>\n",
       "    <tr>\n",
       "      <th>7373</th>\n",
       "      <td>1000.0</td>\n",
       "      <td>62500.0</td>\n",
       "      <td>MULTIPOLYGON (((805350.025 2484737.909, 805350...</td>\n",
       "      <td>7373</td>\n",
       "      <td>382468.0</td>\n",
       "      <td>33801.0</td>\n",
       "      <td>2013-10-22 17:47:56</td>\n",
       "      <td>2013-10-22 18:45:03</td>\n",
       "      <td>113.967171</td>\n",
       "      <td>22.443167</td>\n",
       "      <td>113.949402</td>\n",
       "      <td>22.580584</td>\n",
       "      <td>57.116667</td>\n",
       "      <td>15.326608</td>\n",
       "    </tr>\n",
       "  </tbody>\n",
       "</table>\n",
       "</div>"
      ],
      "text/plain": [
       "      Shape_Length  Shape_Area  \\\n",
       "1514        1000.0     62500.0   \n",
       "2300        1000.0     62500.0   \n",
       "3076        1000.0     62500.0   \n",
       "4151        1000.0     62500.0   \n",
       "7373        1000.0     62500.0   \n",
       "\n",
       "                                               geometry    id  index_right  \\\n",
       "1514  MULTIPOLYGON (((796600.025 2480737.909, 796600...  1514     311584.0   \n",
       "2300  MULTIPOLYGON (((811100.025 2481237.909, 811100...  2300     310178.0   \n",
       "3076  MULTIPOLYGON (((823100.025 2481737.909, 823100...  3076     310180.0   \n",
       "4151  MULTIPOLYGON (((818850.025 2482487.909, 818850...  4151     311511.0   \n",
       "7373  MULTIPOLYGON (((805350.025 2484737.909, 805350...  7373     382468.0   \n",
       "\n",
       "      VehicleNum            StartTime              EndTime    StartLng  \\\n",
       "1514     31830.0  2013-10-22 19:05:17  2013-10-22 19:11:14  113.883034   \n",
       "2300     31784.0  2013-10-22 23:14:30  2013-10-22 23:34:24  114.022903   \n",
       "3076     31784.0  2013-10-22 23:39:12  2013-10-22 23:46:09  114.138580   \n",
       "4151     31827.0  2013-10-22 18:51:32  2013-10-22 19:02:09  114.098000   \n",
       "7373     33801.0  2013-10-22 17:47:56  2013-10-22 18:45:03  113.967171   \n",
       "\n",
       "       StartLat      EndLng     EndLat   TripTime  TripDistance  \n",
       "1514  22.409233  114.057350  22.537216   5.950000     22.862581  \n",
       "2300  22.409550  114.147514  22.375467  19.900000     13.375424  \n",
       "3076  22.412901  114.107620  22.481182   6.950000      8.205350  \n",
       "4151  22.419634  114.020531  22.531816  10.616667     14.760962  \n",
       "7373  22.443167  113.949402  22.580584  57.116667     15.326608  "
      ]
     },
     "execution_count": 27,
     "metadata": {},
     "output_type": "execute_result"
    }
   ],
   "source": [
    "# 扔掉空网格数据\n",
    "gdf_fishnet = gdf_fishnet.dropna(subset=['index_right'])\n",
    "gdf_fishnet.head()"
   ]
  },
  {
   "cell_type": "markdown",
   "id": "bef82a17",
   "metadata": {},
   "source": [
    "## 根据需要计算的字段进行分组"
   ]
  },
  {
   "cell_type": "code",
   "execution_count": null,
   "id": "2cd8594c",
   "metadata": {},
   "outputs": [],
   "source": [
    "# 计算每个网格内的总出行次数\n",
    "gdf_fishnet_trips = gdf_fishnet.groupby('id').size().reset_index(name='trips')\n",
    "gdf_fishnet_trips.head()"
   ]
  },
  {
   "cell_type": "code",
   "execution_count": 28,
   "id": "5bb0b33c",
   "metadata": {
    "ExecuteTime": {
     "end_time": "2023-10-26T06:41:24.619746400Z",
     "start_time": "2023-10-26T06:41:24.548388900Z"
    },
    "collapsed": false
   },
   "outputs": [
    {
     "data": {
      "text/html": [
       "<div>\n",
       "<style scoped>\n",
       "    .dataframe tbody tr th:only-of-type {\n",
       "        vertical-align: middle;\n",
       "    }\n",
       "\n",
       "    .dataframe tbody tr th {\n",
       "        vertical-align: top;\n",
       "    }\n",
       "\n",
       "    .dataframe thead th {\n",
       "        text-align: right;\n",
       "    }\n",
       "</style>\n",
       "<table border=\"1\" class=\"dataframe\">\n",
       "  <thead>\n",
       "    <tr style=\"text-align: right;\">\n",
       "      <th></th>\n",
       "      <th>id</th>\n",
       "      <th>trips</th>\n",
       "    </tr>\n",
       "  </thead>\n",
       "  <tbody>\n",
       "    <tr>\n",
       "      <th>0</th>\n",
       "      <td>1514</td>\n",
       "      <td>0.000234</td>\n",
       "    </tr>\n",
       "    <tr>\n",
       "      <th>1</th>\n",
       "      <td>2300</td>\n",
       "      <td>0.000234</td>\n",
       "    </tr>\n",
       "    <tr>\n",
       "      <th>2</th>\n",
       "      <td>3076</td>\n",
       "      <td>0.000234</td>\n",
       "    </tr>\n",
       "    <tr>\n",
       "      <th>3</th>\n",
       "      <td>4151</td>\n",
       "      <td>0.000234</td>\n",
       "    </tr>\n",
       "    <tr>\n",
       "      <th>4</th>\n",
       "      <td>7373</td>\n",
       "      <td>0.000234</td>\n",
       "    </tr>\n",
       "  </tbody>\n",
       "</table>\n",
       "</div>"
      ],
      "text/plain": [
       "     id     trips\n",
       "0  1514  0.000234\n",
       "1  2300  0.000234\n",
       "2  3076  0.000234\n",
       "3  4151  0.000234\n",
       "4  7373  0.000234"
      ]
     },
     "execution_count": 28,
     "metadata": {},
     "output_type": "execute_result"
    }
   ],
   "source": [
    "# 正则化到0-1\n",
    "gdf_fishnet_trips['trips'] = gdf_fishnet_trips['trips'] / gdf_fishnet_trips['trips'].max()\n",
    "gdf_fishnet_trips.head()\n"
   ]
  },
  {
   "cell_type": "code",
   "execution_count": 29,
   "id": "f04dc694",
   "metadata": {},
   "outputs": [],
   "source": [
    "# 与原始网格数据进行连接\n",
    "trips_250m = gdf_fishnet.merge(gdf_fishnet_trips, on='id', how='left')"
   ]
  },
  {
   "cell_type": "code",
   "execution_count": 31,
   "id": "2181ac33",
   "metadata": {},
   "outputs": [
    {
     "data": {
      "text/html": [
       "<div>\n",
       "<style scoped>\n",
       "    .dataframe tbody tr th:only-of-type {\n",
       "        vertical-align: middle;\n",
       "    }\n",
       "\n",
       "    .dataframe tbody tr th {\n",
       "        vertical-align: top;\n",
       "    }\n",
       "\n",
       "    .dataframe thead th {\n",
       "        text-align: right;\n",
       "    }\n",
       "</style>\n",
       "<table border=\"1\" class=\"dataframe\">\n",
       "  <thead>\n",
       "    <tr style=\"text-align: right;\">\n",
       "      <th></th>\n",
       "      <th>Shape_Length</th>\n",
       "      <th>Shape_Area</th>\n",
       "      <th>geometry</th>\n",
       "      <th>id</th>\n",
       "      <th>index_right</th>\n",
       "      <th>VehicleNum</th>\n",
       "      <th>StartTime</th>\n",
       "      <th>EndTime</th>\n",
       "      <th>StartLng</th>\n",
       "      <th>StartLat</th>\n",
       "      <th>EndLng</th>\n",
       "      <th>EndLat</th>\n",
       "      <th>TripTime</th>\n",
       "      <th>TripDistance</th>\n",
       "      <th>trips</th>\n",
       "    </tr>\n",
       "  </thead>\n",
       "  <tbody>\n",
       "    <tr>\n",
       "      <th>0</th>\n",
       "      <td>1000.0</td>\n",
       "      <td>62500.0</td>\n",
       "      <td>MULTIPOLYGON (((796600.025 2480737.909, 796600...</td>\n",
       "      <td>1514</td>\n",
       "      <td>311584.0</td>\n",
       "      <td>31830.0</td>\n",
       "      <td>2013-10-22 19:05:17</td>\n",
       "      <td>2013-10-22 19:11:14</td>\n",
       "      <td>113.883034</td>\n",
       "      <td>22.409233</td>\n",
       "      <td>114.057350</td>\n",
       "      <td>22.537216</td>\n",
       "      <td>5.950000</td>\n",
       "      <td>22.862581</td>\n",
       "      <td>0.000234</td>\n",
       "    </tr>\n",
       "    <tr>\n",
       "      <th>1</th>\n",
       "      <td>1000.0</td>\n",
       "      <td>62500.0</td>\n",
       "      <td>MULTIPOLYGON (((811100.025 2481237.909, 811100...</td>\n",
       "      <td>2300</td>\n",
       "      <td>310178.0</td>\n",
       "      <td>31784.0</td>\n",
       "      <td>2013-10-22 23:14:30</td>\n",
       "      <td>2013-10-22 23:34:24</td>\n",
       "      <td>114.022903</td>\n",
       "      <td>22.409550</td>\n",
       "      <td>114.147514</td>\n",
       "      <td>22.375467</td>\n",
       "      <td>19.900000</td>\n",
       "      <td>13.375424</td>\n",
       "      <td>0.000234</td>\n",
       "    </tr>\n",
       "    <tr>\n",
       "      <th>2</th>\n",
       "      <td>1000.0</td>\n",
       "      <td>62500.0</td>\n",
       "      <td>MULTIPOLYGON (((823100.025 2481737.909, 823100...</td>\n",
       "      <td>3076</td>\n",
       "      <td>310180.0</td>\n",
       "      <td>31784.0</td>\n",
       "      <td>2013-10-22 23:39:12</td>\n",
       "      <td>2013-10-22 23:46:09</td>\n",
       "      <td>114.138580</td>\n",
       "      <td>22.412901</td>\n",
       "      <td>114.107620</td>\n",
       "      <td>22.481182</td>\n",
       "      <td>6.950000</td>\n",
       "      <td>8.205350</td>\n",
       "      <td>0.000234</td>\n",
       "    </tr>\n",
       "    <tr>\n",
       "      <th>3</th>\n",
       "      <td>1000.0</td>\n",
       "      <td>62500.0</td>\n",
       "      <td>MULTIPOLYGON (((818850.025 2482487.909, 818850...</td>\n",
       "      <td>4151</td>\n",
       "      <td>311511.0</td>\n",
       "      <td>31827.0</td>\n",
       "      <td>2013-10-22 18:51:32</td>\n",
       "      <td>2013-10-22 19:02:09</td>\n",
       "      <td>114.098000</td>\n",
       "      <td>22.419634</td>\n",
       "      <td>114.020531</td>\n",
       "      <td>22.531816</td>\n",
       "      <td>10.616667</td>\n",
       "      <td>14.760962</td>\n",
       "      <td>0.000234</td>\n",
       "    </tr>\n",
       "    <tr>\n",
       "      <th>4</th>\n",
       "      <td>1000.0</td>\n",
       "      <td>62500.0</td>\n",
       "      <td>MULTIPOLYGON (((805350.025 2484737.909, 805350...</td>\n",
       "      <td>7373</td>\n",
       "      <td>382468.0</td>\n",
       "      <td>33801.0</td>\n",
       "      <td>2013-10-22 17:47:56</td>\n",
       "      <td>2013-10-22 18:45:03</td>\n",
       "      <td>113.967171</td>\n",
       "      <td>22.443167</td>\n",
       "      <td>113.949402</td>\n",
       "      <td>22.580584</td>\n",
       "      <td>57.116667</td>\n",
       "      <td>15.326608</td>\n",
       "      <td>0.000234</td>\n",
       "    </tr>\n",
       "  </tbody>\n",
       "</table>\n",
       "</div>"
      ],
      "text/plain": [
       "   Shape_Length  Shape_Area  \\\n",
       "0        1000.0     62500.0   \n",
       "1        1000.0     62500.0   \n",
       "2        1000.0     62500.0   \n",
       "3        1000.0     62500.0   \n",
       "4        1000.0     62500.0   \n",
       "\n",
       "                                            geometry    id  index_right  \\\n",
       "0  MULTIPOLYGON (((796600.025 2480737.909, 796600...  1514     311584.0   \n",
       "1  MULTIPOLYGON (((811100.025 2481237.909, 811100...  2300     310178.0   \n",
       "2  MULTIPOLYGON (((823100.025 2481737.909, 823100...  3076     310180.0   \n",
       "3  MULTIPOLYGON (((818850.025 2482487.909, 818850...  4151     311511.0   \n",
       "4  MULTIPOLYGON (((805350.025 2484737.909, 805350...  7373     382468.0   \n",
       "\n",
       "   VehicleNum            StartTime              EndTime    StartLng  \\\n",
       "0     31830.0  2013-10-22 19:05:17  2013-10-22 19:11:14  113.883034   \n",
       "1     31784.0  2013-10-22 23:14:30  2013-10-22 23:34:24  114.022903   \n",
       "2     31784.0  2013-10-22 23:39:12  2013-10-22 23:46:09  114.138580   \n",
       "3     31827.0  2013-10-22 18:51:32  2013-10-22 19:02:09  114.098000   \n",
       "4     33801.0  2013-10-22 17:47:56  2013-10-22 18:45:03  113.967171   \n",
       "\n",
       "    StartLat      EndLng     EndLat   TripTime  TripDistance     trips  \n",
       "0  22.409233  114.057350  22.537216   5.950000     22.862581  0.000234  \n",
       "1  22.409550  114.147514  22.375467  19.900000     13.375424  0.000234  \n",
       "2  22.412901  114.107620  22.481182   6.950000      8.205350  0.000234  \n",
       "3  22.419634  114.020531  22.531816  10.616667     14.760962  0.000234  \n",
       "4  22.443167  113.949402  22.580584  57.116667     15.326608  0.000234  "
      ]
     },
     "execution_count": 31,
     "metadata": {},
     "output_type": "execute_result"
    }
   ],
   "source": [
    "trips_250m.head()"
   ]
  },
  {
   "cell_type": "code",
   "execution_count": 32,
   "id": "6be890ce",
   "metadata": {},
   "outputs": [
    {
     "data": {
      "text/html": [
       "<div>\n",
       "<style scoped>\n",
       "    .dataframe tbody tr th:only-of-type {\n",
       "        vertical-align: middle;\n",
       "    }\n",
       "\n",
       "    .dataframe tbody tr th {\n",
       "        vertical-align: top;\n",
       "    }\n",
       "\n",
       "    .dataframe thead th {\n",
       "        text-align: right;\n",
       "    }\n",
       "</style>\n",
       "<table border=\"1\" class=\"dataframe\">\n",
       "  <thead>\n",
       "    <tr style=\"text-align: right;\">\n",
       "      <th></th>\n",
       "      <th>id</th>\n",
       "      <th>TripTime</th>\n",
       "      <th>TripDistance</th>\n",
       "      <th>trips</th>\n",
       "    </tr>\n",
       "  </thead>\n",
       "  <tbody>\n",
       "    <tr>\n",
       "      <th>0</th>\n",
       "      <td>1514</td>\n",
       "      <td>5.950000</td>\n",
       "      <td>22.862581</td>\n",
       "      <td>0.000234</td>\n",
       "    </tr>\n",
       "    <tr>\n",
       "      <th>1</th>\n",
       "      <td>2300</td>\n",
       "      <td>19.900000</td>\n",
       "      <td>13.375424</td>\n",
       "      <td>0.000234</td>\n",
       "    </tr>\n",
       "    <tr>\n",
       "      <th>2</th>\n",
       "      <td>3076</td>\n",
       "      <td>6.950000</td>\n",
       "      <td>8.205350</td>\n",
       "      <td>0.000234</td>\n",
       "    </tr>\n",
       "    <tr>\n",
       "      <th>3</th>\n",
       "      <td>4151</td>\n",
       "      <td>10.616667</td>\n",
       "      <td>14.760962</td>\n",
       "      <td>0.000234</td>\n",
       "    </tr>\n",
       "    <tr>\n",
       "      <th>4</th>\n",
       "      <td>7373</td>\n",
       "      <td>57.116667</td>\n",
       "      <td>15.326608</td>\n",
       "      <td>0.000234</td>\n",
       "    </tr>\n",
       "    <tr>\n",
       "      <th>...</th>\n",
       "      <td>...</td>\n",
       "      <td>...</td>\n",
       "      <td>...</td>\n",
       "      <td>...</td>\n",
       "    </tr>\n",
       "    <tr>\n",
       "      <th>495224</th>\n",
       "      <td>74103</td>\n",
       "      <td>36.233333</td>\n",
       "      <td>13.142940</td>\n",
       "      <td>0.000234</td>\n",
       "    </tr>\n",
       "    <tr>\n",
       "      <th>495225</th>\n",
       "      <td>74127</td>\n",
       "      <td>22.033333</td>\n",
       "      <td>13.872942</td>\n",
       "      <td>0.000234</td>\n",
       "    </tr>\n",
       "    <tr>\n",
       "      <th>495226</th>\n",
       "      <td>74300</td>\n",
       "      <td>23.500000</td>\n",
       "      <td>24.437779</td>\n",
       "      <td>0.000234</td>\n",
       "    </tr>\n",
       "    <tr>\n",
       "      <th>495227</th>\n",
       "      <td>74317</td>\n",
       "      <td>8.116667</td>\n",
       "      <td>13.596781</td>\n",
       "      <td>0.000234</td>\n",
       "    </tr>\n",
       "    <tr>\n",
       "      <th>495228</th>\n",
       "      <td>75020</td>\n",
       "      <td>52.266667</td>\n",
       "      <td>34.129194</td>\n",
       "      <td>0.000234</td>\n",
       "    </tr>\n",
       "  </tbody>\n",
       "</table>\n",
       "<p>495229 rows × 4 columns</p>\n",
       "</div>"
      ],
      "text/plain": [
       "           id   TripTime  TripDistance     trips\n",
       "0        1514   5.950000     22.862581  0.000234\n",
       "1        2300  19.900000     13.375424  0.000234\n",
       "2        3076   6.950000      8.205350  0.000234\n",
       "3        4151  10.616667     14.760962  0.000234\n",
       "4        7373  57.116667     15.326608  0.000234\n",
       "...       ...        ...           ...       ...\n",
       "495224  74103  36.233333     13.142940  0.000234\n",
       "495225  74127  22.033333     13.872942  0.000234\n",
       "495226  74300  23.500000     24.437779  0.000234\n",
       "495227  74317   8.116667     13.596781  0.000234\n",
       "495228  75020  52.266667     34.129194  0.000234\n",
       "\n",
       "[495229 rows x 4 columns]"
      ]
     },
     "execution_count": 32,
     "metadata": {},
     "output_type": "execute_result"
    }
   ],
   "source": [
    "cols_to_keep = ['id', 'TripTime', 'TripDistance', 'trips']\n",
    "trips_250m[cols_to_keep]"
   ]
  },
  {
   "cell_type": "markdown",
   "id": "3205dafe",
   "metadata": {},
   "source": []
  },
  {
   "cell_type": "code",
   "execution_count": 33,
   "id": "bb684f35",
   "metadata": {
    "ExecuteTime": {
     "end_time": "2023-10-26T06:41:27.676926600Z",
     "start_time": "2023-10-26T06:41:27.521398Z"
    },
    "collapsed": false
   },
   "outputs": [
    {
     "data": {
      "text/html": [
       "<div>\n",
       "<style scoped>\n",
       "    .dataframe tbody tr th:only-of-type {\n",
       "        vertical-align: middle;\n",
       "    }\n",
       "\n",
       "    .dataframe tbody tr th {\n",
       "        vertical-align: top;\n",
       "    }\n",
       "\n",
       "    .dataframe thead th {\n",
       "        text-align: right;\n",
       "    }\n",
       "</style>\n",
       "<table border=\"1\" class=\"dataframe\">\n",
       "  <thead>\n",
       "    <tr style=\"text-align: right;\">\n",
       "      <th></th>\n",
       "      <th>geometry</th>\n",
       "      <th>id</th>\n",
       "      <th>TripTime</th>\n",
       "      <th>TripDistance</th>\n",
       "      <th>trips</th>\n",
       "    </tr>\n",
       "  </thead>\n",
       "  <tbody>\n",
       "    <tr>\n",
       "      <th>0</th>\n",
       "      <td>POINT (796725.025 2480862.909)</td>\n",
       "      <td>1514</td>\n",
       "      <td>5.950000</td>\n",
       "      <td>22.862581</td>\n",
       "      <td>0.000234</td>\n",
       "    </tr>\n",
       "    <tr>\n",
       "      <th>1</th>\n",
       "      <td>POINT (811225.025 2481362.909)</td>\n",
       "      <td>2300</td>\n",
       "      <td>19.900000</td>\n",
       "      <td>13.375424</td>\n",
       "      <td>0.000234</td>\n",
       "    </tr>\n",
       "    <tr>\n",
       "      <th>2</th>\n",
       "      <td>POINT (823225.025 2481862.909)</td>\n",
       "      <td>3076</td>\n",
       "      <td>6.950000</td>\n",
       "      <td>8.205350</td>\n",
       "      <td>0.000234</td>\n",
       "    </tr>\n",
       "    <tr>\n",
       "      <th>3</th>\n",
       "      <td>POINT (818975.025 2482612.909)</td>\n",
       "      <td>4151</td>\n",
       "      <td>10.616667</td>\n",
       "      <td>14.760962</td>\n",
       "      <td>0.000234</td>\n",
       "    </tr>\n",
       "    <tr>\n",
       "      <th>4</th>\n",
       "      <td>POINT (805475.025 2484862.909)</td>\n",
       "      <td>7373</td>\n",
       "      <td>57.116667</td>\n",
       "      <td>15.326608</td>\n",
       "      <td>0.000234</td>\n",
       "    </tr>\n",
       "    <tr>\n",
       "      <th>...</th>\n",
       "      <td>...</td>\n",
       "      <td>...</td>\n",
       "      <td>...</td>\n",
       "      <td>...</td>\n",
       "      <td>...</td>\n",
       "    </tr>\n",
       "    <tr>\n",
       "      <th>495224</th>\n",
       "      <td>POINT (834975.025 2530612.909)</td>\n",
       "      <td>74103</td>\n",
       "      <td>36.233333</td>\n",
       "      <td>13.142940</td>\n",
       "      <td>0.000234</td>\n",
       "    </tr>\n",
       "    <tr>\n",
       "      <th>495225</th>\n",
       "      <td>POINT (840975.025 2530612.909)</td>\n",
       "      <td>74127</td>\n",
       "      <td>22.033333</td>\n",
       "      <td>13.872942</td>\n",
       "      <td>0.000234</td>\n",
       "    </tr>\n",
       "    <tr>\n",
       "      <th>495226</th>\n",
       "      <td>POINT (793225.025 2530862.909)</td>\n",
       "      <td>74300</td>\n",
       "      <td>23.500000</td>\n",
       "      <td>24.437779</td>\n",
       "      <td>0.000234</td>\n",
       "    </tr>\n",
       "    <tr>\n",
       "      <th>495227</th>\n",
       "      <td>POINT (797475.025 2530862.909)</td>\n",
       "      <td>74317</td>\n",
       "      <td>8.116667</td>\n",
       "      <td>13.596781</td>\n",
       "      <td>0.000234</td>\n",
       "    </tr>\n",
       "    <tr>\n",
       "      <th>495228</th>\n",
       "      <td>POINT (791225.025 2531362.909)</td>\n",
       "      <td>75020</td>\n",
       "      <td>52.266667</td>\n",
       "      <td>34.129194</td>\n",
       "      <td>0.000234</td>\n",
       "    </tr>\n",
       "  </tbody>\n",
       "</table>\n",
       "<p>495229 rows × 5 columns</p>\n",
       "</div>"
      ],
      "text/plain": [
       "                              geometry     id   TripTime  TripDistance  \\\n",
       "0       POINT (796725.025 2480862.909)   1514   5.950000     22.862581   \n",
       "1       POINT (811225.025 2481362.909)   2300  19.900000     13.375424   \n",
       "2       POINT (823225.025 2481862.909)   3076   6.950000      8.205350   \n",
       "3       POINT (818975.025 2482612.909)   4151  10.616667     14.760962   \n",
       "4       POINT (805475.025 2484862.909)   7373  57.116667     15.326608   \n",
       "...                                ...    ...        ...           ...   \n",
       "495224  POINT (834975.025 2530612.909)  74103  36.233333     13.142940   \n",
       "495225  POINT (840975.025 2530612.909)  74127  22.033333     13.872942   \n",
       "495226  POINT (793225.025 2530862.909)  74300  23.500000     24.437779   \n",
       "495227  POINT (797475.025 2530862.909)  74317   8.116667     13.596781   \n",
       "495228  POINT (791225.025 2531362.909)  75020  52.266667     34.129194   \n",
       "\n",
       "           trips  \n",
       "0       0.000234  \n",
       "1       0.000234  \n",
       "2       0.000234  \n",
       "3       0.000234  \n",
       "4       0.000234  \n",
       "...          ...  \n",
       "495224  0.000234  \n",
       "495225  0.000234  \n",
       "495226  0.000234  \n",
       "495227  0.000234  \n",
       "495228  0.000234  \n",
       "\n",
       "[495229 rows x 5 columns]"
      ]
     },
     "execution_count": 33,
     "metadata": {},
     "output_type": "execute_result"
    }
   ],
   "source": [
    "# 我们需要的是点的准确度，所以将渔网的准确度赋值给渔网标注点 并且需要扔掉空值 我们使用merge\n",
    "gdf_fishnet_point = gdf_fishnet_label.merge(trips_250m[cols_to_keep], left_on='id',right_on='id' , how='right')\n",
    "gdf_fishnet_point"
   ]
  },
  {
   "cell_type": "code",
   "execution_count": 34,
   "id": "1a1c67a1",
   "metadata": {
    "ExecuteTime": {
     "end_time": "2023-10-26T04:09:08.702056500Z",
     "start_time": "2023-10-26T04:09:07.795304700Z"
    },
    "collapsed": false
   },
   "outputs": [
    {
     "name": "stderr",
     "output_type": "stream",
     "text": [
      "<ipython-input-34-287389baec70>:3: UserWarning: Column names longer than 10 characters will be truncated when saved to ESRI Shapefile.\n",
      "  gpd.GeoDataFrame(accuracy_points, geometry='geometry').set_crs(transform_crs).to_file(filename=gdb, layer='accuracy_250m_points')\n"
     ]
    }
   ],
   "source": [
    "### 保存点数据\n",
    "accuracy_points = gdf_fishnet_point.drop(columns=['id'])\n",
    "gpd.GeoDataFrame(accuracy_points, geometry='geometry').set_crs(transform_crs).to_file(filename=gdb, layer='accuracy_250m_points')"
   ]
  },
  {
   "cell_type": "markdown",
   "id": "a8b9075f",
   "metadata": {},
   "source": [
    "## ArcGIS Pro制图\n",
    "详见ArcGIS Pro工程"
   ]
  },
  {
   "cell_type": "markdown",
   "id": "94c22916",
   "metadata": {},
   "source": [
    "![](../../5-ArcgisPro工程/阿姆斯特丹全市范围建筑年代预测准确度空间分布图.jpg)"
   ]
  },
  {
   "cell_type": "code",
   "execution_count": null,
   "id": "0c279fbf",
   "metadata": {
    "collapsed": false
   },
   "outputs": [],
   "source": []
  }
 ],
 "metadata": {
  "kernelspec": {
   "display_name": "Python 3",
   "language": "python",
   "name": "python3"
  },
  "language_info": {
   "codemirror_mode": {
    "name": "ipython",
    "version": 3
   },
   "file_extension": ".py",
   "mimetype": "text/x-python",
   "name": "python",
   "nbconvert_exporter": "python",
   "pygments_lexer": "ipython3",
   "version": "3.9.11"
  }
 },
 "nbformat": 4,
 "nbformat_minor": 5
}

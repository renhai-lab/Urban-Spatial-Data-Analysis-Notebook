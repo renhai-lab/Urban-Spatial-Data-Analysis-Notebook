{
 "cells": [
  {
   "cell_type": "markdown",
   "metadata": {
    "collapsed": false
   },
   "source": [
    "# 1.从gps信息中提取OD信息\n",
    "\n",
    "本notebook为自己的学习笔记，想看原始版本请移步：\n",
    "[出租车 GPS 数据——时空大数据处理基础.ipynb](%B3%F6%D7%E2%B3%B5%20GPS%20%CA%FD%BE%DD%A1%AA%A1%AA%CA%B1%BF%D5%B4%F3%CA%FD%BE%DD%B4%A6%C0%ED%BB%F9%B4%A1.ipynb)\n"
   ]
  },
  {
   "cell_type": "markdown",
   "metadata": {
    "collapsed": false
   },
   "source": [
    "## 2.导入数据"
   ]
  },
  {
   "cell_type": "code",
   "execution_count": 1,
   "metadata": {
    "ExecuteTime": {
     "end_time": "2024-04-14T08:34:03.032085Z",
     "start_time": "2024-04-14T08:34:03.029512Z"
    }
   },
   "outputs": [],
   "source": [
    "import pandas as pd"
   ]
  },
  {
   "cell_type": "code",
   "execution_count": 2,
   "metadata": {
    "ExecuteTime": {
     "end_time": "2024-04-14T08:34:04.050450Z",
     "start_time": "2024-04-14T08:34:03.033094Z"
    }
   },
   "outputs": [
    {
     "data": {
      "text/html": [
       "<div>\n",
       "<style scoped>\n",
       "    .dataframe tbody tr th:only-of-type {\n",
       "        vertical-align: middle;\n",
       "    }\n",
       "\n",
       "    .dataframe tbody tr th {\n",
       "        vertical-align: top;\n",
       "    }\n",
       "\n",
       "    .dataframe thead th {\n",
       "        text-align: right;\n",
       "    }\n",
       "</style>\n",
       "<table border=\"1\" class=\"dataframe\">\n",
       "  <thead>\n",
       "    <tr style=\"text-align: right;\">\n",
       "      <th></th>\n",
       "      <th>22271</th>\n",
       "      <th>22:54:04</th>\n",
       "      <th>114.167</th>\n",
       "      <th>22.718398999999998</th>\n",
       "      <th>0</th>\n",
       "      <th>0.1</th>\n",
       "    </tr>\n",
       "  </thead>\n",
       "  <tbody>\n",
       "    <tr>\n",
       "      <th>0</th>\n",
       "      <td>22271</td>\n",
       "      <td>18:26:26</td>\n",
       "      <td>114.190598</td>\n",
       "      <td>22.647800</td>\n",
       "      <td>0</td>\n",
       "      <td>4</td>\n",
       "    </tr>\n",
       "    <tr>\n",
       "      <th>1</th>\n",
       "      <td>22271</td>\n",
       "      <td>18:35:18</td>\n",
       "      <td>114.201401</td>\n",
       "      <td>22.649700</td>\n",
       "      <td>0</td>\n",
       "      <td>0</td>\n",
       "    </tr>\n",
       "    <tr>\n",
       "      <th>2</th>\n",
       "      <td>22271</td>\n",
       "      <td>16:02:46</td>\n",
       "      <td>114.233498</td>\n",
       "      <td>22.725901</td>\n",
       "      <td>0</td>\n",
       "      <td>24</td>\n",
       "    </tr>\n",
       "    <tr>\n",
       "      <th>3</th>\n",
       "      <td>22271</td>\n",
       "      <td>21:41:17</td>\n",
       "      <td>114.233597</td>\n",
       "      <td>22.720900</td>\n",
       "      <td>0</td>\n",
       "      <td>19</td>\n",
       "    </tr>\n",
       "    <tr>\n",
       "      <th>4</th>\n",
       "      <td>22271</td>\n",
       "      <td>15:27:20</td>\n",
       "      <td>114.234001</td>\n",
       "      <td>22.722500</td>\n",
       "      <td>0</td>\n",
       "      <td>0</td>\n",
       "    </tr>\n",
       "  </tbody>\n",
       "</table>\n",
       "</div>"
      ],
      "text/plain": [
       "   22271  22:54:04     114.167  22.718398999999998  0  0.1\n",
       "0  22271  18:26:26  114.190598           22.647800  0    4\n",
       "1  22271  18:35:18  114.201401           22.649700  0    0\n",
       "2  22271  16:02:46  114.233498           22.725901  0   24\n",
       "3  22271  21:41:17  114.233597           22.720900  0   19\n",
       "4  22271  15:27:20  114.234001           22.722500  0    0"
      ]
     },
     "execution_count": 2,
     "metadata": {},
     "output_type": "execute_result"
    }
   ],
   "source": [
    "# 读取数据\n",
    "data = pd.read_csv(\"./data/TaxiData-Sample\")\n",
    "data.head()"
   ]
  },
  {
   "cell_type": "code",
   "execution_count": 3,
   "metadata": {
    "ExecuteTime": {
     "end_time": "2024-04-14T08:34:04.058273Z",
     "start_time": "2024-04-14T08:34:04.051458Z"
    },
    "collapsed": false
   },
   "outputs": [
    {
     "data": {
      "text/html": [
       "<div>\n",
       "<style scoped>\n",
       "    .dataframe tbody tr th:only-of-type {\n",
       "        vertical-align: middle;\n",
       "    }\n",
       "\n",
       "    .dataframe tbody tr th {\n",
       "        vertical-align: top;\n",
       "    }\n",
       "\n",
       "    .dataframe thead th {\n",
       "        text-align: right;\n",
       "    }\n",
       "</style>\n",
       "<table border=\"1\" class=\"dataframe\">\n",
       "  <thead>\n",
       "    <tr style=\"text-align: right;\">\n",
       "      <th></th>\n",
       "      <th>VehicleNum</th>\n",
       "      <th>Time</th>\n",
       "      <th>Lng</th>\n",
       "      <th>Lat</th>\n",
       "      <th>OccupancyStatus</th>\n",
       "      <th>Speed</th>\n",
       "    </tr>\n",
       "  </thead>\n",
       "  <tbody>\n",
       "    <tr>\n",
       "      <th>0</th>\n",
       "      <td>22271</td>\n",
       "      <td>18:26:26</td>\n",
       "      <td>114.190598</td>\n",
       "      <td>22.647800</td>\n",
       "      <td>0</td>\n",
       "      <td>4</td>\n",
       "    </tr>\n",
       "    <tr>\n",
       "      <th>1</th>\n",
       "      <td>22271</td>\n",
       "      <td>18:35:18</td>\n",
       "      <td>114.201401</td>\n",
       "      <td>22.649700</td>\n",
       "      <td>0</td>\n",
       "      <td>0</td>\n",
       "    </tr>\n",
       "    <tr>\n",
       "      <th>2</th>\n",
       "      <td>22271</td>\n",
       "      <td>16:02:46</td>\n",
       "      <td>114.233498</td>\n",
       "      <td>22.725901</td>\n",
       "      <td>0</td>\n",
       "      <td>24</td>\n",
       "    </tr>\n",
       "    <tr>\n",
       "      <th>3</th>\n",
       "      <td>22271</td>\n",
       "      <td>21:41:17</td>\n",
       "      <td>114.233597</td>\n",
       "      <td>22.720900</td>\n",
       "      <td>0</td>\n",
       "      <td>19</td>\n",
       "    </tr>\n",
       "    <tr>\n",
       "      <th>4</th>\n",
       "      <td>22271</td>\n",
       "      <td>15:27:20</td>\n",
       "      <td>114.234001</td>\n",
       "      <td>22.722500</td>\n",
       "      <td>0</td>\n",
       "      <td>0</td>\n",
       "    </tr>\n",
       "  </tbody>\n",
       "</table>\n",
       "</div>"
      ],
      "text/plain": [
       "   VehicleNum      Time         Lng        Lat  OccupancyStatus  Speed\n",
       "0       22271  18:26:26  114.190598  22.647800                0      4\n",
       "1       22271  18:35:18  114.201401  22.649700                0      0\n",
       "2       22271  16:02:46  114.233498  22.725901                0     24\n",
       "3       22271  21:41:17  114.233597  22.720900                0     19\n",
       "4       22271  15:27:20  114.234001  22.722500                0      0"
      ]
     },
     "execution_count": 3,
     "metadata": {},
     "output_type": "execute_result"
    }
   ],
   "source": [
    "# 定义列名 \n",
    "data.columns = ['VehicleNum', 'Time', 'Lng', 'Lat', 'OccupancyStatus', 'Speed'] \n",
    "# OccupancyStatus: 1-with passengers & 0-with passengers;\n",
    "data.head()"
   ]
  },
  {
   "cell_type": "code",
   "execution_count": 4,
   "metadata": {
    "ExecuteTime": {
     "end_time": "2024-04-14T08:34:04.232375Z",
     "start_time": "2024-04-14T08:34:04.059280Z"
    }
   },
   "outputs": [
    {
     "data": {
      "text/plain": [
       "VehicleNum           int64\n",
       "Time                object\n",
       "Lng                float64\n",
       "Lat                float64\n",
       "OccupancyStatus      int64\n",
       "Speed                int64\n",
       "dtype: object"
      ]
     },
     "execution_count": 4,
     "metadata": {},
     "output_type": "execute_result"
    }
   ],
   "source": [
    "# 检查数据类型\n",
    "data.dtypes"
   ]
  },
  {
   "cell_type": "code",
   "execution_count": 5,
   "metadata": {
    "ExecuteTime": {
     "end_time": "2024-04-14T08:34:04.241626Z",
     "start_time": "2024-04-14T08:34:04.233383Z"
    }
   },
   "outputs": [
    {
     "data": {
      "text/plain": [
       "1601306"
      ]
     },
     "execution_count": 5,
     "metadata": {},
     "output_type": "execute_result"
    }
   ],
   "source": [
    "len(data)"
   ]
  },
  {
   "cell_type": "markdown",
   "metadata": {},
   "source": [
    "## 2.数据清洗\n",
    "-   **检查和处理缺失值**:\n",
    "    \n",
    "    -   确定数据中是否存在缺失值。\n",
    "    -   根据需要填充或删除这些缺失值。\n",
    "-   **检查数据类型**:\n",
    "    \n",
    "    -   确保每一列的数据类型适合其数据（例如，时间戳应该是日期时间类型）。\n",
    "-   **去除重复的记录**:\n",
    "    \n",
    "    -   检查数据中是否有重复行，并删除重复的条目。\n",
    "-   **处理异常值**:\n",
    "    \n",
    "    -   检查是否有异常或不合理的数据点，并根据情况进行处理。\n",
    "-   **数据格式化**:\n",
    "    \n",
    "    -   确保数据格式统一，例如日期时间格式统一。\n"
   ]
  },
  {
   "cell_type": "code",
   "execution_count": 6,
   "metadata": {
    "ExecuteTime": {
     "end_time": "2024-04-14T08:34:04.862976Z",
     "start_time": "2024-04-14T08:34:04.242633Z"
    }
   },
   "outputs": [
    {
     "data": {
      "text/plain": [
       "(VehicleNum         0\n",
       " Time               0\n",
       " Lng                0\n",
       " Lat                0\n",
       " OccupancyStatus    0\n",
       " Speed              0\n",
       " dtype: int64,\n",
       " VehicleNum           int64\n",
       " Time                object\n",
       " Lng                float64\n",
       " Lat                float64\n",
       " OccupancyStatus      int64\n",
       " Speed                int64\n",
       " dtype: object,\n",
       " 1)"
      ]
     },
     "execution_count": 6,
     "metadata": {},
     "output_type": "execute_result"
    }
   ],
   "source": [
    "# 检查缺失值\n",
    "missing_values = data.isnull().sum()\n",
    "\n",
    "# 检查数据类型\n",
    "data_types = data.dtypes\n",
    "\n",
    "# 检查重复行\n",
    "duplicate_rows = data.duplicated().sum()\n",
    "\n",
    "# 输出结果\n",
    "missing_values, data_types, duplicate_rows"
   ]
  },
  {
   "cell_type": "code",
   "execution_count": 7,
   "metadata": {
    "ExecuteTime": {
     "end_time": "2024-04-14T08:34:06.512633Z",
     "start_time": "2024-04-14T08:34:04.864984Z"
    }
   },
   "outputs": [
    {
     "data": {
      "text/plain": [
       "dtype('<M8[ns]')"
      ]
     },
     "execution_count": 7,
     "metadata": {},
     "output_type": "execute_result"
    }
   ],
   "source": [
    "# 将时间戳转换为时间格式\n",
    "# 定义一个年月日字符串 由数据源官网可知数据所在日期是2013-10-22\n",
    "default_date_str = '2013-10-22 '\n",
    "\n",
    "# 将时间转换为字符串，并在前面加上默认日期\n",
    "data['Time'] = pd.to_datetime(default_date_str + data['Time'])\n",
    "data['Time'] = pd.to_datetime(data['Time'], format='%Y-%M-%d %H:%M:%S')\n",
    "\n",
    "# 检查数据类型转换后的数据类型\n",
    "data['Time'].dtypes"
   ]
  },
  {
   "cell_type": "code",
   "execution_count": 8,
   "metadata": {
    "ExecuteTime": {
     "end_time": "2024-04-14T08:34:06.554269Z",
     "start_time": "2024-04-14T08:34:06.513641Z"
    }
   },
   "outputs": [
    {
     "data": {
      "text/plain": [
       "VehicleNum                  int64\n",
       "Time               datetime64[ns]\n",
       "Lng                       float64\n",
       "Lat                       float64\n",
       "OccupancyStatus             int64\n",
       "Speed                       int64\n",
       "dtype: object"
      ]
     },
     "execution_count": 8,
     "metadata": {},
     "output_type": "execute_result"
    }
   ],
   "source": [
    "data.dtypes"
   ]
  },
  {
   "cell_type": "code",
   "execution_count": 9,
   "metadata": {
    "ExecuteTime": {
     "end_time": "2024-04-14T08:34:06.604689Z",
     "start_time": "2024-04-14T08:34:06.555275Z"
    }
   },
   "outputs": [
    {
     "data": {
      "text/plain": [
       "(   VehicleNum                Time         Lng        Lat  OccupancyStatus  \\\n",
       " 0       22271 2013-10-22 18:26:26  114.190598  22.647800                0   \n",
       " 1       22271 2013-10-22 18:35:18  114.201401  22.649700                0   \n",
       " 2       22271 2013-10-22 16:02:46  114.233498  22.725901                0   \n",
       " 3       22271 2013-10-22 21:41:17  114.233597  22.720900                0   \n",
       " 4       22271 2013-10-22 15:27:20  114.234001  22.722500                0   \n",
       " \n",
       "    Speed  \n",
       " 0      4  \n",
       " 1      0  \n",
       " 2     24  \n",
       " 3     19  \n",
       " 4      0  ,\n",
       " 1704)"
      ]
     },
     "execution_count": 9,
     "metadata": {},
     "output_type": "execute_result"
    }
   ],
   "source": [
    "# 检查数据的空间范围是否正确\n",
    "\n",
    "# 定义深圳的经纬度范围\n",
    "shenzhen_lng_range = (113.5, 114.8)\n",
    "shenzhen_lat_range = (22.3, 22.9) \n",
    "\n",
    "# 简单的过滤数据\n",
    "data_shenzhen = data[(data['Lng'] >= shenzhen_lng_range[0]) & (data['Lng'] <= shenzhen_lng_range[1]) &\n",
    "                     (data['Lat'] >= shenzhen_lat_range[0]) & (data['Lat'] <= shenzhen_lat_range[1])]\n",
    "\n",
    "# 检查被筛选掉多少数据\n",
    "out_of_range_values_shenzhen = len(data) - len(data_shenzhen)\n",
    "\n",
    "data_shenzhen.head(), out_of_range_values_shenzhen\n"
   ]
  },
  {
   "cell_type": "markdown",
   "metadata": {},
   "source": [
    "## 3.提取行程"
   ]
  },
  {
   "cell_type": "markdown",
   "metadata": {},
   "source": [
    "提取每辆车的每个行程信息，包括每个行程的起点和终点的经纬度以及开始和结束时间。由于 'OccupancyStatus' 用于表示车辆是否载客（1 表示载客，0 表示空载），我们可以利用这个字段来识别行程的开始和结束。\n",
    "\n",
    "一般来说，一个行程的开始可以定义为车辆从空载状态变为载客状态的时刻，而行程的结束则是车辆从载客状态变回空载状态的时刻。因此，我们需要找到每次 'OccupancyStatus' 从 0 变为 1 的点作为行程的开始，以及从 1 变为 0 的点作为行程的结束。\n",
    "\n",
    "我们将按照以下步骤进行操作：\n",
    "\n",
    "对数据进行排序，确保按照每辆车的编号和时间顺序排列。\n",
    "识别每辆车的行程开始和结束点。\n",
    "提取每个行程的相关信息，包括起点和终点的经纬度以及开始和结束时间。\n",
    "现在我将开始进行这些步骤的实现。\n",
    "\n",
    "已经成功提取了每辆车的每个行程信息，包括每个行程的起点和终点经纬度以及开始和结束时间。这些信息被存储在一个新的数据框中，包含以下列：\n",
    "\n",
    "'VehicleNum'：车辆编号\n",
    "'StartTime'：行程开始时间\n",
    "'EndTime'：行程结束时间\n",
    "'StartLng'：行程起点经度\n",
    "'StartLat'：行程起点纬度\n",
    "'EndLng'：行程终点经度\n",
    "'EndLat'：行程终点纬度"
   ]
  },
  {
   "cell_type": "code",
   "execution_count": 10,
   "metadata": {
    "ExecuteTime": {
     "end_time": "2024-04-14T08:34:06.985267Z",
     "start_time": "2024-04-14T08:34:06.605695Z"
    }
   },
   "outputs": [
    {
     "data": {
      "text/html": [
       "<div>\n",
       "<style scoped>\n",
       "    .dataframe tbody tr th:only-of-type {\n",
       "        vertical-align: middle;\n",
       "    }\n",
       "\n",
       "    .dataframe tbody tr th {\n",
       "        vertical-align: top;\n",
       "    }\n",
       "\n",
       "    .dataframe thead th {\n",
       "        text-align: right;\n",
       "    }\n",
       "</style>\n",
       "<table border=\"1\" class=\"dataframe\">\n",
       "  <thead>\n",
       "    <tr style=\"text-align: right;\">\n",
       "      <th></th>\n",
       "      <th>VehicleNum</th>\n",
       "      <th>Time</th>\n",
       "      <th>Lng</th>\n",
       "      <th>Lat</th>\n",
       "      <th>OccupancyStatus</th>\n",
       "      <th>Speed</th>\n",
       "    </tr>\n",
       "  </thead>\n",
       "  <tbody>\n",
       "    <tr>\n",
       "      <th>38</th>\n",
       "      <td>22271</td>\n",
       "      <td>2013-10-22 00:00:49</td>\n",
       "      <td>114.266502</td>\n",
       "      <td>22.728201</td>\n",
       "      <td>0</td>\n",
       "      <td>0</td>\n",
       "    </tr>\n",
       "    <tr>\n",
       "      <th>396</th>\n",
       "      <td>22271</td>\n",
       "      <td>2013-10-22 00:01:48</td>\n",
       "      <td>114.266502</td>\n",
       "      <td>22.728201</td>\n",
       "      <td>0</td>\n",
       "      <td>0</td>\n",
       "    </tr>\n",
       "    <tr>\n",
       "      <th>1412</th>\n",
       "      <td>22271</td>\n",
       "      <td>2013-10-22 00:02:47</td>\n",
       "      <td>114.266502</td>\n",
       "      <td>22.728201</td>\n",
       "      <td>0</td>\n",
       "      <td>0</td>\n",
       "    </tr>\n",
       "    <tr>\n",
       "      <th>243</th>\n",
       "      <td>22271</td>\n",
       "      <td>2013-10-22 00:03:46</td>\n",
       "      <td>114.266502</td>\n",
       "      <td>22.728201</td>\n",
       "      <td>0</td>\n",
       "      <td>0</td>\n",
       "    </tr>\n",
       "    <tr>\n",
       "      <th>246</th>\n",
       "      <td>22271</td>\n",
       "      <td>2013-10-22 00:04:45</td>\n",
       "      <td>114.268898</td>\n",
       "      <td>22.729500</td>\n",
       "      <td>0</td>\n",
       "      <td>11</td>\n",
       "    </tr>\n",
       "  </tbody>\n",
       "</table>\n",
       "</div>"
      ],
      "text/plain": [
       "      VehicleNum                Time         Lng        Lat  OccupancyStatus  \\\n",
       "38         22271 2013-10-22 00:00:49  114.266502  22.728201                0   \n",
       "396        22271 2013-10-22 00:01:48  114.266502  22.728201                0   \n",
       "1412       22271 2013-10-22 00:02:47  114.266502  22.728201                0   \n",
       "243        22271 2013-10-22 00:03:46  114.266502  22.728201                0   \n",
       "246        22271 2013-10-22 00:04:45  114.268898  22.729500                0   \n",
       "\n",
       "      Speed  \n",
       "38        0  \n",
       "396       0  \n",
       "1412      0  \n",
       "243       0  \n",
       "246      11  "
      ]
     },
     "execution_count": 10,
     "metadata": {},
     "output_type": "execute_result"
    }
   ],
   "source": [
    "# 1.数据排序\n",
    "data_sorted = data_shenzhen.sort_values(by=['VehicleNum', 'Time'])\n",
    "data_sorted.head()"
   ]
  },
  {
   "cell_type": "code",
   "execution_count": 11,
   "metadata": {
    "ExecuteTime": {
     "end_time": "2024-04-14T08:34:06.990777Z",
     "start_time": "2024-04-14T08:34:06.986272Z"
    }
   },
   "outputs": [],
   "source": [
    "# 2.准备存储行程信息的新数据框\n",
    "# 创建一个新的 DataFrame，用于存储提取出的行程信息。列包括车辆编号、行程开始和结束时间、起点和终点的经纬度。\n",
    "trips = pd.DataFrame(columns=['VehicleNum', 'StartTime', 'EndTime', 'StartLng', 'StartLat', 'EndLng', 'EndLat', 'Speed'])"
   ]
  },
  {
   "cell_type": "code",
   "execution_count": 12,
   "metadata": {
    "ExecuteTime": {
     "end_time": "2024-04-14T08:35:48.818047Z",
     "start_time": "2024-04-14T08:34:06.991784Z"
    }
   },
   "outputs": [
    {
     "name": "stderr",
     "output_type": "stream",
     "text": [
      "C:\\Users\\hncdj\\AppData\\Local\\Temp\\ipykernel_55784\\415197512.py:32: FutureWarning: The behavior of DataFrame concatenation with empty or all-NA entries is deprecated. In a future version, this will no longer exclude empty or all-NA columns when determining the result dtypes. To retain the old behavior, exclude the relevant entries before the concat operation.\n",
      "  trips = pd.concat([trips, trip_data], ignore_index=True)\n"
     ]
    },
    {
     "data": {
      "text/html": [
       "<div>\n",
       "<style scoped>\n",
       "    .dataframe tbody tr th:only-of-type {\n",
       "        vertical-align: middle;\n",
       "    }\n",
       "\n",
       "    .dataframe tbody tr th {\n",
       "        vertical-align: top;\n",
       "    }\n",
       "\n",
       "    .dataframe thead th {\n",
       "        text-align: right;\n",
       "    }\n",
       "</style>\n",
       "<table border=\"1\" class=\"dataframe\">\n",
       "  <thead>\n",
       "    <tr style=\"text-align: right;\">\n",
       "      <th></th>\n",
       "      <th>VehicleNum</th>\n",
       "      <th>StartTime</th>\n",
       "      <th>EndTime</th>\n",
       "      <th>StartLng</th>\n",
       "      <th>StartLat</th>\n",
       "      <th>EndLng</th>\n",
       "      <th>EndLat</th>\n",
       "      <th>Speed</th>\n",
       "    </tr>\n",
       "  </thead>\n",
       "  <tbody>\n",
       "    <tr>\n",
       "      <th>0</th>\n",
       "      <td>22334</td>\n",
       "      <td>2013-10-22 00:07:57</td>\n",
       "      <td>2013-10-22 00:18:16</td>\n",
       "      <td>114.080498</td>\n",
       "      <td>22.554182</td>\n",
       "      <td>114.084915</td>\n",
       "      <td>22.540850</td>\n",
       "      <td>0</td>\n",
       "    </tr>\n",
       "    <tr>\n",
       "      <th>1</th>\n",
       "      <td>22334</td>\n",
       "      <td>2013-10-22 00:19:05</td>\n",
       "      <td>2013-10-22 00:44:52</td>\n",
       "      <td>114.084915</td>\n",
       "      <td>22.540850</td>\n",
       "      <td>114.056236</td>\n",
       "      <td>22.633383</td>\n",
       "      <td>0</td>\n",
       "    </tr>\n",
       "    <tr>\n",
       "      <th>2</th>\n",
       "      <td>22334</td>\n",
       "      <td>2013-10-22 02:38:52</td>\n",
       "      <td>2013-10-22 02:47:04</td>\n",
       "      <td>114.091637</td>\n",
       "      <td>22.543200</td>\n",
       "      <td>114.093536</td>\n",
       "      <td>22.554382</td>\n",
       "      <td>1</td>\n",
       "    </tr>\n",
       "    <tr>\n",
       "      <th>3</th>\n",
       "      <td>22334</td>\n",
       "      <td>2013-10-22 03:58:57</td>\n",
       "      <td>2013-10-22 04:23:07</td>\n",
       "      <td>114.038818</td>\n",
       "      <td>22.553232</td>\n",
       "      <td>114.052216</td>\n",
       "      <td>22.602118</td>\n",
       "      <td>1</td>\n",
       "    </tr>\n",
       "    <tr>\n",
       "      <th>4</th>\n",
       "      <td>22334</td>\n",
       "      <td>2013-10-22 06:30:19</td>\n",
       "      <td>2013-10-22 06:41:20</td>\n",
       "      <td>114.031250</td>\n",
       "      <td>22.519550</td>\n",
       "      <td>114.067886</td>\n",
       "      <td>22.521299</td>\n",
       "      <td>0</td>\n",
       "    </tr>\n",
       "  </tbody>\n",
       "</table>\n",
       "</div>"
      ],
      "text/plain": [
       "  VehicleNum           StartTime             EndTime    StartLng   StartLat  \\\n",
       "0      22334 2013-10-22 00:07:57 2013-10-22 00:18:16  114.080498  22.554182   \n",
       "1      22334 2013-10-22 00:19:05 2013-10-22 00:44:52  114.084915  22.540850   \n",
       "2      22334 2013-10-22 02:38:52 2013-10-22 02:47:04  114.091637  22.543200   \n",
       "3      22334 2013-10-22 03:58:57 2013-10-22 04:23:07  114.038818  22.553232   \n",
       "4      22334 2013-10-22 06:30:19 2013-10-22 06:41:20  114.031250  22.519550   \n",
       "\n",
       "       EndLng     EndLat Speed  \n",
       "0  114.084915  22.540850     0  \n",
       "1  114.056236  22.633383     0  \n",
       "2  114.093536  22.554382     1  \n",
       "3  114.052216  22.602118     1  \n",
       "4  114.067886  22.521299     0  "
      ]
     },
     "execution_count": 12,
     "metadata": {},
     "output_type": "execute_result"
    }
   ],
   "source": [
    "# 迭代处理每辆车的数据\n",
    "for vehicle in data_sorted['VehicleNum'].unique():\n",
    "    # 为每辆车创建一个子数据集 vehicle_data\n",
    "    vehicle_data = data_sorted[data_sorted['VehicleNum'] == vehicle]\n",
    "    \n",
    "    # 追踪和记录每个行程\n",
    "    trip_start = None\n",
    "    trip_start_lng = None\n",
    "    trip_start_lat = None\n",
    "    previous_status = None\n",
    "\n",
    "    # 4.迭代处理每个行程\n",
    "    for i, row in vehicle_data.iterrows():\n",
    "        if row['OccupancyStatus'] == 1 and previous_status == 0:\n",
    "            # 行程开始\n",
    "            trip_start = row['Time']\n",
    "            trip_start_lng = row['Lng']\n",
    "            trip_start_lat = row['Lat']\n",
    "        \n",
    "        elif row['OccupancyStatus'] == 0 and trip_start is not None:\n",
    "            # 行程结束，添加到 trips 数据框中\n",
    "            trip_data = pd.DataFrame({\n",
    "                'VehicleNum': [int(vehicle_data.iloc[0]['VehicleNum'])],\n",
    "                'StartTime': [trip_start], \n",
    "                'EndTime': [row['Time']], \n",
    "                'StartLng': [trip_start_lng], \n",
    "                'StartLat': [trip_start_lat], \n",
    "                'EndLng': [row['Lng']], \n",
    "                'EndLat': [row['Lat']],\n",
    "                'Speed': [row['Speed']]\n",
    "            })\n",
    "            trips = pd.concat([trips, trip_data], ignore_index=True)\n",
    "                \n",
    "            # 重置追踪变量\n",
    "            trip_start = None\n",
    "            trip_start_lng = None\n",
    "            trip_start_lat = None\n",
    "    \n",
    "        # 更新 previous_status\n",
    "        previous_status = row['OccupancyStatus']\n",
    "\n",
    "# 看看结果\n",
    "trips.head()"
   ]
  },
  {
   "cell_type": "code",
   "execution_count": 13,
   "metadata": {
    "ExecuteTime": {
     "end_time": "2024-04-14T08:35:48.822311Z",
     "start_time": "2024-04-14T08:35:48.819055Z"
    }
   },
   "outputs": [
    {
     "data": {
      "text/plain": [
       "16757"
      ]
     },
     "execution_count": 13,
     "metadata": {},
     "output_type": "execute_result"
    }
   ],
   "source": [
    "len(trips)"
   ]
  },
  {
   "cell_type": "code",
   "execution_count": 14,
   "metadata": {
    "ExecuteTime": {
     "end_time": "2024-04-14T08:37:04.895382Z",
     "start_time": "2024-04-14T08:35:48.823317Z"
    }
   },
   "outputs": [
    {
     "name": "stdout",
     "output_type": "stream",
     "text": [
      "   VehicleNum           StartTime             EndTime    StartLng   StartLat  \\\n",
      "0     22334.0 2013-10-22 00:07:57 2013-10-22 00:18:16  114.080498  22.554182   \n",
      "1     22334.0 2013-10-22 00:19:05 2013-10-22 00:44:52  114.084915  22.540850   \n",
      "2     22334.0 2013-10-22 02:38:52 2013-10-22 02:47:04  114.091637  22.543200   \n",
      "3     22334.0 2013-10-22 03:58:57 2013-10-22 04:23:07  114.038818  22.553232   \n",
      "4     22334.0 2013-10-22 06:30:19 2013-10-22 06:41:20  114.031250  22.519550   \n",
      "\n",
      "       EndLng     EndLat  Speed  \n",
      "0  114.084915  22.540850    0.0  \n",
      "1  114.056236  22.633383    0.0  \n",
      "2  114.093536  22.554382    1.0  \n",
      "3  114.052216  22.602118    1.0  \n",
      "4  114.067886  22.521299    0.0  \n"
     ]
    },
    {
     "name": "stderr",
     "output_type": "stream",
     "text": [
      "C:\\Users\\hncdj\\AppData\\Local\\Temp\\ipykernel_55784\\408182640.py:36: DeprecationWarning: DataFrameGroupBy.apply operated on the grouping columns. This behavior is deprecated, and in a future version of pandas the grouping columns will be excluded from the operation. Either pass `include_groups=False` to exclude the groupings or explicitly select the grouping columns after groupby to silence this warning.\n",
      "  trips = data_sorted.groupby('VehicleNum').apply(extract_trips).reset_index(drop=True)\n"
     ]
    }
   ],
   "source": [
    "# 进一步优化：使用pandas的apply方法能够更快地处理数据\n",
    "\n",
    "# 函数，用于处理每辆车的数据并返回行程信息\n",
    "def extract_trips(vehicle_data):\n",
    "    trips_list = []\n",
    "    trip_start = trip_start_lng = trip_start_lat = None\n",
    "    previous_status = None  # 引入了previous_status变量来存储上一条记录的OccupancyStatus。\n",
    "\n",
    "    for _, row in vehicle_data.iterrows():\n",
    "        # 检测行程开始：前一状态为0，当前状态为1\n",
    "        if row['OccupancyStatus'] == 1 and previous_status == 0:\n",
    "            trip_start = row['Time']\n",
    "            trip_start_lng = row['Lng']\n",
    "            trip_start_lat = row['Lat']\n",
    "        # 检测行程结束：当前状态为0，行程已经开始\n",
    "        elif row['OccupancyStatus'] == 0 and trip_start is not None:\n",
    "            trips_list.append({\n",
    "                'VehicleNum': int(vehicle_data.iloc[0]['VehicleNum']), \n",
    "                'StartTime': trip_start, \n",
    "                'EndTime': row['Time'], \n",
    "                'StartLng': trip_start_lng, \n",
    "                'StartLat': trip_start_lat, \n",
    "                'EndLng': row['Lng'], \n",
    "                'EndLat': row['Lat'],\n",
    "                'Speed': row['Speed']\n",
    "            })\n",
    "            trip_start = trip_start_lng = trip_start_lat = None\n",
    "\n",
    "        # 更新前一状态\n",
    "        previous_status = row['OccupancyStatus']\n",
    "\n",
    "    return pd.DataFrame(trips_list)\n",
    "\n",
    "\n",
    "# 使用 groupby() 和 apply() 处理每辆车的数据\n",
    "trips = data_sorted.groupby('VehicleNum').apply(extract_trips).reset_index(drop=True)\n",
    "\n",
    "# 显示前几行数据\n",
    "print(trips.head())"
   ]
  },
  {
   "cell_type": "code",
   "execution_count": 15,
   "metadata": {
    "ExecuteTime": {
     "end_time": "2024-04-14T08:37:04.907308Z",
     "start_time": "2024-04-14T08:37:04.896393Z"
    }
   },
   "outputs": [
    {
     "data": {
      "text/html": [
       "<div>\n",
       "<style scoped>\n",
       "    .dataframe tbody tr th:only-of-type {\n",
       "        vertical-align: middle;\n",
       "    }\n",
       "\n",
       "    .dataframe tbody tr th {\n",
       "        vertical-align: top;\n",
       "    }\n",
       "\n",
       "    .dataframe thead th {\n",
       "        text-align: right;\n",
       "    }\n",
       "</style>\n",
       "<table border=\"1\" class=\"dataframe\">\n",
       "  <thead>\n",
       "    <tr style=\"text-align: right;\">\n",
       "      <th></th>\n",
       "      <th>VehicleNum</th>\n",
       "      <th>StartTime</th>\n",
       "      <th>EndTime</th>\n",
       "      <th>StartLng</th>\n",
       "      <th>StartLat</th>\n",
       "      <th>EndLng</th>\n",
       "      <th>EndLat</th>\n",
       "      <th>Speed</th>\n",
       "    </tr>\n",
       "  </thead>\n",
       "  <tbody>\n",
       "    <tr>\n",
       "      <th>0</th>\n",
       "      <td>22334.0</td>\n",
       "      <td>2013-10-22 00:07:57</td>\n",
       "      <td>2013-10-22 00:18:16</td>\n",
       "      <td>114.080498</td>\n",
       "      <td>22.554182</td>\n",
       "      <td>114.084915</td>\n",
       "      <td>22.540850</td>\n",
       "      <td>0.0</td>\n",
       "    </tr>\n",
       "    <tr>\n",
       "      <th>1</th>\n",
       "      <td>22334.0</td>\n",
       "      <td>2013-10-22 00:19:05</td>\n",
       "      <td>2013-10-22 00:44:52</td>\n",
       "      <td>114.084915</td>\n",
       "      <td>22.540850</td>\n",
       "      <td>114.056236</td>\n",
       "      <td>22.633383</td>\n",
       "      <td>0.0</td>\n",
       "    </tr>\n",
       "    <tr>\n",
       "      <th>2</th>\n",
       "      <td>22334.0</td>\n",
       "      <td>2013-10-22 02:38:52</td>\n",
       "      <td>2013-10-22 02:47:04</td>\n",
       "      <td>114.091637</td>\n",
       "      <td>22.543200</td>\n",
       "      <td>114.093536</td>\n",
       "      <td>22.554382</td>\n",
       "      <td>1.0</td>\n",
       "    </tr>\n",
       "    <tr>\n",
       "      <th>3</th>\n",
       "      <td>22334.0</td>\n",
       "      <td>2013-10-22 03:58:57</td>\n",
       "      <td>2013-10-22 04:23:07</td>\n",
       "      <td>114.038818</td>\n",
       "      <td>22.553232</td>\n",
       "      <td>114.052216</td>\n",
       "      <td>22.602118</td>\n",
       "      <td>1.0</td>\n",
       "    </tr>\n",
       "    <tr>\n",
       "      <th>4</th>\n",
       "      <td>22334.0</td>\n",
       "      <td>2013-10-22 06:30:19</td>\n",
       "      <td>2013-10-22 06:41:20</td>\n",
       "      <td>114.031250</td>\n",
       "      <td>22.519550</td>\n",
       "      <td>114.067886</td>\n",
       "      <td>22.521299</td>\n",
       "      <td>0.0</td>\n",
       "    </tr>\n",
       "    <tr>\n",
       "      <th>...</th>\n",
       "      <td>...</td>\n",
       "      <td>...</td>\n",
       "      <td>...</td>\n",
       "      <td>...</td>\n",
       "      <td>...</td>\n",
       "      <td>...</td>\n",
       "      <td>...</td>\n",
       "      <td>...</td>\n",
       "    </tr>\n",
       "    <tr>\n",
       "      <th>16752</th>\n",
       "      <td>36805.0</td>\n",
       "      <td>2013-10-22 22:49:12</td>\n",
       "      <td>2013-10-22 22:50:40</td>\n",
       "      <td>114.114365</td>\n",
       "      <td>22.550632</td>\n",
       "      <td>114.115501</td>\n",
       "      <td>22.557983</td>\n",
       "      <td>15.0</td>\n",
       "    </tr>\n",
       "    <tr>\n",
       "      <th>16753</th>\n",
       "      <td>36805.0</td>\n",
       "      <td>2013-10-22 22:52:07</td>\n",
       "      <td>2013-10-22 23:03:12</td>\n",
       "      <td>114.115402</td>\n",
       "      <td>22.558083</td>\n",
       "      <td>114.118484</td>\n",
       "      <td>22.547867</td>\n",
       "      <td>0.0</td>\n",
       "    </tr>\n",
       "    <tr>\n",
       "      <th>16754</th>\n",
       "      <td>36805.0</td>\n",
       "      <td>2013-10-22 23:03:45</td>\n",
       "      <td>2013-10-22 23:20:09</td>\n",
       "      <td>114.118484</td>\n",
       "      <td>22.547867</td>\n",
       "      <td>114.133286</td>\n",
       "      <td>22.617750</td>\n",
       "      <td>23.0</td>\n",
       "    </tr>\n",
       "    <tr>\n",
       "      <th>16755</th>\n",
       "      <td>36805.0</td>\n",
       "      <td>2013-10-22 23:36:19</td>\n",
       "      <td>2013-10-22 23:43:12</td>\n",
       "      <td>114.112968</td>\n",
       "      <td>22.549601</td>\n",
       "      <td>114.089485</td>\n",
       "      <td>22.538918</td>\n",
       "      <td>23.0</td>\n",
       "    </tr>\n",
       "    <tr>\n",
       "      <th>16756</th>\n",
       "      <td>36805.0</td>\n",
       "      <td>2013-10-22 23:46:14</td>\n",
       "      <td>2013-10-22 23:53:36</td>\n",
       "      <td>114.091217</td>\n",
       "      <td>22.540768</td>\n",
       "      <td>114.120354</td>\n",
       "      <td>22.544300</td>\n",
       "      <td>0.0</td>\n",
       "    </tr>\n",
       "  </tbody>\n",
       "</table>\n",
       "<p>16757 rows × 8 columns</p>\n",
       "</div>"
      ],
      "text/plain": [
       "       VehicleNum           StartTime             EndTime    StartLng  \\\n",
       "0         22334.0 2013-10-22 00:07:57 2013-10-22 00:18:16  114.080498   \n",
       "1         22334.0 2013-10-22 00:19:05 2013-10-22 00:44:52  114.084915   \n",
       "2         22334.0 2013-10-22 02:38:52 2013-10-22 02:47:04  114.091637   \n",
       "3         22334.0 2013-10-22 03:58:57 2013-10-22 04:23:07  114.038818   \n",
       "4         22334.0 2013-10-22 06:30:19 2013-10-22 06:41:20  114.031250   \n",
       "...           ...                 ...                 ...         ...   \n",
       "16752     36805.0 2013-10-22 22:49:12 2013-10-22 22:50:40  114.114365   \n",
       "16753     36805.0 2013-10-22 22:52:07 2013-10-22 23:03:12  114.115402   \n",
       "16754     36805.0 2013-10-22 23:03:45 2013-10-22 23:20:09  114.118484   \n",
       "16755     36805.0 2013-10-22 23:36:19 2013-10-22 23:43:12  114.112968   \n",
       "16756     36805.0 2013-10-22 23:46:14 2013-10-22 23:53:36  114.091217   \n",
       "\n",
       "        StartLat      EndLng     EndLat  Speed  \n",
       "0      22.554182  114.084915  22.540850    0.0  \n",
       "1      22.540850  114.056236  22.633383    0.0  \n",
       "2      22.543200  114.093536  22.554382    1.0  \n",
       "3      22.553232  114.052216  22.602118    1.0  \n",
       "4      22.519550  114.067886  22.521299    0.0  \n",
       "...          ...         ...        ...    ...  \n",
       "16752  22.550632  114.115501  22.557983   15.0  \n",
       "16753  22.558083  114.118484  22.547867    0.0  \n",
       "16754  22.547867  114.133286  22.617750   23.0  \n",
       "16755  22.549601  114.089485  22.538918   23.0  \n",
       "16756  22.540768  114.120354  22.544300    0.0  \n",
       "\n",
       "[16757 rows x 8 columns]"
      ]
     },
     "execution_count": 15,
     "metadata": {},
     "output_type": "execute_result"
    }
   ],
   "source": [
    "trips"
   ]
  },
  {
   "cell_type": "code",
   "execution_count": 16,
   "metadata": {
    "ExecuteTime": {
     "end_time": "2024-04-14T08:37:04.911764Z",
     "start_time": "2024-04-14T08:37:04.908317Z"
    }
   },
   "outputs": [
    {
     "data": {
      "text/plain": [
       "16757"
      ]
     },
     "execution_count": 16,
     "metadata": {},
     "output_type": "execute_result"
    }
   ],
   "source": [
    "len(trips)"
   ]
  },
  {
   "cell_type": "code",
   "execution_count": 17,
   "metadata": {
    "ExecuteTime": {
     "end_time": "2024-04-14T08:37:04.916646Z",
     "start_time": "2024-04-14T08:37:04.912770Z"
    }
   },
   "outputs": [
    {
     "data": {
      "text/plain": [
       "dtype('float64')"
      ]
     },
     "execution_count": 17,
     "metadata": {},
     "output_type": "execute_result"
    }
   ],
   "source": [
    "trips['VehicleNum'].dtype"
   ]
  },
  {
   "cell_type": "code",
   "execution_count": 18,
   "metadata": {
    "ExecuteTime": {
     "end_time": "2024-04-14T08:37:04.922421Z",
     "start_time": "2024-04-14T08:37:04.917653Z"
    }
   },
   "outputs": [
    {
     "data": {
      "text/plain": [
       "0        22334\n",
       "1        22334\n",
       "2        22334\n",
       "3        22334\n",
       "4        22334\n",
       "         ...  \n",
       "16752    36805\n",
       "16753    36805\n",
       "16754    36805\n",
       "16755    36805\n",
       "16756    36805\n",
       "Name: VehicleNum, Length: 16757, dtype: int32"
      ]
     },
     "execution_count": 18,
     "metadata": {},
     "output_type": "execute_result"
    }
   ],
   "source": [
    "trips['VehicleNum'].astype(int)"
   ]
  },
  {
   "cell_type": "code",
   "execution_count": 19,
   "metadata": {
    "ExecuteTime": {
     "end_time": "2024-04-14T08:37:04.938727Z",
     "start_time": "2024-04-14T08:37:04.923428Z"
    }
   },
   "outputs": [
    {
     "data": {
      "text/html": [
       "<div>\n",
       "<style scoped>\n",
       "    .dataframe tbody tr th:only-of-type {\n",
       "        vertical-align: middle;\n",
       "    }\n",
       "\n",
       "    .dataframe tbody tr th {\n",
       "        vertical-align: top;\n",
       "    }\n",
       "\n",
       "    .dataframe thead th {\n",
       "        text-align: right;\n",
       "    }\n",
       "</style>\n",
       "<table border=\"1\" class=\"dataframe\">\n",
       "  <thead>\n",
       "    <tr style=\"text-align: right;\">\n",
       "      <th></th>\n",
       "      <th>VehicleNum</th>\n",
       "      <th>StartTime</th>\n",
       "      <th>EndTime</th>\n",
       "      <th>StartLng</th>\n",
       "      <th>StartLat</th>\n",
       "      <th>EndLng</th>\n",
       "      <th>EndLat</th>\n",
       "      <th>Speed</th>\n",
       "    </tr>\n",
       "  </thead>\n",
       "  <tbody>\n",
       "    <tr>\n",
       "      <th>43</th>\n",
       "      <td>22396.0</td>\n",
       "      <td>2013-10-22 00:19:41</td>\n",
       "      <td>2013-10-22 00:23:01</td>\n",
       "      <td>114.013016</td>\n",
       "      <td>22.664818</td>\n",
       "      <td>114.021400</td>\n",
       "      <td>22.663918</td>\n",
       "      <td>25.0</td>\n",
       "    </tr>\n",
       "    <tr>\n",
       "      <th>44</th>\n",
       "      <td>22396.0</td>\n",
       "      <td>2013-10-22 00:41:51</td>\n",
       "      <td>2013-10-22 00:43:44</td>\n",
       "      <td>114.021767</td>\n",
       "      <td>22.640200</td>\n",
       "      <td>114.026070</td>\n",
       "      <td>22.640266</td>\n",
       "      <td>1.0</td>\n",
       "    </tr>\n",
       "    <tr>\n",
       "      <th>45</th>\n",
       "      <td>22396.0</td>\n",
       "      <td>2013-10-22 00:45:44</td>\n",
       "      <td>2013-10-22 00:47:44</td>\n",
       "      <td>114.028099</td>\n",
       "      <td>22.645082</td>\n",
       "      <td>114.030380</td>\n",
       "      <td>22.650017</td>\n",
       "      <td>2.0</td>\n",
       "    </tr>\n",
       "    <tr>\n",
       "      <th>46</th>\n",
       "      <td>22396.0</td>\n",
       "      <td>2013-10-22 01:08:26</td>\n",
       "      <td>2013-10-22 01:16:34</td>\n",
       "      <td>114.034897</td>\n",
       "      <td>22.616301</td>\n",
       "      <td>114.035614</td>\n",
       "      <td>22.646717</td>\n",
       "      <td>42.0</td>\n",
       "    </tr>\n",
       "    <tr>\n",
       "      <th>47</th>\n",
       "      <td>22396.0</td>\n",
       "      <td>2013-10-22 01:26:06</td>\n",
       "      <td>2013-10-22 01:34:48</td>\n",
       "      <td>114.046021</td>\n",
       "      <td>22.641251</td>\n",
       "      <td>114.066048</td>\n",
       "      <td>22.636183</td>\n",
       "      <td>2.0</td>\n",
       "    </tr>\n",
       "    <tr>\n",
       "      <th>48</th>\n",
       "      <td>22396.0</td>\n",
       "      <td>2013-10-22 01:49:28</td>\n",
       "      <td>2013-10-22 01:52:48</td>\n",
       "      <td>114.028580</td>\n",
       "      <td>22.645750</td>\n",
       "      <td>114.033020</td>\n",
       "      <td>22.640667</td>\n",
       "      <td>1.0</td>\n",
       "    </tr>\n",
       "    <tr>\n",
       "      <th>49</th>\n",
       "      <td>22396.0</td>\n",
       "      <td>2013-10-22 02:01:28</td>\n",
       "      <td>2013-10-22 02:13:28</td>\n",
       "      <td>114.029617</td>\n",
       "      <td>22.618883</td>\n",
       "      <td>114.028847</td>\n",
       "      <td>22.650999</td>\n",
       "      <td>49.0</td>\n",
       "    </tr>\n",
       "    <tr>\n",
       "      <th>50</th>\n",
       "      <td>22396.0</td>\n",
       "      <td>2013-10-22 02:16:48</td>\n",
       "      <td>2013-10-22 02:25:28</td>\n",
       "      <td>114.023102</td>\n",
       "      <td>22.658817</td>\n",
       "      <td>114.035400</td>\n",
       "      <td>22.690767</td>\n",
       "      <td>54.0</td>\n",
       "    </tr>\n",
       "    <tr>\n",
       "      <th>51</th>\n",
       "      <td>22396.0</td>\n",
       "      <td>2013-10-22 02:30:08</td>\n",
       "      <td>2013-10-22 02:40:55</td>\n",
       "      <td>114.025146</td>\n",
       "      <td>22.674534</td>\n",
       "      <td>113.954964</td>\n",
       "      <td>22.686899</td>\n",
       "      <td>59.0</td>\n",
       "    </tr>\n",
       "    <tr>\n",
       "      <th>52</th>\n",
       "      <td>22396.0</td>\n",
       "      <td>2013-10-22 04:30:13</td>\n",
       "      <td>2013-10-22 04:38:48</td>\n",
       "      <td>113.888084</td>\n",
       "      <td>22.582767</td>\n",
       "      <td>113.859230</td>\n",
       "      <td>22.612034</td>\n",
       "      <td>81.0</td>\n",
       "    </tr>\n",
       "    <tr>\n",
       "      <th>53</th>\n",
       "      <td>22396.0</td>\n",
       "      <td>2013-10-22 08:01:44</td>\n",
       "      <td>2013-10-22 08:32:24</td>\n",
       "      <td>114.008217</td>\n",
       "      <td>22.658867</td>\n",
       "      <td>114.059570</td>\n",
       "      <td>22.723249</td>\n",
       "      <td>0.0</td>\n",
       "    </tr>\n",
       "    <tr>\n",
       "      <th>54</th>\n",
       "      <td>22396.0</td>\n",
       "      <td>2013-10-22 08:56:24</td>\n",
       "      <td>2013-10-22 09:40:24</td>\n",
       "      <td>114.030685</td>\n",
       "      <td>22.675983</td>\n",
       "      <td>114.044952</td>\n",
       "      <td>22.598433</td>\n",
       "      <td>0.0</td>\n",
       "    </tr>\n",
       "    <tr>\n",
       "      <th>55</th>\n",
       "      <td>22396.0</td>\n",
       "      <td>2013-10-22 09:46:34</td>\n",
       "      <td>2013-10-22 10:10:26</td>\n",
       "      <td>114.044296</td>\n",
       "      <td>22.599600</td>\n",
       "      <td>114.040451</td>\n",
       "      <td>22.656183</td>\n",
       "      <td>24.0</td>\n",
       "    </tr>\n",
       "    <tr>\n",
       "      <th>56</th>\n",
       "      <td>22396.0</td>\n",
       "      <td>2013-10-22 10:11:46</td>\n",
       "      <td>2013-10-22 10:17:06</td>\n",
       "      <td>114.036835</td>\n",
       "      <td>22.653549</td>\n",
       "      <td>114.025467</td>\n",
       "      <td>22.660151</td>\n",
       "      <td>18.0</td>\n",
       "    </tr>\n",
       "    <tr>\n",
       "      <th>57</th>\n",
       "      <td>22396.0</td>\n",
       "      <td>2013-10-22 10:17:46</td>\n",
       "      <td>2013-10-22 10:27:06</td>\n",
       "      <td>114.025719</td>\n",
       "      <td>22.660316</td>\n",
       "      <td>114.025848</td>\n",
       "      <td>22.671967</td>\n",
       "      <td>0.0</td>\n",
       "    </tr>\n",
       "    <tr>\n",
       "      <th>58</th>\n",
       "      <td>22396.0</td>\n",
       "      <td>2013-10-22 10:38:02</td>\n",
       "      <td>2013-10-22 10:51:08</td>\n",
       "      <td>114.025368</td>\n",
       "      <td>22.672117</td>\n",
       "      <td>114.007980</td>\n",
       "      <td>22.674767</td>\n",
       "      <td>0.0</td>\n",
       "    </tr>\n",
       "    <tr>\n",
       "      <th>59</th>\n",
       "      <td>22396.0</td>\n",
       "      <td>2013-10-22 10:53:08</td>\n",
       "      <td>2013-10-22 10:54:28</td>\n",
       "      <td>114.007950</td>\n",
       "      <td>22.674717</td>\n",
       "      <td>114.007385</td>\n",
       "      <td>22.675650</td>\n",
       "      <td>26.0</td>\n",
       "    </tr>\n",
       "    <tr>\n",
       "      <th>60</th>\n",
       "      <td>22396.0</td>\n",
       "      <td>2013-10-22 12:14:28</td>\n",
       "      <td>2013-10-22 12:37:57</td>\n",
       "      <td>113.806602</td>\n",
       "      <td>22.623949</td>\n",
       "      <td>113.852180</td>\n",
       "      <td>22.628416</td>\n",
       "      <td>82.0</td>\n",
       "    </tr>\n",
       "    <tr>\n",
       "      <th>61</th>\n",
       "      <td>22396.0</td>\n",
       "      <td>2013-10-22 17:46:37</td>\n",
       "      <td>2013-10-22 18:04:37</td>\n",
       "      <td>114.004066</td>\n",
       "      <td>22.655567</td>\n",
       "      <td>114.025467</td>\n",
       "      <td>22.674732</td>\n",
       "      <td>8.0</td>\n",
       "    </tr>\n",
       "    <tr>\n",
       "      <th>62</th>\n",
       "      <td>22396.0</td>\n",
       "      <td>2013-10-22 18:05:19</td>\n",
       "      <td>2013-10-22 18:21:59</td>\n",
       "      <td>114.026184</td>\n",
       "      <td>22.673733</td>\n",
       "      <td>114.025917</td>\n",
       "      <td>22.660482</td>\n",
       "      <td>18.0</td>\n",
       "    </tr>\n",
       "    <tr>\n",
       "      <th>63</th>\n",
       "      <td>22396.0</td>\n",
       "      <td>2013-10-22 18:34:39</td>\n",
       "      <td>2013-10-22 18:47:59</td>\n",
       "      <td>114.048019</td>\n",
       "      <td>22.670650</td>\n",
       "      <td>114.028519</td>\n",
       "      <td>22.661051</td>\n",
       "      <td>0.0</td>\n",
       "    </tr>\n",
       "    <tr>\n",
       "      <th>64</th>\n",
       "      <td>22396.0</td>\n",
       "      <td>2013-10-22 18:51:59</td>\n",
       "      <td>2013-10-22 19:05:59</td>\n",
       "      <td>114.025497</td>\n",
       "      <td>22.660400</td>\n",
       "      <td>114.000732</td>\n",
       "      <td>22.654200</td>\n",
       "      <td>6.0</td>\n",
       "    </tr>\n",
       "    <tr>\n",
       "      <th>65</th>\n",
       "      <td>22396.0</td>\n",
       "      <td>2013-10-22 19:06:39</td>\n",
       "      <td>2013-10-22 19:20:41</td>\n",
       "      <td>114.002884</td>\n",
       "      <td>22.654850</td>\n",
       "      <td>114.026497</td>\n",
       "      <td>22.672716</td>\n",
       "      <td>0.0</td>\n",
       "    </tr>\n",
       "    <tr>\n",
       "      <th>66</th>\n",
       "      <td>22396.0</td>\n",
       "      <td>2013-10-22 19:28:01</td>\n",
       "      <td>2013-10-22 20:09:21</td>\n",
       "      <td>114.029053</td>\n",
       "      <td>22.669416</td>\n",
       "      <td>114.016418</td>\n",
       "      <td>22.657801</td>\n",
       "      <td>0.0</td>\n",
       "    </tr>\n",
       "    <tr>\n",
       "      <th>67</th>\n",
       "      <td>22396.0</td>\n",
       "      <td>2013-10-22 20:12:18</td>\n",
       "      <td>2013-10-22 20:21:04</td>\n",
       "      <td>114.020218</td>\n",
       "      <td>22.656467</td>\n",
       "      <td>114.037720</td>\n",
       "      <td>22.652834</td>\n",
       "      <td>0.0</td>\n",
       "    </tr>\n",
       "    <tr>\n",
       "      <th>68</th>\n",
       "      <td>22396.0</td>\n",
       "      <td>2013-10-22 20:21:46</td>\n",
       "      <td>2013-10-22 20:32:26</td>\n",
       "      <td>114.037918</td>\n",
       "      <td>22.652617</td>\n",
       "      <td>114.048103</td>\n",
       "      <td>22.670532</td>\n",
       "      <td>4.0</td>\n",
       "    </tr>\n",
       "    <tr>\n",
       "      <th>69</th>\n",
       "      <td>22396.0</td>\n",
       "      <td>2013-10-22 21:15:06</td>\n",
       "      <td>2013-10-22 21:16:26</td>\n",
       "      <td>113.978233</td>\n",
       "      <td>22.692949</td>\n",
       "      <td>113.979431</td>\n",
       "      <td>22.692818</td>\n",
       "      <td>22.0</td>\n",
       "    </tr>\n",
       "    <tr>\n",
       "      <th>70</th>\n",
       "      <td>22396.0</td>\n",
       "      <td>2013-10-22 21:19:14</td>\n",
       "      <td>2013-10-22 21:43:48</td>\n",
       "      <td>113.988831</td>\n",
       "      <td>22.685432</td>\n",
       "      <td>114.040115</td>\n",
       "      <td>22.655800</td>\n",
       "      <td>42.0</td>\n",
       "    </tr>\n",
       "    <tr>\n",
       "      <th>71</th>\n",
       "      <td>22396.0</td>\n",
       "      <td>2013-10-22 21:47:08</td>\n",
       "      <td>2013-10-22 22:06:28</td>\n",
       "      <td>114.033386</td>\n",
       "      <td>22.656717</td>\n",
       "      <td>114.037483</td>\n",
       "      <td>22.617634</td>\n",
       "      <td>18.0</td>\n",
       "    </tr>\n",
       "    <tr>\n",
       "      <th>72</th>\n",
       "      <td>22396.0</td>\n",
       "      <td>2013-10-22 22:07:08</td>\n",
       "      <td>2013-10-22 23:14:24</td>\n",
       "      <td>114.035767</td>\n",
       "      <td>22.616699</td>\n",
       "      <td>114.024803</td>\n",
       "      <td>22.659782</td>\n",
       "      <td>25.0</td>\n",
       "    </tr>\n",
       "    <tr>\n",
       "      <th>73</th>\n",
       "      <td>22396.0</td>\n",
       "      <td>2013-10-22 23:14:37</td>\n",
       "      <td>2013-10-22 23:15:04</td>\n",
       "      <td>114.024284</td>\n",
       "      <td>22.659100</td>\n",
       "      <td>114.027298</td>\n",
       "      <td>22.661501</td>\n",
       "      <td>32.0</td>\n",
       "    </tr>\n",
       "    <tr>\n",
       "      <th>74</th>\n",
       "      <td>22396.0</td>\n",
       "      <td>2013-10-22 23:17:04</td>\n",
       "      <td>2013-10-22 23:24:26</td>\n",
       "      <td>114.030266</td>\n",
       "      <td>22.659267</td>\n",
       "      <td>114.017586</td>\n",
       "      <td>22.644251</td>\n",
       "      <td>24.0</td>\n",
       "    </tr>\n",
       "    <tr>\n",
       "      <th>75</th>\n",
       "      <td>22396.0</td>\n",
       "      <td>2013-10-22 23:27:46</td>\n",
       "      <td>2013-10-22 23:45:06</td>\n",
       "      <td>114.021553</td>\n",
       "      <td>22.639584</td>\n",
       "      <td>114.018967</td>\n",
       "      <td>22.662434</td>\n",
       "      <td>0.0</td>\n",
       "    </tr>\n",
       "  </tbody>\n",
       "</table>\n",
       "</div>"
      ],
      "text/plain": [
       "    VehicleNum           StartTime             EndTime    StartLng   StartLat  \\\n",
       "43     22396.0 2013-10-22 00:19:41 2013-10-22 00:23:01  114.013016  22.664818   \n",
       "44     22396.0 2013-10-22 00:41:51 2013-10-22 00:43:44  114.021767  22.640200   \n",
       "45     22396.0 2013-10-22 00:45:44 2013-10-22 00:47:44  114.028099  22.645082   \n",
       "46     22396.0 2013-10-22 01:08:26 2013-10-22 01:16:34  114.034897  22.616301   \n",
       "47     22396.0 2013-10-22 01:26:06 2013-10-22 01:34:48  114.046021  22.641251   \n",
       "48     22396.0 2013-10-22 01:49:28 2013-10-22 01:52:48  114.028580  22.645750   \n",
       "49     22396.0 2013-10-22 02:01:28 2013-10-22 02:13:28  114.029617  22.618883   \n",
       "50     22396.0 2013-10-22 02:16:48 2013-10-22 02:25:28  114.023102  22.658817   \n",
       "51     22396.0 2013-10-22 02:30:08 2013-10-22 02:40:55  114.025146  22.674534   \n",
       "52     22396.0 2013-10-22 04:30:13 2013-10-22 04:38:48  113.888084  22.582767   \n",
       "53     22396.0 2013-10-22 08:01:44 2013-10-22 08:32:24  114.008217  22.658867   \n",
       "54     22396.0 2013-10-22 08:56:24 2013-10-22 09:40:24  114.030685  22.675983   \n",
       "55     22396.0 2013-10-22 09:46:34 2013-10-22 10:10:26  114.044296  22.599600   \n",
       "56     22396.0 2013-10-22 10:11:46 2013-10-22 10:17:06  114.036835  22.653549   \n",
       "57     22396.0 2013-10-22 10:17:46 2013-10-22 10:27:06  114.025719  22.660316   \n",
       "58     22396.0 2013-10-22 10:38:02 2013-10-22 10:51:08  114.025368  22.672117   \n",
       "59     22396.0 2013-10-22 10:53:08 2013-10-22 10:54:28  114.007950  22.674717   \n",
       "60     22396.0 2013-10-22 12:14:28 2013-10-22 12:37:57  113.806602  22.623949   \n",
       "61     22396.0 2013-10-22 17:46:37 2013-10-22 18:04:37  114.004066  22.655567   \n",
       "62     22396.0 2013-10-22 18:05:19 2013-10-22 18:21:59  114.026184  22.673733   \n",
       "63     22396.0 2013-10-22 18:34:39 2013-10-22 18:47:59  114.048019  22.670650   \n",
       "64     22396.0 2013-10-22 18:51:59 2013-10-22 19:05:59  114.025497  22.660400   \n",
       "65     22396.0 2013-10-22 19:06:39 2013-10-22 19:20:41  114.002884  22.654850   \n",
       "66     22396.0 2013-10-22 19:28:01 2013-10-22 20:09:21  114.029053  22.669416   \n",
       "67     22396.0 2013-10-22 20:12:18 2013-10-22 20:21:04  114.020218  22.656467   \n",
       "68     22396.0 2013-10-22 20:21:46 2013-10-22 20:32:26  114.037918  22.652617   \n",
       "69     22396.0 2013-10-22 21:15:06 2013-10-22 21:16:26  113.978233  22.692949   \n",
       "70     22396.0 2013-10-22 21:19:14 2013-10-22 21:43:48  113.988831  22.685432   \n",
       "71     22396.0 2013-10-22 21:47:08 2013-10-22 22:06:28  114.033386  22.656717   \n",
       "72     22396.0 2013-10-22 22:07:08 2013-10-22 23:14:24  114.035767  22.616699   \n",
       "73     22396.0 2013-10-22 23:14:37 2013-10-22 23:15:04  114.024284  22.659100   \n",
       "74     22396.0 2013-10-22 23:17:04 2013-10-22 23:24:26  114.030266  22.659267   \n",
       "75     22396.0 2013-10-22 23:27:46 2013-10-22 23:45:06  114.021553  22.639584   \n",
       "\n",
       "        EndLng     EndLat  Speed  \n",
       "43  114.021400  22.663918   25.0  \n",
       "44  114.026070  22.640266    1.0  \n",
       "45  114.030380  22.650017    2.0  \n",
       "46  114.035614  22.646717   42.0  \n",
       "47  114.066048  22.636183    2.0  \n",
       "48  114.033020  22.640667    1.0  \n",
       "49  114.028847  22.650999   49.0  \n",
       "50  114.035400  22.690767   54.0  \n",
       "51  113.954964  22.686899   59.0  \n",
       "52  113.859230  22.612034   81.0  \n",
       "53  114.059570  22.723249    0.0  \n",
       "54  114.044952  22.598433    0.0  \n",
       "55  114.040451  22.656183   24.0  \n",
       "56  114.025467  22.660151   18.0  \n",
       "57  114.025848  22.671967    0.0  \n",
       "58  114.007980  22.674767    0.0  \n",
       "59  114.007385  22.675650   26.0  \n",
       "60  113.852180  22.628416   82.0  \n",
       "61  114.025467  22.674732    8.0  \n",
       "62  114.025917  22.660482   18.0  \n",
       "63  114.028519  22.661051    0.0  \n",
       "64  114.000732  22.654200    6.0  \n",
       "65  114.026497  22.672716    0.0  \n",
       "66  114.016418  22.657801    0.0  \n",
       "67  114.037720  22.652834    0.0  \n",
       "68  114.048103  22.670532    4.0  \n",
       "69  113.979431  22.692818   22.0  \n",
       "70  114.040115  22.655800   42.0  \n",
       "71  114.037483  22.617634   18.0  \n",
       "72  114.024803  22.659782   25.0  \n",
       "73  114.027298  22.661501   32.0  \n",
       "74  114.017586  22.644251   24.0  \n",
       "75  114.018967  22.662434    0.0  "
      ]
     },
     "execution_count": 19,
     "metadata": {},
     "output_type": "execute_result"
    }
   ],
   "source": [
    "# 验证数据\n",
    "# 选择trips的22334号车 \n",
    "trips_22396 = trips[trips['VehicleNum'] == 22396].sort_values(\"EndTime\")\n",
    "trips_22396"
   ]
  },
  {
   "cell_type": "code",
   "execution_count": 20,
   "metadata": {
    "ExecuteTime": {
     "end_time": "2024-04-14T08:37:04.948706Z",
     "start_time": "2024-04-14T08:37:04.939733Z"
    }
   },
   "outputs": [
    {
     "data": {
      "text/html": [
       "<div>\n",
       "<style scoped>\n",
       "    .dataframe tbody tr th:only-of-type {\n",
       "        vertical-align: middle;\n",
       "    }\n",
       "\n",
       "    .dataframe tbody tr th {\n",
       "        vertical-align: top;\n",
       "    }\n",
       "\n",
       "    .dataframe thead th {\n",
       "        text-align: right;\n",
       "    }\n",
       "</style>\n",
       "<table border=\"1\" class=\"dataframe\">\n",
       "  <thead>\n",
       "    <tr style=\"text-align: right;\">\n",
       "      <th></th>\n",
       "      <th>VehicleNum</th>\n",
       "      <th>StartTime</th>\n",
       "      <th>EndTime</th>\n",
       "      <th>StartLng</th>\n",
       "      <th>StartLat</th>\n",
       "      <th>EndLng</th>\n",
       "      <th>EndLat</th>\n",
       "      <th>Speed</th>\n",
       "    </tr>\n",
       "  </thead>\n",
       "  <tbody>\n",
       "    <tr>\n",
       "      <th>0</th>\n",
       "      <td>22334.0</td>\n",
       "      <td>2013-10-22 00:07:57</td>\n",
       "      <td>2013-10-22 00:18:16</td>\n",
       "      <td>114.080498</td>\n",
       "      <td>22.554182</td>\n",
       "      <td>114.084915</td>\n",
       "      <td>22.540850</td>\n",
       "      <td>0.0</td>\n",
       "    </tr>\n",
       "    <tr>\n",
       "      <th>1</th>\n",
       "      <td>22334.0</td>\n",
       "      <td>2013-10-22 00:19:05</td>\n",
       "      <td>2013-10-22 00:44:52</td>\n",
       "      <td>114.084915</td>\n",
       "      <td>22.540850</td>\n",
       "      <td>114.056236</td>\n",
       "      <td>22.633383</td>\n",
       "      <td>0.0</td>\n",
       "    </tr>\n",
       "    <tr>\n",
       "      <th>2</th>\n",
       "      <td>22334.0</td>\n",
       "      <td>2013-10-22 02:38:52</td>\n",
       "      <td>2013-10-22 02:47:04</td>\n",
       "      <td>114.091637</td>\n",
       "      <td>22.543200</td>\n",
       "      <td>114.093536</td>\n",
       "      <td>22.554382</td>\n",
       "      <td>1.0</td>\n",
       "    </tr>\n",
       "    <tr>\n",
       "      <th>3</th>\n",
       "      <td>22334.0</td>\n",
       "      <td>2013-10-22 03:58:57</td>\n",
       "      <td>2013-10-22 04:23:07</td>\n",
       "      <td>114.038818</td>\n",
       "      <td>22.553232</td>\n",
       "      <td>114.052216</td>\n",
       "      <td>22.602118</td>\n",
       "      <td>1.0</td>\n",
       "    </tr>\n",
       "    <tr>\n",
       "      <th>4</th>\n",
       "      <td>22334.0</td>\n",
       "      <td>2013-10-22 06:30:19</td>\n",
       "      <td>2013-10-22 06:41:20</td>\n",
       "      <td>114.031250</td>\n",
       "      <td>22.519550</td>\n",
       "      <td>114.067886</td>\n",
       "      <td>22.521299</td>\n",
       "      <td>0.0</td>\n",
       "    </tr>\n",
       "  </tbody>\n",
       "</table>\n",
       "</div>"
      ],
      "text/plain": [
       "   VehicleNum           StartTime             EndTime    StartLng   StartLat  \\\n",
       "0     22334.0 2013-10-22 00:07:57 2013-10-22 00:18:16  114.080498  22.554182   \n",
       "1     22334.0 2013-10-22 00:19:05 2013-10-22 00:44:52  114.084915  22.540850   \n",
       "2     22334.0 2013-10-22 02:38:52 2013-10-22 02:47:04  114.091637  22.543200   \n",
       "3     22334.0 2013-10-22 03:58:57 2013-10-22 04:23:07  114.038818  22.553232   \n",
       "4     22334.0 2013-10-22 06:30:19 2013-10-22 06:41:20  114.031250  22.519550   \n",
       "\n",
       "       EndLng     EndLat  Speed  \n",
       "0  114.084915  22.540850    0.0  \n",
       "1  114.056236  22.633383    0.0  \n",
       "2  114.093536  22.554382    1.0  \n",
       "3  114.052216  22.602118    1.0  \n",
       "4  114.067886  22.521299    0.0  "
      ]
     },
     "execution_count": 20,
     "metadata": {},
     "output_type": "execute_result"
    }
   ],
   "source": [
    "trips.head()"
   ]
  },
  {
   "cell_type": "markdown",
   "metadata": {
    "collapsed": false
   },
   "source": [
    "## 5.清洗异常数据：行程时间过短 或 起点终点相同"
   ]
  },
  {
   "cell_type": "code",
   "execution_count": 21,
   "metadata": {
    "ExecuteTime": {
     "end_time": "2024-04-14T08:37:04.953697Z",
     "start_time": "2024-04-14T08:37:04.949711Z"
    }
   },
   "outputs": [
    {
     "data": {
      "text/plain": [
       "16757"
      ]
     },
     "execution_count": 21,
     "metadata": {},
     "output_type": "execute_result"
    }
   ],
   "source": [
    "trips2 = trips.copy()\n",
    "len(trips)"
   ]
  },
  {
   "cell_type": "markdown",
   "metadata": {},
   "source": [
    "## 4.计算行程时间"
   ]
  },
  {
   "cell_type": "code",
   "execution_count": 22,
   "metadata": {
    "ExecuteTime": {
     "end_time": "2024-04-14T08:37:04.963683Z",
     "start_time": "2024-04-14T08:37:04.956708Z"
    }
   },
   "outputs": [
    {
     "data": {
      "text/plain": [
       "15963"
      ]
     },
     "execution_count": 22,
     "metadata": {},
     "output_type": "execute_result"
    }
   ],
   "source": [
    "# 计算行程时间\n",
    "trips['TripTime'] = (trips['EndTime'] - trips['StartTime']).dt.total_seconds() / 60 # 分钟\n",
    "# 选择行程时间大于等于1分钟的行程\n",
    "trips = trips[trips['TripTime'] >= 1]\n",
    "len(trips)"
   ]
  },
  {
   "cell_type": "code",
   "execution_count": 23,
   "metadata": {
    "ExecuteTime": {
     "end_time": "2024-04-14T08:37:04.969397Z",
     "start_time": "2024-04-14T08:37:04.964688Z"
    }
   },
   "outputs": [
    {
     "name": "stdout",
     "output_type": "stream",
     "text": [
      "15878\n"
     ]
    }
   ],
   "source": [
    "# 2.起点终点相同\n",
    "# 选择起点终点不相同的行程\n",
    "trips = trips[(trips['StartLng'] != trips['EndLng']) | (trips['StartLat'] != trips['EndLat'])]\n",
    "print(len(trips))"
   ]
  },
  {
   "cell_type": "markdown",
   "metadata": {
    "collapsed": false
   },
   "source": [
    "# 5.计算形成距离"
   ]
  },
  {
   "cell_type": "code",
   "execution_count": 25,
   "metadata": {
    "ExecuteTime": {
     "end_time": "2024-04-14T08:41:57.578599Z",
     "start_time": "2024-04-14T08:41:57.469609Z"
    }
   },
   "outputs": [],
   "source": [
    "# 使用geopy库计算球面距离\n",
    "# 安装库：conda install -c conda-forge geopy\n",
    "# 使用 geodesic 函数计算距离\n",
    "from geopy.distance import geodesic"
   ]
  },
  {
   "cell_type": "code",
   "execution_count": 27,
   "metadata": {
    "ExecuteTime": {
     "end_time": "2024-04-14T08:42:08.379220Z",
     "start_time": "2024-04-14T08:42:06.227113Z"
    }
   },
   "outputs": [],
   "source": [
    "# 使用 geopy 计算距离\n",
    "trips['TripDistance'] = trips.apply(lambda row: geodesic((row['StartLat'], row['StartLng']), (row['EndLat'], row['EndLng'])).km, \n",
    "                                       axis=1)"
   ]
  },
  {
   "cell_type": "code",
   "execution_count": 28,
   "metadata": {
    "ExecuteTime": {
     "end_time": "2024-04-14T08:42:08.385423Z",
     "start_time": "2024-04-14T08:42:08.380225Z"
    }
   },
   "outputs": [
    {
     "data": {
      "text/plain": [
       "0         1.544684\n",
       "1        10.662886\n",
       "2         1.253581\n",
       "3         5.586134\n",
       "4         3.774126\n",
       "           ...    \n",
       "16752     0.822377\n",
       "16753     1.174873\n",
       "16754     7.886999\n",
       "16755     2.689677\n",
       "16756     3.022583\n",
       "Name: TripDistance, Length: 15878, dtype: float64"
      ]
     },
     "execution_count": 28,
     "metadata": {},
     "output_type": "execute_result"
    }
   ],
   "source": [
    "trips['TripDistance']"
   ]
  },
  {
   "cell_type": "code",
   "execution_count": 29,
   "metadata": {
    "ExecuteTime": {
     "end_time": "2024-04-14T08:42:08.528865Z",
     "start_time": "2024-04-14T08:42:08.386428Z"
    }
   },
   "outputs": [],
   "source": [
    "# 保存数据\n",
    "trips.to_csv(\"./data/TaxiOD-Clean.csv\", index=False, header=True)"
   ]
  },
  {
   "cell_type": "code",
   "execution_count": 30,
   "metadata": {
    "ExecuteTime": {
     "end_time": "2024-04-14T08:42:08.594284Z",
     "start_time": "2024-04-14T08:42:08.530221Z"
    },
    "collapsed": false
   },
   "outputs": [],
   "source": [
    "# 或者用Parquet 格式：\n",
    "# Parquet 格式可以有效地存储 datetime 对象，并保留其格式和类型。\n",
    "trips.to_parquet('./data/TaxiOD-Clean.parquet')"
   ]
  },
  {
   "cell_type": "code",
   "execution_count": null,
   "metadata": {
    "collapsed": false
   },
   "outputs": [],
   "source": []
  }
 ],
 "metadata": {
  "kernelspec": {
   "display_name": "geo",
   "language": "python",
   "name": "python3"
  },
  "language_info": {
   "codemirror_mode": {
    "name": "ipython",
    "version": 3
   },
   "file_extension": ".py",
   "mimetype": "text/x-python",
   "name": "python",
   "nbconvert_exporter": "python",
   "pygments_lexer": "ipython3",
   "version": "3.12.2"
  }
 },
 "nbformat": 4,
 "nbformat_minor": 2
}

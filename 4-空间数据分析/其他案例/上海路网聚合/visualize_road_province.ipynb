{
 "cells": [
  {
   "cell_type": "code",
   "execution_count": null,
   "id": "92248f32",
   "metadata": {},
   "outputs": [],
   "source": []
  },
  {
   "cell_type": "code",
   "execution_count": null,
   "id": "12a016d8",
   "metadata": {},
   "outputs": [],
   "source": [
    "import sys\n",
    "import geopandas as gpd\n",
    "import matplotlib.pyplot as plt\n",
    "\n",
    "CENTRAL_DISTRICTS = ['黄浦区', '徐汇区', '长宁区', '静安区', '普陀区', '虹口区', '杨浦区']\n",
    "CENTRAL_DISTRICTS_STR = '、'.join(CENTRAL_DISTRICTS)\n",
    "def main(road_identifier):\n",
    "    # 1. 读取数据（请先在 notebook 中保存 final_gdf）\n",
    "    final_gdf = gpd.read_file(\"data/shanghai_roads_merged.gpkg\", layer=\"matched_roads\")\n",
    "    roads_bg_in_aoi = gpd.read_file(\"data/shanghai_roads_merged.gpkg\", layer=\"merged_roads_in_aoi\")\n",
    "    roads_bg = gpd.read_file(\"data/shanghai_roads_merged.gpkg\", layer=\"all_shanghai_roads\")\n",
    "    aoi_gdf = gpd.read_file(\"data/shanghai_roads_merged.gpkg\", layer=\"shanghai_selected_districts\")\n",
    "\n",
    "    # 2. 根据名字或索引筛选\n",
    "    if road_identifier.isdigit():\n",
    "        target = final_gdf.iloc[int(road_identifier):int(road_identifier)+1]\n",
    "    else:\n",
    "        target = final_gdf[final_gdf[\"name\"] == road_identifier]\n",
    "\n",
    "    if target.empty:\n",
    "        print(f\"未找到道路：{road_identifier}\")\n",
    "        sys.exit(1)\n",
    "\n",
    "    province = target.iloc[0][\"province\"]\n",
    "    print(f\"道路 '{target.iloc[0]['name']}' 属于省份：{province}，准备绘图：\")\n",
    "\n",
    "    # 3. 绘图\n",
    "    plt.rcParams['font.sans-serif'] = ['SimHei', 'DejaVu Sans']\n",
    "    plt.rcParams['axes.unicode_minus'] = False\n",
    "    plt.rcParams['figure.dpi'] = 100\n",
    "    fig, ax = plt.subplots(figsize=(8,8))\n",
    "    # 绘制底图和高亮路段时加上 label\n",
    "    # roads_bg.plot(ax=ax, color=\"lightgray\", linewidth=0.5, alpha=0.5, zorder=1)\n",
    "\n",
    "    aoi_gdf.boundary.plot(\n",
    "        ax=ax, edgecolor=\"black\", linewidth=1.2, zorder=0,\n",
    "        label=f\"上海中心城区({CENTRAL_DISTRICTS_STR})边界\"\n",
    "    )\n",
    "    roads_bg_in_aoi.plot(ax=ax, color=\"lightgray\", linewidth=0.8, alpha=0.8, zorder=1)\n",
    "    target.plot(\n",
    "    ax=ax, color=\"red\", linewidth=3, zorder=2,\n",
    "    label=f\"{target.iloc[0]['name']}\" if len(target) == 1 else \"匹配道路\"\n",
    "    )\n",
    "    \n",
    "\n",
    "    ax.set_title(f\"上海道路路名匹配结果: \\n 道路 '{target.iloc[0]['name']}' 属于省份：{province}\", fontsize=14)\n",
    "    ax.legend(title=\"道路\", fontsize=5)\n",
    "    ax.set_axis_off()\n",
    "    plt.tight_layout()\n",
    "    plt.show()\n",
    "\n",
    "main(\"长乐路\")"
   ]
  },
  {
   "cell_type": "code",
   "execution_count": null,
   "id": "1d6a8bb3",
   "metadata": {},
   "outputs": [],
   "source": []
  }
 ],
 "metadata": {
  "kernelspec": {
   "display_name": "shanghai-road-clustering-analysis",
   "language": "python",
   "name": "python3"
  },
  "language_info": {
   "codemirror_mode": {
    "name": "ipython",
    "version": 3
   },
   "file_extension": ".py",
   "mimetype": "text/x-python",
   "name": "python",
   "nbconvert_exporter": "python",
   "pygments_lexer": "ipython3",
   "version": "3.13.2"
  }
 },
 "nbformat": 4,
 "nbformat_minor": 5
}
